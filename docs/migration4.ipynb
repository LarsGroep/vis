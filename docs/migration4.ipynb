{
 "cells": [
  {
   "cell_type": "markdown",
   "id": "87579872-d518-44ce-a6d9-5095e8dfc77f",
   "metadata": {},
   "source": [
    "## Vervolg"
   ]
  },
  {
   "cell_type": "code",
   "execution_count": 1,
   "id": "19206c23-2edd-423c-950a-5e84ed93ecb9",
   "metadata": {},
   "outputs": [
    {
     "data": {
      "text/html": [
       "        <script type=\"text/javascript\">\n",
       "        window.PlotlyConfig = {MathJaxConfig: 'local'};\n",
       "        if (window.MathJax && window.MathJax.Hub && window.MathJax.Hub.Config) {window.MathJax.Hub.Config({SVG: {font: \"STIX-Web\"}});}\n",
       "        if (typeof require !== 'undefined') {\n",
       "        require.undef(\"plotly\");\n",
       "        requirejs.config({\n",
       "            paths: {\n",
       "                'plotly': ['https://cdn.plot.ly/plotly-2.35.2.min']\n",
       "            }\n",
       "        });\n",
       "        require(['plotly'], function(Plotly) {\n",
       "            window._Plotly = Plotly;\n",
       "        });\n",
       "        }\n",
       "        </script>\n",
       "        "
      ]
     },
     "metadata": {},
     "output_type": "display_data"
    }
   ],
   "source": [
    "import pandas as pd\n",
    "import plotly.express as px\n",
    "import plotly.graph_objs as go\n",
    "from plotly.offline import init_notebook_mode\n",
    "from plotly.subplots import make_subplots\n",
    "init_notebook_mode(connected=True)\n",
    "from IPython.display import display, HTML\n",
    "import json\n",
    "import uuid"
   ]
  },
  {
   "cell_type": "markdown",
   "id": "d987e377-aca9-4a6d-832c-3cba46d1e2e5",
   "metadata": {},
   "source": [
    "### Argument 2: Migratie en leefomstandigheden, landen met de meeste migratie\n",
    "Zoals eerder beargumenteerd is er sprake van migratie bij historische gebeurtenissen wat de leefomstandigheden van een land omlaag haalt, maar is er ook migratie als het land geen historische gebeurtenis ervaart maar gewoon een gemiddelde slechte leefomstandigheden heeft?\n",
    "Daarom zal er verder worden gekeken naar het verband van de levensstandaarden en de migratiecijfers van de top 20 landen met de meeste migratie over de tijdsperiode van onze datasets. De 20 landen die we gaan gebruiken voor verder onderzoek zijn hieronder in de figuur aangegeven."
   ]
  },
  {
   "cell_type": "code",
   "execution_count": 2,
   "id": "3e33c5b0-dbfa-4af5-8385-131fcc1cbf75",
   "metadata": {},
   "outputs": [
    {
     "name": "stdout",
     "output_type": "stream",
     "text": [
      "Requirement already satisfied: xlrd in c:\\users\\larsv\\anaconda3\\lib\\site-packages (2.0.2)\n",
      "Note: you may need to restart the kernel to use updated packages.\n"
     ]
    }
   ],
   "source": [
    "%pip install xlrd"
   ]
  },
  {
   "cell_type": "code",
   "execution_count": 3,
   "id": "07dbba9f-6d4e-4760-99dc-31ecbd6b7c97",
   "metadata": {},
   "outputs": [
    {
     "data": {
      "application/vnd.plotly.v1+json": {
       "config": {
        "plotlyServerURL": "https://plot.ly"
       },
       "data": [
        {
         "hoverinfo": "text",
         "hovertext": [
          "<b>Slovak Republic</b><br>Migrants: 803,720.0<br>Population: 4,068,095.0<br>% Migrated: 19.76%",
          "<b>Israel</b><br>Migrants: 433,622.0<br>Population: 2,114,020.0<br>% Migrated: 20.51%",
          "<b>Azerbaijan</b><br>Migrants: 805,589.0<br>Population: 3,894,500.0<br>% Migrated: 20.69%",
          "<b>Portugal</b><br>Migrants: 1,871,038.0<br>Population: 8,857,716.0<br>% Migrated: 21.12%",
          "<b>Belgium</b><br>Migrants: 1,965,688.0<br>Population: 9,153,489.0<br>% Migrated: 21.47%",
          "<b>Greece</b><br>Migrants: 1,931,612.0<br>Population: 8,331,725.0<br>% Migrated: 23.18%",
          "<b>Togo</b><br>Migrants: 415,032.0<br>Population: 1,673,110.0<br>% Migrated: 24.81%",
          "<b>Jamaica</b><br>Migrants: 418,639.0<br>Population: 1,650,005.0<br>% Migrated: 25.37%",
          "<b>Turkmenistan</b><br>Migrants: 428,349.0<br>Population: 1,643,457.0<br>% Migrated: 26.06%",
          "<b>Rwanda</b><br>Migrants: 810,601.0<br>Population: 3,022,294.0<br>% Migrated: 26.82%",
          "<b>Kazakhstan</b><br>Migrants: 2,656,674.0<br>Population: 9,429,981.0<br>% Migrated: 28.17%",
          "<b>Ukraine</b><br>Migrants: 12,535,630.0<br>Population: 42,824,093.0<br>% Migrated: 29.27%",
          "<b>Ireland</b><br>Migrants: 1,078,540.0<br>Population: 2,828,600.0<br>% Migrated: 38.13%",
          "<b>Poland</b><br>Migrants: 11,370,207.0<br>Population: 29,637,450.0<br>% Migrated: 38.36%",
          "<b>Pakistan</b><br>Migrants: 17,689,430.0<br>Population: 45,709,310.0<br>% Migrated: 38.70%",
          "<b>Moldova</b><br>Migrants: 825,927.0<br>Population: 2,058,020.0<br>% Migrated: 40.13%",
          "<b>Lithuania</b><br>Migrants: 1,148,446.0<br>Population: 2,778,550.0<br>% Migrated: 41.33%",
          "<b>Armenia</b><br>Migrants: 779,847.0<br>Population: 1,863,705.0<br>% Migrated: 41.84%",
          "<b>Belarus</b><br>Migrants: 3,899,584.0<br>Population: 8,198,000.0<br>% Migrated: 47.57%",
          "<b>Puerto Rico</b><br>Migrants: 1,341,184.0<br>Population: 2,358,000.0<br>% Migrated: 56.88%"
         ],
         "marker": {
          "cmax": 38.270520453138666,
          "cmin": 0,
          "color": [
           19.756667432791023,
           20.51172647373251,
           20.685299781743485,
           21.123255701582664,
           21.474740396803885,
           23.183818476966053,
           24.806019926962364,
           25.371983721261447,
           26.06390066792134,
           26.82071962555595,
           28.172633645815402,
           29.272377117245657,
           38.12981687053666,
           38.36432284154001,
           38.69984036074926,
           40.13211727777184,
           41.33256554677799,
           41.843907699984705,
           47.56750426933398,
           56.87803223070399
          ],
          "colorscale": [
           [
            0,
            "#440154"
           ],
           [
            0.1111111111111111,
            "#482878"
           ],
           [
            0.2222222222222222,
            "#3e4989"
           ],
           [
            0.3333333333333333,
            "#31688e"
           ],
           [
            0.4444444444444444,
            "#26828e"
           ],
           [
            0.5555555555555556,
            "#1f9e89"
           ],
           [
            0.6666666666666666,
            "#35b779"
           ],
           [
            0.7777777777777778,
            "#6ece58"
           ],
           [
            0.8888888888888888,
            "#b5de2b"
           ],
           [
            1,
            "#fde725"
           ]
          ]
         },
         "name": "1960",
         "orientation": "h",
         "text": [
          "19.76%",
          "20.51%",
          "20.69%",
          "21.12%",
          "21.47%",
          "23.18%",
          "24.81%",
          "25.37%",
          "26.06%",
          "26.82%",
          "28.17%",
          "29.27%",
          "38.13%",
          "38.36%",
          "38.7%",
          "40.13%",
          "41.33%",
          "41.84%",
          "47.57%",
          "56.88%"
         ],
         "textposition": "auto",
         "type": "bar",
         "visible": true,
         "x": [
          19.756667432791023,
          20.51172647373251,
          20.685299781743485,
          21.123255701582664,
          21.474740396803885,
          23.183818476966053,
          24.806019926962364,
          25.371983721261447,
          26.06390066792134,
          26.82071962555595,
          28.172633645815402,
          29.272377117245657,
          38.12981687053666,
          38.36432284154001,
          38.69984036074926,
          40.13211727777184,
          41.33256554677799,
          41.843907699984705,
          47.56750426933398,
          56.87803223070399
         ],
         "y": [
          "Slovak Republic",
          "Israel",
          "Azerbaijan",
          "Portugal",
          "Belgium",
          "Greece",
          "Togo",
          "Jamaica",
          "Turkmenistan",
          "Rwanda",
          "Kazakhstan",
          "Ukraine",
          "Ireland",
          "Poland",
          "Pakistan",
          "Moldova",
          "Lithuania",
          "Armenia",
          "Belarus",
          "Puerto Rico"
         ]
        },
        {
         "hoverinfo": "text",
         "hovertext": [
          "<b>Algeria</b><br>Migrants: 3,402,165.0<br>Population: 13,783,719.0<br>% Migrated: 24.68%",
          "<b>Estonia</b><br>Migrants: 345,621.0<br>Population: 1,360,076.0<br>% Migrated: 25.41%",
          "<b>Ukraine</b><br>Migrants: 12,725,202.0<br>Population: 47,261,306.0<br>% Migrated: 26.93%",
          "<b>Greece</b><br>Migrants: 2,374,552.0<br>Population: 8,792,806.0<br>% Migrated: 27.01%",
          "<b>Latvia</b><br>Migrants: 644,841.0<br>Population: 2,359,164.0<br>% Migrated: 27.33%",
          "<b>Burkina Faso</b><br>Migrants: 1,588,292.0<br>Population: 5,610,304.0<br>% Migrated: 28.31%",
          "<b>Pakistan</b><br>Migrants: 17,044,428.0<br>Population: 60,166,719.0<br>% Migrated: 28.33%",
          "<b>Jamaica</b><br>Migrants: 543,472.0<br>Population: 1,878,196.0<br>% Migrated: 28.94%",
          "<b>Portugal</b><br>Migrants: 2,568,531.0<br>Population: 8,680,431.0<br>% Migrated: 29.59%",
          "<b>Kazakhstan</b><br>Migrants: 3,704,618.0<br>Population: 12,419,057.0<br>% Migrated: 29.83%",
          "<b>Poland</b><br>Migrants: 10,423,895.0<br>Population: 32,664,300.0<br>% Migrated: 31.91%",
          "<b>Armenia</b><br>Migrants: 855,275.0<br>Population: 2,475,633.0<br>% Migrated: 34.55%",
          "<b>Moldova</b><br>Migrants: 906,959.0<br>Population: 2,437,590.0<br>% Migrated: 37.21%",
          "<b>Lesotho</b><br>Migrants: 387,006.0<br>Population: 1,019,273.0<br>% Migrated: 37.97%",
          "<b>Lithuania</b><br>Migrants: 1,349,788.0<br>Population: 3,139,689.0<br>% Migrated: 42.99%",
          "<b>Eritrea</b><br>Migrants: 543,725.0<br>Population: 1,243,453.0<br>% Migrated: 43.73%",
          "<b>Jordan</b><br>Migrants: 699,934.0<br>Population: 1,565,163.0<br>% Migrated: 44.72%",
          "<b>Belarus</b><br>Migrants: 4,567,013.0<br>Population: 9,040,000.0<br>% Migrated: 50.52%",
          "<b>Puerto Rico</b><br>Migrants: 1,942,981.0<br>Population: 2,718,000.0<br>% Migrated: 71.49%",
          "<b>Ireland</b><br>Migrants: 2,246,669.0<br>Population: 2,957,250.0<br>% Migrated: 75.97%"
         ],
         "marker": {
          "cmax": 37.4737697408921,
          "cmin": 0,
          "color": [
           24.68248953711259,
           25.41188874739353,
           26.925201770767828,
           27.005622550980878,
           27.333453714960044,
           28.31026625295171,
           28.32866455623083,
           28.935851210416804,
           29.589901699581507,
           29.830107068515748,
           31.912194659000804,
           34.54772981294077,
           37.207200554646185,
           37.96882680106311,
           42.99113702025901,
           43.72702466438217,
           44.719559560250275,
           50.520055309734516,
           71.48568800588669,
           75.97156141685689
          ],
          "colorscale": [
           [
            0,
            "#440154"
           ],
           [
            0.1111111111111111,
            "#482878"
           ],
           [
            0.2222222222222222,
            "#3e4989"
           ],
           [
            0.3333333333333333,
            "#31688e"
           ],
           [
            0.4444444444444444,
            "#26828e"
           ],
           [
            0.5555555555555556,
            "#1f9e89"
           ],
           [
            0.6666666666666666,
            "#35b779"
           ],
           [
            0.7777777777777778,
            "#6ece58"
           ],
           [
            0.8888888888888888,
            "#b5de2b"
           ],
           [
            1,
            "#fde725"
           ]
          ]
         },
         "name": "1970",
         "orientation": "h",
         "text": [
          "24.68%",
          "25.41%",
          "26.93%",
          "27.01%",
          "27.33%",
          "28.31%",
          "28.33%",
          "28.94%",
          "29.59%",
          "29.83%",
          "31.91%",
          "34.55%",
          "37.21%",
          "37.97%",
          "42.99%",
          "43.73%",
          "44.72%",
          "50.52%",
          "71.49%",
          "75.97%"
         ],
         "textposition": "auto",
         "type": "bar",
         "visible": false,
         "x": [
          24.68248953711259,
          25.41188874739353,
          26.925201770767828,
          27.005622550980878,
          27.333453714960044,
          28.31026625295171,
          28.32866455623083,
          28.935851210416804,
          29.589901699581507,
          29.830107068515748,
          31.912194659000804,
          34.54772981294077,
          37.207200554646185,
          37.96882680106311,
          42.99113702025901,
          43.72702466438217,
          44.719559560250275,
          50.520055309734516,
          71.48568800588669,
          75.97156141685689
         ],
         "y": [
          "Algeria",
          "Estonia",
          "Ukraine",
          "Greece",
          "Latvia",
          "Burkina Faso",
          "Pakistan",
          "Jamaica",
          "Portugal",
          "Kazakhstan",
          "Poland",
          "Armenia",
          "Moldova",
          "Lesotho",
          "Lithuania",
          "Eritrea",
          "Jordan",
          "Belarus",
          "Puerto Rico",
          "Ireland"
         ]
        },
        {
         "hoverinfo": "text",
         "hovertext": [
          "<b>Azerbaijan</b><br>Migrants: 1,477,265.0<br>Population: 6,160,500.0<br>% Migrated: 23.98%",
          "<b>Greece</b><br>Migrants: 2,366,529.0<br>Population: 9,642,505.0<br>% Migrated: 24.54%",
          "<b>Latvia</b><br>Migrants: 618,379.0<br>Population: 2,511,701.0<br>% Migrated: 24.62%",
          "<b>Georgia</b><br>Migrants: 1,134,883.0<br>Population: 4,467,700.0<br>% Migrated: 25.40%",
          "<b>Ukraine</b><br>Migrants: 12,736,223.0<br>Population: 49,955,152.0<br>% Migrated: 25.50%",
          "<b>Burkina Faso</b><br>Migrants: 1,808,815.0<br>Population: 6,947,900.0<br>% Migrated: 26.03%",
          "<b>Poland</b><br>Migrants: 9,600,733.0<br>Population: 35,574,150.0<br>% Migrated: 26.99%",
          "<b>Kazakhstan</b><br>Migrants: 4,118,173.0<br>Population: 15,152,949.0<br>% Migrated: 27.18%",
          "<b>Armenia</b><br>Migrants: 861,079.0<br>Population: 3,107,415.0<br>% Migrated: 27.71%",
          "<b>Lebanon</b><br>Migrants: 881,132.0<br>Population: 2,944,763.0<br>% Migrated: 29.92%",
          "<b>Lesotho</b><br>Migrants: 437,098.0<br>Population: 1,406,521.0<br>% Migrated: 31.08%",
          "<b>Moldova</b><br>Migrants: 881,014.0<br>Population: 2,708,675.0<br>% Migrated: 32.53%",
          "<b>Lithuania</b><br>Migrants: 1,132,057.0<br>Population: 3,413,202.0<br>% Migrated: 33.17%",
          "<b>Eritrea</b><br>Migrants: 581,111.0<br>Population: 1,605,797.0<br>% Migrated: 36.19%",
          "<b>Portugal</b><br>Migrants: 3,744,028.0<br>Population: 9,766,312.0<br>% Migrated: 38.34%",
          "<b>Jamaica</b><br>Migrants: 853,625.0<br>Population: 2,145,658.0<br>% Migrated: 39.78%",
          "<b>Belarus</b><br>Migrants: 4,639,173.0<br>Population: 9,643,000.0<br>% Migrated: 48.11%",
          "<b>Ireland</b><br>Migrants: 1,823,479.0<br>Population: 3,412,800.0<br>% Migrated: 53.43%",
          "<b>Jordan</b><br>Migrants: 1,256,784.0<br>Population: 2,234,186.0<br>% Migrated: 56.25%",
          "<b>Puerto Rico</b><br>Migrants: 2,322,435.0<br>Population: 3,206,000.0<br>% Migrated: 72.44%"
         ],
         "marker": {
          "cmax": 33.62020569070704,
          "cmin": 0,
          "color": [
           23.979628276925574,
           24.542678484480952,
           24.61992888484736,
           25.40195178727309,
           25.495314277093982,
           26.03398149081017,
           26.987947709221444,
           27.177369896777186,
           27.71046030221261,
           29.922000514133057,
           31.07653565072971,
           32.52564445716079,
           33.16700857435335,
           36.18832268337779,
           38.33614981786369,
           39.78383321107092,
           48.1092294928964,
           53.43058485700891,
           56.25243377230007,
           72.44026824703681
          ],
          "colorscale": [
           [
            0,
            "#440154"
           ],
           [
            0.1111111111111111,
            "#482878"
           ],
           [
            0.2222222222222222,
            "#3e4989"
           ],
           [
            0.3333333333333333,
            "#31688e"
           ],
           [
            0.4444444444444444,
            "#26828e"
           ],
           [
            0.5555555555555556,
            "#1f9e89"
           ],
           [
            0.6666666666666666,
            "#35b779"
           ],
           [
            0.7777777777777778,
            "#6ece58"
           ],
           [
            0.8888888888888888,
            "#b5de2b"
           ],
           [
            1,
            "#fde725"
           ]
          ]
         },
         "name": "1980",
         "orientation": "h",
         "text": [
          "23.98%",
          "24.54%",
          "24.62%",
          "25.4%",
          "25.5%",
          "26.03%",
          "26.99%",
          "27.18%",
          "27.71%",
          "29.92%",
          "31.08%",
          "32.53%",
          "33.17%",
          "36.19%",
          "38.34%",
          "39.78%",
          "48.11%",
          "53.43%",
          "56.25%",
          "72.44%"
         ],
         "textposition": "auto",
         "type": "bar",
         "visible": false,
         "x": [
          23.979628276925574,
          24.542678484480952,
          24.61992888484736,
          25.40195178727309,
          25.495314277093982,
          26.03398149081017,
          26.987947709221444,
          27.177369896777186,
          27.71046030221261,
          29.922000514133057,
          31.07653565072971,
          32.52564445716079,
          33.16700857435335,
          36.18832268337779,
          38.33614981786369,
          39.78383321107092,
          48.1092294928964,
          53.43058485700891,
          56.25243377230007,
          72.44026824703681
         ],
         "y": [
          "Azerbaijan",
          "Greece",
          "Latvia",
          "Georgia",
          "Ukraine",
          "Burkina Faso",
          "Poland",
          "Kazakhstan",
          "Armenia",
          "Lebanon",
          "Lesotho",
          "Moldova",
          "Lithuania",
          "Eritrea",
          "Portugal",
          "Jamaica",
          "Belarus",
          "Ireland",
          "Jordan",
          "Puerto Rico"
         ]
        },
        {
         "hoverinfo": "text",
         "hovertext": [
          "<b>Armenia</b><br>Migrants: 940,667.0<br>Population: 3,552,128.0<br>% Migrated: 26.48%",
          "<b>Ukraine</b><br>Migrants: 14,357,496.0<br>Population: 52,054,092.0<br>% Migrated: 27.58%",
          "<b>Azerbaijan</b><br>Migrants: 2,033,808.0<br>Population: 7,175,200.0<br>% Migrated: 28.34%",
          "<b>Lithuania</b><br>Migrants: 1,178,272.0<br>Population: 3,697,838.0<br>% Migrated: 31.86%",
          "<b>Eritrea</b><br>Migrants: 651,007.0<br>Population: 2,032,737.0<br>% Migrated: 32.03%",
          "<b>Kazakhstan</b><br>Migrants: 5,578,190.0<br>Population: 17,154,054.0<br>% Migrated: 32.52%",
          "<b>Lebanon</b><br>Migrants: 1,198,245.0<br>Population: 3,595,175.0<br>% Migrated: 33.33%",
          "<b>Kuwait</b><br>Migrants: 562,113.0<br>Population: 1,684,819.0<br>% Migrated: 33.36%",
          "<b>Trinidad and Tobago</b><br>Migrants: 418,566.0<br>Population: 1,252,208.0<br>% Migrated: 33.43%",
          "<b>Portugal</b><br>Migrants: 3,561,515.0<br>Population: 9,983,218.0<br>% Migrated: 35.68%",
          "<b>Georgia</b><br>Migrants: 1,720,094.0<br>Population: 4,802,000.0<br>% Migrated: 35.82%",
          "<b>Lesotho</b><br>Migrants: 657,076.0<br>Population: 1,809,696.0<br>% Migrated: 36.31%",
          "<b>Bosnia and Herzegovina</b><br>Migrants: 1,655,460.0<br>Population: 4,448,652.0<br>% Migrated: 37.21%",
          "<b>Moldova</b><br>Migrants: 1,187,737.0<br>Population: 2,977,912.0<br>% Migrated: 39.88%",
          "<b>Belarus</b><br>Migrants: 5,058,853.0<br>Population: 10,189,348.0<br>% Migrated: 49.65%",
          "<b>Jamaica</b><br>Migrants: 1,263,827.0<br>Population: 2,379,877.0<br>% Migrated: 53.10%",
          "<b>Jordan</b><br>Migrants: 1,958,881.0<br>Population: 3,621,908.0<br>% Migrated: 54.08%",
          "<b>Ireland</b><br>Migrants: 1,927,868.0<br>Population: 3,513,974.0<br>% Migrated: 54.86%",
          "<b>West Bank and Gaza</b><br>Migrants: 1,582,365.0<br>Population: 1,978,248.0<br>% Migrated: 79.99%",
          "<b>Puerto Rico</b><br>Migrants: 2,906,426.0<br>Population: 3,537,000.0<br>% Migrated: 82.17%"
         ],
         "marker": {
          "cmax": 37.12222269900257,
          "cmin": 0,
          "color": [
           26.481787818456993,
           27.58187771289911,
           28.344965993979258,
           31.863807987261744,
           32.026130286406946,
           32.5182024027673,
           33.32925379154005,
           33.36340580204758,
           33.42623589691169,
           35.675019818259,
           35.820366513952514,
           36.3086396831291,
           37.21262081187739,
           39.884892501860364,
           49.648446593442486,
           53.104719277508885,
           54.08422853368998,
           54.8628988148461,
           79.98820168148785,
           82.17206672321176
          ],
          "colorscale": [
           [
            0,
            "#440154"
           ],
           [
            0.1111111111111111,
            "#482878"
           ],
           [
            0.2222222222222222,
            "#3e4989"
           ],
           [
            0.3333333333333333,
            "#31688e"
           ],
           [
            0.4444444444444444,
            "#26828e"
           ],
           [
            0.5555555555555556,
            "#1f9e89"
           ],
           [
            0.6666666666666666,
            "#35b779"
           ],
           [
            0.7777777777777778,
            "#6ece58"
           ],
           [
            0.8888888888888888,
            "#b5de2b"
           ],
           [
            1,
            "#fde725"
           ]
          ]
         },
         "name": "1990",
         "orientation": "h",
         "text": [
          "26.48%",
          "27.58%",
          "28.34%",
          "31.86%",
          "32.03%",
          "32.52%",
          "33.33%",
          "33.36%",
          "33.43%",
          "35.68%",
          "35.82%",
          "36.31%",
          "37.21%",
          "39.88%",
          "49.65%",
          "53.1%",
          "54.08%",
          "54.86%",
          "79.99%",
          "82.17%"
         ],
         "textposition": "auto",
         "type": "bar",
         "visible": false,
         "x": [
          26.481787818456993,
          27.58187771289911,
          28.344965993979258,
          31.863807987261744,
          32.026130286406946,
          32.5182024027673,
          33.32925379154005,
          33.36340580204758,
          33.42623589691169,
          35.675019818259,
          35.820366513952514,
          36.3086396831291,
          37.21262081187739,
          39.884892501860364,
          49.648446593442486,
          53.104719277508885,
          54.08422853368998,
          54.8628988148461,
          79.98820168148785,
          82.17206672321176
         ],
         "y": [
          "Armenia",
          "Ukraine",
          "Azerbaijan",
          "Lithuania",
          "Eritrea",
          "Kazakhstan",
          "Lebanon",
          "Kuwait",
          "Trinidad and Tobago",
          "Portugal",
          "Georgia",
          "Lesotho",
          "Bosnia and Herzegovina",
          "Moldova",
          "Belarus",
          "Jamaica",
          "Jordan",
          "Ireland",
          "West Bank and Gaza",
          "Puerto Rico"
         ]
        },
        {
         "hoverinfo": "text",
         "hovertext": [
          "<b>Lithuania</b><br>Migrants: 1,069,852.0<br>Population: 3,499,536.0<br>% Migrated: 30.57%",
          "<b>Lebanon</b><br>Migrants: 1,353,979.0<br>Population: 4,329,340.0<br>% Migrated: 31.27%",
          "<b>El Salvador</b><br>Migrants: 1,870,497.0<br>Population: 5,943,366.0<br>% Migrated: 31.47%",
          "<b>Eritrea</b><br>Migrants: 718,421.0<br>Population: 2,247,031.0<br>% Migrated: 31.97%",
          "<b>Estonia</b><br>Migrants: 463,050.0<br>Population: 1,396,985.0<br>% Migrated: 33.15%",
          "<b>Belarus</b><br>Migrants: 3,493,775.0<br>Population: 9,979,610.0<br>% Migrated: 35.01%",
          "<b>Kuwait</b><br>Migrants: 725,869.0<br>Population: 1,954,709.0<br>% Migrated: 37.13%",
          "<b>Azerbaijan</b><br>Migrants: 3,016,374.0<br>Population: 8,048,600.0<br>% Migrated: 37.48%",
          "<b>Jordan</b><br>Migrants: 2,200,488.0<br>Population: 5,386,945.0<br>% Migrated: 40.85%",
          "<b>Kazakhstan</b><br>Migrants: 6,764,727.0<br>Population: 15,501,103.0<br>% Migrated: 43.64%",
          "<b>Moldova</b><br>Migrants: 1,286,448.0<br>Population: 2,924,668.0<br>% Migrated: 43.99%",
          "<b>Trinidad and Tobago</b><br>Migrants: 614,539.0<br>Population: 1,319,774.0<br>% Migrated: 46.56%",
          "<b>Armenia</b><br>Migrants: 1,707,654.0<br>Population: 3,221,100.0<br>% Migrated: 53.01%",
          "<b>Georgia</b><br>Migrants: 2,279,261.0<br>Population: 4,077,131.0<br>% Migrated: 55.90%",
          "<b>Ireland</b><br>Migrants: 2,247,195.0<br>Population: 3,805,174.0<br>% Migrated: 59.06%",
          "<b>Bosnia and Herzegovina</b><br>Migrants: 2,587,705.0<br>Population: 4,159,771.0<br>% Migrated: 62.21%",
          "<b>West Bank and Gaza</b><br>Migrants: 1,931,712.0<br>Population: 2,922,153.0<br>% Migrated: 66.11%",
          "<b>Albania</b><br>Migrants: 2,048,024.0<br>Population: 3,089,027.0<br>% Migrated: 66.30%",
          "<b>Jamaica</b><br>Migrants: 1,860,114.0<br>Population: 2,607,826.0<br>% Migrated: 71.33%",
          "<b>Puerto Rico</b><br>Migrants: 2,981,082.0<br>Population: 3,810,605.0<br>% Migrated: 78.23%"
         ],
         "marker": {
          "cmax": 51.72448929966065,
          "cmin": 0,
          "color": [
           30.571252874666815,
           31.27448987605501,
           31.472014343387233,
           31.97201106704803,
           33.14638310361242,
           35.00913362345823,
           37.13437652356438,
           37.477002211564745,
           40.84853288830682,
           43.6402945003333,
           43.9861208178159,
           46.56395716236265,
           53.01462233398529,
           55.903550805701364,
           59.05630071055883,
           62.20787153908232,
           66.10577885552193,
           66.29997083223941,
           71.32814842708063,
           78.23119950768972
          ],
          "colorscale": [
           [
            0,
            "#440154"
           ],
           [
            0.1111111111111111,
            "#482878"
           ],
           [
            0.2222222222222222,
            "#3e4989"
           ],
           [
            0.3333333333333333,
            "#31688e"
           ],
           [
            0.4444444444444444,
            "#26828e"
           ],
           [
            0.5555555555555556,
            "#1f9e89"
           ],
           [
            0.6666666666666666,
            "#35b779"
           ],
           [
            0.7777777777777778,
            "#6ece58"
           ],
           [
            0.8888888888888888,
            "#b5de2b"
           ],
           [
            1,
            "#fde725"
           ]
          ]
         },
         "name": "2000",
         "orientation": "h",
         "text": [
          "30.57%",
          "31.27%",
          "31.47%",
          "31.97%",
          "33.15%",
          "35.01%",
          "37.13%",
          "37.48%",
          "40.85%",
          "43.64%",
          "43.99%",
          "46.56%",
          "53.01%",
          "55.9%",
          "59.06%",
          "62.21%",
          "66.11%",
          "66.3%",
          "71.33%",
          "78.23%"
         ],
         "textposition": "auto",
         "type": "bar",
         "visible": false,
         "x": [
          30.571252874666815,
          31.27448987605501,
          31.472014343387233,
          31.97201106704803,
          33.14638310361242,
          35.00913362345823,
          37.13437652356438,
          37.477002211564745,
          40.84853288830682,
          43.6402945003333,
          43.9861208178159,
          46.56395716236265,
          53.01462233398529,
          55.903550805701364,
          59.05630071055883,
          62.20787153908232,
          66.10577885552193,
          66.29997083223941,
          71.32814842708063,
          78.23119950768972
         ],
         "y": [
          "Lithuania",
          "Lebanon",
          "El Salvador",
          "Eritrea",
          "Estonia",
          "Belarus",
          "Kuwait",
          "Azerbaijan",
          "Jordan",
          "Kazakhstan",
          "Moldova",
          "Trinidad and Tobago",
          "Armenia",
          "Georgia",
          "Ireland",
          "Bosnia and Herzegovina",
          "West Bank and Gaza",
          "Albania",
          "Jamaica",
          "Puerto Rico"
         ]
        }
       ],
       "layout": {
        "autosize": true,
        "margin": {
         "b": 100,
         "l": 150,
         "pad": 4,
         "r": 50,
         "t": 100
        },
        "showlegend": false,
        "template": {
         "data": {
          "bar": [
           {
            "error_x": {
             "color": "#2a3f5f"
            },
            "error_y": {
             "color": "#2a3f5f"
            },
            "marker": {
             "line": {
              "color": "#E5ECF6",
              "width": 0.5
             },
             "pattern": {
              "fillmode": "overlay",
              "size": 10,
              "solidity": 0.2
             }
            },
            "type": "bar"
           }
          ],
          "barpolar": [
           {
            "marker": {
             "line": {
              "color": "#E5ECF6",
              "width": 0.5
             },
             "pattern": {
              "fillmode": "overlay",
              "size": 10,
              "solidity": 0.2
             }
            },
            "type": "barpolar"
           }
          ],
          "carpet": [
           {
            "aaxis": {
             "endlinecolor": "#2a3f5f",
             "gridcolor": "white",
             "linecolor": "white",
             "minorgridcolor": "white",
             "startlinecolor": "#2a3f5f"
            },
            "baxis": {
             "endlinecolor": "#2a3f5f",
             "gridcolor": "white",
             "linecolor": "white",
             "minorgridcolor": "white",
             "startlinecolor": "#2a3f5f"
            },
            "type": "carpet"
           }
          ],
          "choropleth": [
           {
            "colorbar": {
             "outlinewidth": 0,
             "ticks": ""
            },
            "type": "choropleth"
           }
          ],
          "contour": [
           {
            "colorbar": {
             "outlinewidth": 0,
             "ticks": ""
            },
            "colorscale": [
             [
              0,
              "#0d0887"
             ],
             [
              0.1111111111111111,
              "#46039f"
             ],
             [
              0.2222222222222222,
              "#7201a8"
             ],
             [
              0.3333333333333333,
              "#9c179e"
             ],
             [
              0.4444444444444444,
              "#bd3786"
             ],
             [
              0.5555555555555556,
              "#d8576b"
             ],
             [
              0.6666666666666666,
              "#ed7953"
             ],
             [
              0.7777777777777778,
              "#fb9f3a"
             ],
             [
              0.8888888888888888,
              "#fdca26"
             ],
             [
              1,
              "#f0f921"
             ]
            ],
            "type": "contour"
           }
          ],
          "contourcarpet": [
           {
            "colorbar": {
             "outlinewidth": 0,
             "ticks": ""
            },
            "type": "contourcarpet"
           }
          ],
          "heatmap": [
           {
            "colorbar": {
             "outlinewidth": 0,
             "ticks": ""
            },
            "colorscale": [
             [
              0,
              "#0d0887"
             ],
             [
              0.1111111111111111,
              "#46039f"
             ],
             [
              0.2222222222222222,
              "#7201a8"
             ],
             [
              0.3333333333333333,
              "#9c179e"
             ],
             [
              0.4444444444444444,
              "#bd3786"
             ],
             [
              0.5555555555555556,
              "#d8576b"
             ],
             [
              0.6666666666666666,
              "#ed7953"
             ],
             [
              0.7777777777777778,
              "#fb9f3a"
             ],
             [
              0.8888888888888888,
              "#fdca26"
             ],
             [
              1,
              "#f0f921"
             ]
            ],
            "type": "heatmap"
           }
          ],
          "heatmapgl": [
           {
            "colorbar": {
             "outlinewidth": 0,
             "ticks": ""
            },
            "colorscale": [
             [
              0,
              "#0d0887"
             ],
             [
              0.1111111111111111,
              "#46039f"
             ],
             [
              0.2222222222222222,
              "#7201a8"
             ],
             [
              0.3333333333333333,
              "#9c179e"
             ],
             [
              0.4444444444444444,
              "#bd3786"
             ],
             [
              0.5555555555555556,
              "#d8576b"
             ],
             [
              0.6666666666666666,
              "#ed7953"
             ],
             [
              0.7777777777777778,
              "#fb9f3a"
             ],
             [
              0.8888888888888888,
              "#fdca26"
             ],
             [
              1,
              "#f0f921"
             ]
            ],
            "type": "heatmapgl"
           }
          ],
          "histogram": [
           {
            "marker": {
             "pattern": {
              "fillmode": "overlay",
              "size": 10,
              "solidity": 0.2
             }
            },
            "type": "histogram"
           }
          ],
          "histogram2d": [
           {
            "colorbar": {
             "outlinewidth": 0,
             "ticks": ""
            },
            "colorscale": [
             [
              0,
              "#0d0887"
             ],
             [
              0.1111111111111111,
              "#46039f"
             ],
             [
              0.2222222222222222,
              "#7201a8"
             ],
             [
              0.3333333333333333,
              "#9c179e"
             ],
             [
              0.4444444444444444,
              "#bd3786"
             ],
             [
              0.5555555555555556,
              "#d8576b"
             ],
             [
              0.6666666666666666,
              "#ed7953"
             ],
             [
              0.7777777777777778,
              "#fb9f3a"
             ],
             [
              0.8888888888888888,
              "#fdca26"
             ],
             [
              1,
              "#f0f921"
             ]
            ],
            "type": "histogram2d"
           }
          ],
          "histogram2dcontour": [
           {
            "colorbar": {
             "outlinewidth": 0,
             "ticks": ""
            },
            "colorscale": [
             [
              0,
              "#0d0887"
             ],
             [
              0.1111111111111111,
              "#46039f"
             ],
             [
              0.2222222222222222,
              "#7201a8"
             ],
             [
              0.3333333333333333,
              "#9c179e"
             ],
             [
              0.4444444444444444,
              "#bd3786"
             ],
             [
              0.5555555555555556,
              "#d8576b"
             ],
             [
              0.6666666666666666,
              "#ed7953"
             ],
             [
              0.7777777777777778,
              "#fb9f3a"
             ],
             [
              0.8888888888888888,
              "#fdca26"
             ],
             [
              1,
              "#f0f921"
             ]
            ],
            "type": "histogram2dcontour"
           }
          ],
          "mesh3d": [
           {
            "colorbar": {
             "outlinewidth": 0,
             "ticks": ""
            },
            "type": "mesh3d"
           }
          ],
          "parcoords": [
           {
            "line": {
             "colorbar": {
              "outlinewidth": 0,
              "ticks": ""
             }
            },
            "type": "parcoords"
           }
          ],
          "pie": [
           {
            "automargin": true,
            "type": "pie"
           }
          ],
          "scatter": [
           {
            "fillpattern": {
             "fillmode": "overlay",
             "size": 10,
             "solidity": 0.2
            },
            "type": "scatter"
           }
          ],
          "scatter3d": [
           {
            "line": {
             "colorbar": {
              "outlinewidth": 0,
              "ticks": ""
             }
            },
            "marker": {
             "colorbar": {
              "outlinewidth": 0,
              "ticks": ""
             }
            },
            "type": "scatter3d"
           }
          ],
          "scattercarpet": [
           {
            "marker": {
             "colorbar": {
              "outlinewidth": 0,
              "ticks": ""
             }
            },
            "type": "scattercarpet"
           }
          ],
          "scattergeo": [
           {
            "marker": {
             "colorbar": {
              "outlinewidth": 0,
              "ticks": ""
             }
            },
            "type": "scattergeo"
           }
          ],
          "scattergl": [
           {
            "marker": {
             "colorbar": {
              "outlinewidth": 0,
              "ticks": ""
             }
            },
            "type": "scattergl"
           }
          ],
          "scattermapbox": [
           {
            "marker": {
             "colorbar": {
              "outlinewidth": 0,
              "ticks": ""
             }
            },
            "type": "scattermapbox"
           }
          ],
          "scatterpolar": [
           {
            "marker": {
             "colorbar": {
              "outlinewidth": 0,
              "ticks": ""
             }
            },
            "type": "scatterpolar"
           }
          ],
          "scatterpolargl": [
           {
            "marker": {
             "colorbar": {
              "outlinewidth": 0,
              "ticks": ""
             }
            },
            "type": "scatterpolargl"
           }
          ],
          "scatterternary": [
           {
            "marker": {
             "colorbar": {
              "outlinewidth": 0,
              "ticks": ""
             }
            },
            "type": "scatterternary"
           }
          ],
          "surface": [
           {
            "colorbar": {
             "outlinewidth": 0,
             "ticks": ""
            },
            "colorscale": [
             [
              0,
              "#0d0887"
             ],
             [
              0.1111111111111111,
              "#46039f"
             ],
             [
              0.2222222222222222,
              "#7201a8"
             ],
             [
              0.3333333333333333,
              "#9c179e"
             ],
             [
              0.4444444444444444,
              "#bd3786"
             ],
             [
              0.5555555555555556,
              "#d8576b"
             ],
             [
              0.6666666666666666,
              "#ed7953"
             ],
             [
              0.7777777777777778,
              "#fb9f3a"
             ],
             [
              0.8888888888888888,
              "#fdca26"
             ],
             [
              1,
              "#f0f921"
             ]
            ],
            "type": "surface"
           }
          ],
          "table": [
           {
            "cells": {
             "fill": {
              "color": "#EBF0F8"
             },
             "line": {
              "color": "white"
             }
            },
            "header": {
             "fill": {
              "color": "#C8D4E3"
             },
             "line": {
              "color": "white"
             }
            },
            "type": "table"
           }
          ]
         },
         "layout": {
          "annotationdefaults": {
           "arrowcolor": "#2a3f5f",
           "arrowhead": 0,
           "arrowwidth": 1
          },
          "autotypenumbers": "strict",
          "coloraxis": {
           "colorbar": {
            "outlinewidth": 0,
            "ticks": ""
           }
          },
          "colorscale": {
           "diverging": [
            [
             0,
             "#8e0152"
            ],
            [
             0.1,
             "#c51b7d"
            ],
            [
             0.2,
             "#de77ae"
            ],
            [
             0.3,
             "#f1b6da"
            ],
            [
             0.4,
             "#fde0ef"
            ],
            [
             0.5,
             "#f7f7f7"
            ],
            [
             0.6,
             "#e6f5d0"
            ],
            [
             0.7,
             "#b8e186"
            ],
            [
             0.8,
             "#7fbc41"
            ],
            [
             0.9,
             "#4d9221"
            ],
            [
             1,
             "#276419"
            ]
           ],
           "sequential": [
            [
             0,
             "#0d0887"
            ],
            [
             0.1111111111111111,
             "#46039f"
            ],
            [
             0.2222222222222222,
             "#7201a8"
            ],
            [
             0.3333333333333333,
             "#9c179e"
            ],
            [
             0.4444444444444444,
             "#bd3786"
            ],
            [
             0.5555555555555556,
             "#d8576b"
            ],
            [
             0.6666666666666666,
             "#ed7953"
            ],
            [
             0.7777777777777778,
             "#fb9f3a"
            ],
            [
             0.8888888888888888,
             "#fdca26"
            ],
            [
             1,
             "#f0f921"
            ]
           ],
           "sequentialminus": [
            [
             0,
             "#0d0887"
            ],
            [
             0.1111111111111111,
             "#46039f"
            ],
            [
             0.2222222222222222,
             "#7201a8"
            ],
            [
             0.3333333333333333,
             "#9c179e"
            ],
            [
             0.4444444444444444,
             "#bd3786"
            ],
            [
             0.5555555555555556,
             "#d8576b"
            ],
            [
             0.6666666666666666,
             "#ed7953"
            ],
            [
             0.7777777777777778,
             "#fb9f3a"
            ],
            [
             0.8888888888888888,
             "#fdca26"
            ],
            [
             1,
             "#f0f921"
            ]
           ]
          },
          "colorway": [
           "#636efa",
           "#EF553B",
           "#00cc96",
           "#ab63fa",
           "#FFA15A",
           "#19d3f3",
           "#FF6692",
           "#B6E880",
           "#FF97FF",
           "#FECB52"
          ],
          "font": {
           "color": "#2a3f5f"
          },
          "geo": {
           "bgcolor": "white",
           "lakecolor": "white",
           "landcolor": "#E5ECF6",
           "showlakes": true,
           "showland": true,
           "subunitcolor": "white"
          },
          "hoverlabel": {
           "align": "left"
          },
          "hovermode": "closest",
          "mapbox": {
           "style": "light"
          },
          "paper_bgcolor": "white",
          "plot_bgcolor": "#E5ECF6",
          "polar": {
           "angularaxis": {
            "gridcolor": "white",
            "linecolor": "white",
            "ticks": ""
           },
           "bgcolor": "#E5ECF6",
           "radialaxis": {
            "gridcolor": "white",
            "linecolor": "white",
            "ticks": ""
           }
          },
          "scene": {
           "xaxis": {
            "backgroundcolor": "#E5ECF6",
            "gridcolor": "white",
            "gridwidth": 2,
            "linecolor": "white",
            "showbackground": true,
            "ticks": "",
            "zerolinecolor": "white"
           },
           "yaxis": {
            "backgroundcolor": "#E5ECF6",
            "gridcolor": "white",
            "gridwidth": 2,
            "linecolor": "white",
            "showbackground": true,
            "ticks": "",
            "zerolinecolor": "white"
           },
           "zaxis": {
            "backgroundcolor": "#E5ECF6",
            "gridcolor": "white",
            "gridwidth": 2,
            "linecolor": "white",
            "showbackground": true,
            "ticks": "",
            "zerolinecolor": "white"
           }
          },
          "shapedefaults": {
           "line": {
            "color": "#2a3f5f"
           }
          },
          "ternary": {
           "aaxis": {
            "gridcolor": "white",
            "linecolor": "white",
            "ticks": ""
           },
           "baxis": {
            "gridcolor": "white",
            "linecolor": "white",
            "ticks": ""
           },
           "bgcolor": "#E5ECF6",
           "caxis": {
            "gridcolor": "white",
            "linecolor": "white",
            "ticks": ""
           }
          },
          "title": {
           "x": 0.05
          },
          "xaxis": {
           "automargin": true,
           "gridcolor": "white",
           "linecolor": "white",
           "ticks": "",
           "title": {
            "standoff": 15
           },
           "zerolinecolor": "white",
           "zerolinewidth": 2
          },
          "yaxis": {
           "automargin": true,
           "gridcolor": "white",
           "linecolor": "white",
           "ticks": "",
           "title": {
            "standoff": 15
           },
           "zerolinecolor": "white",
           "zerolinewidth": 2
          }
         }
        },
        "title": {
         "text": "Top 20 Countries (>1M population) by % Population Migrated (1960)"
        },
        "updatemenus": [
         {
          "buttons": [
           {
            "args": [
             {
              "visible": [
               true,
               false,
               false,
               false,
               false
              ]
             },
             {
              "title": "Top 20 Countries (>1M pop) by % Migrated (1960)"
             }
            ],
            "label": "1960",
            "method": "update"
           },
           {
            "args": [
             {
              "visible": [
               false,
               true,
               false,
               false,
               false
              ]
             },
             {
              "title": "Top 20 Countries (>1M pop) by % Migrated (1970)"
             }
            ],
            "label": "1970",
            "method": "update"
           },
           {
            "args": [
             {
              "visible": [
               false,
               false,
               true,
               false,
               false
              ]
             },
             {
              "title": "Top 20 Countries (>1M pop) by % Migrated (1980)"
             }
            ],
            "label": "1980",
            "method": "update"
           },
           {
            "args": [
             {
              "visible": [
               false,
               false,
               false,
               true,
               false
              ]
             },
             {
              "title": "Top 20 Countries (>1M pop) by % Migrated (1990)"
             }
            ],
            "label": "1990",
            "method": "update"
           },
           {
            "args": [
             {
              "visible": [
               false,
               false,
               false,
               false,
               true
              ]
             },
             {
              "title": "Top 20 Countries (>1M pop) by % Migrated (2000)"
             }
            ],
            "label": "2000",
            "method": "update"
           }
          ],
          "direction": "right",
          "showactive": true,
          "x": 0.5,
          "xanchor": "center",
          "y": 1.2,
          "yanchor": "top"
         }
        ],
        "xaxis": {
         "autorange": true,
         "range": [
          0,
          59.87161287442525
         ],
         "title": {
          "text": "% of Population Migrated"
         },
         "type": "linear"
        },
        "yaxis": {
         "autorange": true,
         "range": [
          -0.5,
          19.5
         ],
         "title": {
          "text": "Country"
         },
         "type": "category"
        }
       }
      },
      "image/png": "[encoded data removed]",
      "text/html": [
       "<div>                            <div id=\"84084ebd-e7cf-4238-9e90-b1c6673f5243\" class=\"plotly-graph-div\" style=\"height:700px; width:100%;\"></div>            <script type=\"text/javascript\">                require([\"plotly\"], function(Plotly) {                    window.PLOTLYENV=window.PLOTLYENV || {};                                    if (document.getElementById(\"84084ebd-e7cf-4238-9e90-b1c6673f5243\")) {                    Plotly.newPlot(                        \"84084ebd-e7cf-4238-9e90-b1c6673f5243\",                        [{\"hoverinfo\":\"text\",\"hovertext\":[\"\\u003cb\\u003eSlovak Republic\\u003c\\u002fb\\u003e\\u003cbr\\u003eMigrants: 803,720.0\\u003cbr\\u003ePopulation: 4,068,095.0\\u003cbr\\u003e% Migrated: 19.76%\",\"\\u003cb\\u003eIsrael\\u003c\\u002fb\\u003e\\u003cbr\\u003eMigrants: 433,622.0\\u003cbr\\u003ePopulation: 2,114,020.0\\u003cbr\\u003e% Migrated: 20.51%\",\"\\u003cb\\u003eAzerbaijan\\u003c\\u002fb\\u003e\\u003cbr\\u003eMigrants: 805,589.0\\u003cbr\\u003ePopulation: 3,894,500.0\\u003cbr\\u003e% Migrated: 20.69%\",\"\\u003cb\\u003ePortugal\\u003c\\u002fb\\u003e\\u003cbr\\u003eMigrants: 1,871,038.0\\u003cbr\\u003ePopulation: 8,857,716.0\\u003cbr\\u003e% Migrated: 21.12%\",\"\\u003cb\\u003eBelgium\\u003c\\u002fb\\u003e\\u003cbr\\u003eMigrants: 1,965,688.0\\u003cbr\\u003ePopulation: 9,153,489.0\\u003cbr\\u003e% Migrated: 21.47%\",\"\\u003cb\\u003eGreece\\u003c\\u002fb\\u003e\\u003cbr\\u003eMigrants: 1,931,612.0\\u003cbr\\u003ePopulation: 8,331,725.0\\u003cbr\\u003e% Migrated: 23.18%\",\"\\u003cb\\u003eTogo\\u003c\\u002fb\\u003e\\u003cbr\\u003eMigrants: 415,032.0\\u003cbr\\u003ePopulation: 1,673,110.0\\u003cbr\\u003e% Migrated: 24.81%\",\"\\u003cb\\u003eJamaica\\u003c\\u002fb\\u003e\\u003cbr\\u003eMigrants: 418,639.0\\u003cbr\\u003ePopulation: 1,650,005.0\\u003cbr\\u003e% Migrated: 25.37%\",\"\\u003cb\\u003eTurkmenistan\\u003c\\u002fb\\u003e\\u003cbr\\u003eMigrants: 428,349.0\\u003cbr\\u003ePopulation: 1,643,457.0\\u003cbr\\u003e% Migrated: 26.06%\",\"\\u003cb\\u003eRwanda\\u003c\\u002fb\\u003e\\u003cbr\\u003eMigrants: 810,601.0\\u003cbr\\u003ePopulation: 3,022,294.0\\u003cbr\\u003e% Migrated: 26.82%\",\"\\u003cb\\u003eKazakhstan\\u003c\\u002fb\\u003e\\u003cbr\\u003eMigrants: 2,656,674.0\\u003cbr\\u003ePopulation: 9,429,981.0\\u003cbr\\u003e% Migrated: 28.17%\",\"\\u003cb\\u003eUkraine\\u003c\\u002fb\\u003e\\u003cbr\\u003eMigrants: 12,535,630.0\\u003cbr\\u003ePopulation: 42,824,093.0\\u003cbr\\u003e% Migrated: 29.27%\",\"\\u003cb\\u003eIreland\\u003c\\u002fb\\u003e\\u003cbr\\u003eMigrants: 1,078,540.0\\u003cbr\\u003ePopulation: 2,828,600.0\\u003cbr\\u003e% Migrated: 38.13%\",\"\\u003cb\\u003ePoland\\u003c\\u002fb\\u003e\\u003cbr\\u003eMigrants: 11,370,207.0\\u003cbr\\u003ePopulation: 29,637,450.0\\u003cbr\\u003e% Migrated: 38.36%\",\"\\u003cb\\u003ePakistan\\u003c\\u002fb\\u003e\\u003cbr\\u003eMigrants: 17,689,430.0\\u003cbr\\u003ePopulation: 45,709,310.0\\u003cbr\\u003e% Migrated: 38.70%\",\"\\u003cb\\u003eMoldova\\u003c\\u002fb\\u003e\\u003cbr\\u003eMigrants: 825,927.0\\u003cbr\\u003ePopulation: 2,058,020.0\\u003cbr\\u003e% Migrated: 40.13%\",\"\\u003cb\\u003eLithuania\\u003c\\u002fb\\u003e\\u003cbr\\u003eMigrants: 1,148,446.0\\u003cbr\\u003ePopulation: 2,778,550.0\\u003cbr\\u003e% Migrated: 41.33%\",\"\\u003cb\\u003eArmenia\\u003c\\u002fb\\u003e\\u003cbr\\u003eMigrants: 779,847.0\\u003cbr\\u003ePopulation: 1,863,705.0\\u003cbr\\u003e% Migrated: 41.84%\",\"\\u003cb\\u003eBelarus\\u003c\\u002fb\\u003e\\u003cbr\\u003eMigrants: 3,899,584.0\\u003cbr\\u003ePopulation: 8,198,000.0\\u003cbr\\u003e% Migrated: 47.57%\",\"\\u003cb\\u003ePuerto Rico\\u003c\\u002fb\\u003e\\u003cbr\\u003eMigrants: 1,341,184.0\\u003cbr\\u003ePopulation: 2,358,000.0\\u003cbr\\u003e% Migrated: 56.88%\"],\"marker\":{\"cmax\":38.270520453138666,\"cmin\":0,\"color\":[19.756667432791023,20.51172647373251,20.685299781743485,21.123255701582664,21.474740396803885,23.183818476966053,24.806019926962364,25.371983721261447,26.06390066792134,26.82071962555595,28.172633645815402,29.272377117245657,38.12981687053666,38.36432284154001,38.69984036074926,40.13211727777184,41.33256554677799,41.843907699984705,47.56750426933398,56.87803223070399],\"colorscale\":[[0.0,\"#440154\"],[0.1111111111111111,\"#482878\"],[0.2222222222222222,\"#3e4989\"],[0.3333333333333333,\"#31688e\"],[0.4444444444444444,\"#26828e\"],[0.5555555555555556,\"#1f9e89\"],[0.6666666666666666,\"#35b779\"],[0.7777777777777778,\"#6ece58\"],[0.8888888888888888,\"#b5de2b\"],[1.0,\"#fde725\"]]},\"name\":\"1960\",\"orientation\":\"h\",\"text\":[\"19.76%\",\"20.51%\",\"20.69%\",\"21.12%\",\"21.47%\",\"23.18%\",\"24.81%\",\"25.37%\",\"26.06%\",\"26.82%\",\"28.17%\",\"29.27%\",\"38.13%\",\"38.36%\",\"38.7%\",\"40.13%\",\"41.33%\",\"41.84%\",\"47.57%\",\"56.88%\"],\"textposition\":\"auto\",\"visible\":true,\"x\":[19.756667432791023,20.51172647373251,20.685299781743485,21.123255701582664,21.474740396803885,23.183818476966053,24.806019926962364,25.371983721261447,26.06390066792134,26.82071962555595,28.172633645815402,29.272377117245657,38.12981687053666,38.36432284154001,38.69984036074926,40.13211727777184,41.33256554677799,41.843907699984705,47.56750426933398,56.87803223070399],\"y\":[\"Slovak Republic\",\"Israel\",\"Azerbaijan\",\"Portugal\",\"Belgium\",\"Greece\",\"Togo\",\"Jamaica\",\"Turkmenistan\",\"Rwanda\",\"Kazakhstan\",\"Ukraine\",\"Ireland\",\"Poland\",\"Pakistan\",\"Moldova\",\"Lithuania\",\"Armenia\",\"Belarus\",\"Puerto Rico\"],\"type\":\"bar\"},{\"hoverinfo\":\"text\",\"hovertext\":[\"\\u003cb\\u003eAlgeria\\u003c\\u002fb\\u003e\\u003cbr\\u003eMigrants: 3,402,165.0\\u003cbr\\u003ePopulation: 13,783,719.0\\u003cbr\\u003e% Migrated: 24.68%\",\"\\u003cb\\u003eEstonia\\u003c\\u002fb\\u003e\\u003cbr\\u003eMigrants: 345,621.0\\u003cbr\\u003ePopulation: 1,360,076.0\\u003cbr\\u003e% Migrated: 25.41%\",\"\\u003cb\\u003eUkraine\\u003c\\u002fb\\u003e\\u003cbr\\u003eMigrants: 12,725,202.0\\u003cbr\\u003ePopulation: 47,261,306.0\\u003cbr\\u003e% Migrated: 26.93%\",\"\\u003cb\\u003eGreece\\u003c\\u002fb\\u003e\\u003cbr\\u003eMigrants: 2,374,552.0\\u003cbr\\u003ePopulation: 8,792,806.0\\u003cbr\\u003e% Migrated: 27.01%\",\"\\u003cb\\u003eLatvia\\u003c\\u002fb\\u003e\\u003cbr\\u003eMigrants: 644,841.0\\u003cbr\\u003ePopulation: 2,359,164.0\\u003cbr\\u003e% Migrated: 27.33%\",\"\\u003cb\\u003eBurkina Faso\\u003c\\u002fb\\u003e\\u003cbr\\u003eMigrants: 1,588,292.0\\u003cbr\\u003ePopulation: 5,610,304.0\\u003cbr\\u003e% Migrated: 28.31%\",\"\\u003cb\\u003ePakistan\\u003c\\u002fb\\u003e\\u003cbr\\u003eMigrants: 17,044,428.0\\u003cbr\\u003ePopulation: 60,166,719.0\\u003cbr\\u003e% Migrated: 28.33%\",\"\\u003cb\\u003eJamaica\\u003c\\u002fb\\u003e\\u003cbr\\u003eMigrants: 543,472.0\\u003cbr\\u003ePopulation: 1,878,196.0\\u003cbr\\u003e% Migrated: 28.94%\",\"\\u003cb\\u003ePortugal\\u003c\\u002fb\\u003e\\u003cbr\\u003eMigrants: 2,568,531.0\\u003cbr\\u003ePopulation: 8,680,431.0\\u003cbr\\u003e% Migrated: 29.59%\",\"\\u003cb\\u003eKazakhstan\\u003c\\u002fb\\u003e\\u003cbr\\u003eMigrants: 3,704,618.0\\u003cbr\\u003ePopulation: 12,419,057.0\\u003cbr\\u003e% Migrated: 29.83%\",\"\\u003cb\\u003ePoland\\u003c\\u002fb\\u003e\\u003cbr\\u003eMigrants: 10,423,895.0\\u003cbr\\u003ePopulation: 32,664,300.0\\u003cbr\\u003e% Migrated: 31.91%\",\"\\u003cb\\u003eArmenia\\u003c\\u002fb\\u003e\\u003cbr\\u003eMigrants: 855,275.0\\u003cbr\\u003ePopulation: 2,475,633.0\\u003cbr\\u003e% Migrated: 34.55%\",\"\\u003cb\\u003eMoldova\\u003c\\u002fb\\u003e\\u003cbr\\u003eMigrants: 906,959.0\\u003cbr\\u003ePopulation: 2,437,590.0\\u003cbr\\u003e% Migrated: 37.21%\",\"\\u003cb\\u003eLesotho\\u003c\\u002fb\\u003e\\u003cbr\\u003eMigrants: 387,006.0\\u003cbr\\u003ePopulation: 1,019,273.0\\u003cbr\\u003e% Migrated: 37.97%\",\"\\u003cb\\u003eLithuania\\u003c\\u002fb\\u003e\\u003cbr\\u003eMigrants: 1,349,788.0\\u003cbr\\u003ePopulation: 3,139,689.0\\u003cbr\\u003e% Migrated: 42.99%\",\"\\u003cb\\u003eEritrea\\u003c\\u002fb\\u003e\\u003cbr\\u003eMigrants: 543,725.0\\u003cbr\\u003ePopulation: 1,243,453.0\\u003cbr\\u003e% Migrated: 43.73%\",\"\\u003cb\\u003eJordan\\u003c\\u002fb\\u003e\\u003cbr\\u003eMigrants: 699,934.0\\u003cbr\\u003ePopulation: 1,565,163.0\\u003cbr\\u003e% Migrated: 44.72%\",\"\\u003cb\\u003eBelarus\\u003c\\u002fb\\u003e\\u003cbr\\u003eMigrants: 4,567,013.0\\u003cbr\\u003ePopulation: 9,040,000.0\\u003cbr\\u003e% Migrated: 50.52%\",\"\\u003cb\\u003ePuerto Rico\\u003c\\u002fb\\u003e\\u003cbr\\u003eMigrants: 1,942,981.0\\u003cbr\\u003ePopulation: 2,718,000.0\\u003cbr\\u003e% Migrated: 71.49%\",\"\\u003cb\\u003eIreland\\u003c\\u002fb\\u003e\\u003cbr\\u003eMigrants: 2,246,669.0\\u003cbr\\u003ePopulation: 2,957,250.0\\u003cbr\\u003e% Migrated: 75.97%\"],\"marker\":{\"cmax\":37.4737697408921,\"cmin\":0,\"color\":[24.68248953711259,25.41188874739353,26.925201770767828,27.005622550980878,27.333453714960044,28.31026625295171,28.32866455623083,28.935851210416804,29.589901699581507,29.830107068515748,31.912194659000804,34.54772981294077,37.207200554646185,37.96882680106311,42.99113702025901,43.72702466438217,44.719559560250275,50.520055309734516,71.48568800588669,75.97156141685689],\"colorscale\":[[0.0,\"#440154\"],[0.1111111111111111,\"#482878\"],[0.2222222222222222,\"#3e4989\"],[0.3333333333333333,\"#31688e\"],[0.4444444444444444,\"#26828e\"],[0.5555555555555556,\"#1f9e89\"],[0.6666666666666666,\"#35b779\"],[0.7777777777777778,\"#6ece58\"],[0.8888888888888888,\"#b5de2b\"],[1.0,\"#fde725\"]]},\"name\":\"1970\",\"orientation\":\"h\",\"text\":[\"24.68%\",\"25.41%\",\"26.93%\",\"27.01%\",\"27.33%\",\"28.31%\",\"28.33%\",\"28.94%\",\"29.59%\",\"29.83%\",\"31.91%\",\"34.55%\",\"37.21%\",\"37.97%\",\"42.99%\",\"43.73%\",\"44.72%\",\"50.52%\",\"71.49%\",\"75.97%\"],\"textposition\":\"auto\",\"visible\":false,\"x\":[24.68248953711259,25.41188874739353,26.925201770767828,27.005622550980878,27.333453714960044,28.31026625295171,28.32866455623083,28.935851210416804,29.589901699581507,29.830107068515748,31.912194659000804,34.54772981294077,37.207200554646185,37.96882680106311,42.99113702025901,43.72702466438217,44.719559560250275,50.520055309734516,71.48568800588669,75.97156141685689],\"y\":[\"Algeria\",\"Estonia\",\"Ukraine\",\"Greece\",\"Latvia\",\"Burkina Faso\",\"Pakistan\",\"Jamaica\",\"Portugal\",\"Kazakhstan\",\"Poland\",\"Armenia\",\"Moldova\",\"Lesotho\",\"Lithuania\",\"Eritrea\",\"Jordan\",\"Belarus\",\"Puerto Rico\",\"Ireland\"],\"type\":\"bar\"},{\"hoverinfo\":\"text\",\"hovertext\":[\"\\u003cb\\u003eAzerbaijan\\u003c\\u002fb\\u003e\\u003cbr\\u003eMigrants: 1,477,265.0\\u003cbr\\u003ePopulation: 6,160,500.0\\u003cbr\\u003e% Migrated: 23.98%\",\"\\u003cb\\u003eGreece\\u003c\\u002fb\\u003e\\u003cbr\\u003eMigrants: 2,366,529.0\\u003cbr\\u003ePopulation: 9,642,505.0\\u003cbr\\u003e% Migrated: 24.54%\",\"\\u003cb\\u003eLatvia\\u003c\\u002fb\\u003e\\u003cbr\\u003eMigrants: 618,379.0\\u003cbr\\u003ePopulation: 2,511,701.0\\u003cbr\\u003e% Migrated: 24.62%\",\"\\u003cb\\u003eGeorgia\\u003c\\u002fb\\u003e\\u003cbr\\u003eMigrants: 1,134,883.0\\u003cbr\\u003ePopulation: 4,467,700.0\\u003cbr\\u003e% Migrated: 25.40%\",\"\\u003cb\\u003eUkraine\\u003c\\u002fb\\u003e\\u003cbr\\u003eMigrants: 12,736,223.0\\u003cbr\\u003ePopulation: 49,955,152.0\\u003cbr\\u003e% Migrated: 25.50%\",\"\\u003cb\\u003eBurkina Faso\\u003c\\u002fb\\u003e\\u003cbr\\u003eMigrants: 1,808,815.0\\u003cbr\\u003ePopulation: 6,947,900.0\\u003cbr\\u003e% Migrated: 26.03%\",\"\\u003cb\\u003ePoland\\u003c\\u002fb\\u003e\\u003cbr\\u003eMigrants: 9,600,733.0\\u003cbr\\u003ePopulation: 35,574,150.0\\u003cbr\\u003e% Migrated: 26.99%\",\"\\u003cb\\u003eKazakhstan\\u003c\\u002fb\\u003e\\u003cbr\\u003eMigrants: 4,118,173.0\\u003cbr\\u003ePopulation: 15,152,949.0\\u003cbr\\u003e% Migrated: 27.18%\",\"\\u003cb\\u003eArmenia\\u003c\\u002fb\\u003e\\u003cbr\\u003eMigrants: 861,079.0\\u003cbr\\u003ePopulation: 3,107,415.0\\u003cbr\\u003e% Migrated: 27.71%\",\"\\u003cb\\u003eLebanon\\u003c\\u002fb\\u003e\\u003cbr\\u003eMigrants: 881,132.0\\u003cbr\\u003ePopulation: 2,944,763.0\\u003cbr\\u003e% Migrated: 29.92%\",\"\\u003cb\\u003eLesotho\\u003c\\u002fb\\u003e\\u003cbr\\u003eMigrants: 437,098.0\\u003cbr\\u003ePopulation: 1,406,521.0\\u003cbr\\u003e% Migrated: 31.08%\",\"\\u003cb\\u003eMoldova\\u003c\\u002fb\\u003e\\u003cbr\\u003eMigrants: 881,014.0\\u003cbr\\u003ePopulation: 2,708,675.0\\u003cbr\\u003e% Migrated: 32.53%\",\"\\u003cb\\u003eLithuania\\u003c\\u002fb\\u003e\\u003cbr\\u003eMigrants: 1,132,057.0\\u003cbr\\u003ePopulation: 3,413,202.0\\u003cbr\\u003e% Migrated: 33.17%\",\"\\u003cb\\u003eEritrea\\u003c\\u002fb\\u003e\\u003cbr\\u003eMigrants: 581,111.0\\u003cbr\\u003ePopulation: 1,605,797.0\\u003cbr\\u003e% Migrated: 36.19%\",\"\\u003cb\\u003ePortugal\\u003c\\u002fb\\u003e\\u003cbr\\u003eMigrants: 3,744,028.0\\u003cbr\\u003ePopulation: 9,766,312.0\\u003cbr\\u003e% Migrated: 38.34%\",\"\\u003cb\\u003eJamaica\\u003c\\u002fb\\u003e\\u003cbr\\u003eMigrants: 853,625.0\\u003cbr\\u003ePopulation: 2,145,658.0\\u003cbr\\u003e% Migrated: 39.78%\",\"\\u003cb\\u003eBelarus\\u003c\\u002fb\\u003e\\u003cbr\\u003eMigrants: 4,639,173.0\\u003cbr\\u003ePopulation: 9,643,000.0\\u003cbr\\u003e% Migrated: 48.11%\",\"\\u003cb\\u003eIreland\\u003c\\u002fb\\u003e\\u003cbr\\u003eMigrants: 1,823,479.0\\u003cbr\\u003ePopulation: 3,412,800.0\\u003cbr\\u003e% Migrated: 53.43%\",\"\\u003cb\\u003eJordan\\u003c\\u002fb\\u003e\\u003cbr\\u003eMigrants: 1,256,784.0\\u003cbr\\u003ePopulation: 2,234,186.0\\u003cbr\\u003e% Migrated: 56.25%\",\"\\u003cb\\u003ePuerto Rico\\u003c\\u002fb\\u003e\\u003cbr\\u003eMigrants: 2,322,435.0\\u003cbr\\u003ePopulation: 3,206,000.0\\u003cbr\\u003e% Migrated: 72.44%\"],\"marker\":{\"cmax\":33.62020569070704,\"cmin\":0,\"color\":[23.979628276925574,24.542678484480952,24.61992888484736,25.40195178727309,25.495314277093982,26.03398149081017,26.987947709221444,27.177369896777186,27.71046030221261,29.922000514133057,31.07653565072971,32.52564445716079,33.16700857435335,36.18832268337779,38.33614981786369,39.78383321107092,48.1092294928964,53.43058485700891,56.25243377230007,72.44026824703681],\"colorscale\":[[0.0,\"#440154\"],[0.1111111111111111,\"#482878\"],[0.2222222222222222,\"#3e4989\"],[0.3333333333333333,\"#31688e\"],[0.4444444444444444,\"#26828e\"],[0.5555555555555556,\"#1f9e89\"],[0.6666666666666666,\"#35b779\"],[0.7777777777777778,\"#6ece58\"],[0.8888888888888888,\"#b5de2b\"],[1.0,\"#fde725\"]]},\"name\":\"1980\",\"orientation\":\"h\",\"text\":[\"23.98%\",\"24.54%\",\"24.62%\",\"25.4%\",\"25.5%\",\"26.03%\",\"26.99%\",\"27.18%\",\"27.71%\",\"29.92%\",\"31.08%\",\"32.53%\",\"33.17%\",\"36.19%\",\"38.34%\",\"39.78%\",\"48.11%\",\"53.43%\",\"56.25%\",\"72.44%\"],\"textposition\":\"auto\",\"visible\":false,\"x\":[23.979628276925574,24.542678484480952,24.61992888484736,25.40195178727309,25.495314277093982,26.03398149081017,26.987947709221444,27.177369896777186,27.71046030221261,29.922000514133057,31.07653565072971,32.52564445716079,33.16700857435335,36.18832268337779,38.33614981786369,39.78383321107092,48.1092294928964,53.43058485700891,56.25243377230007,72.44026824703681],\"y\":[\"Azerbaijan\",\"Greece\",\"Latvia\",\"Georgia\",\"Ukraine\",\"Burkina Faso\",\"Poland\",\"Kazakhstan\",\"Armenia\",\"Lebanon\",\"Lesotho\",\"Moldova\",\"Lithuania\",\"Eritrea\",\"Portugal\",\"Jamaica\",\"Belarus\",\"Ireland\",\"Jordan\",\"Puerto Rico\"],\"type\":\"bar\"},{\"hoverinfo\":\"text\",\"hovertext\":[\"\\u003cb\\u003eArmenia\\u003c\\u002fb\\u003e\\u003cbr\\u003eMigrants: 940,667.0\\u003cbr\\u003ePopulation: 3,552,128.0\\u003cbr\\u003e% Migrated: 26.48%\",\"\\u003cb\\u003eUkraine\\u003c\\u002fb\\u003e\\u003cbr\\u003eMigrants: 14,357,496.0\\u003cbr\\u003ePopulation: 52,054,092.0\\u003cbr\\u003e% Migrated: 27.58%\",\"\\u003cb\\u003eAzerbaijan\\u003c\\u002fb\\u003e\\u003cbr\\u003eMigrants: 2,033,808.0\\u003cbr\\u003ePopulation: 7,175,200.0\\u003cbr\\u003e% Migrated: 28.34%\",\"\\u003cb\\u003eLithuania\\u003c\\u002fb\\u003e\\u003cbr\\u003eMigrants: 1,178,272.0\\u003cbr\\u003ePopulation: 3,697,838.0\\u003cbr\\u003e% Migrated: 31.86%\",\"\\u003cb\\u003eEritrea\\u003c\\u002fb\\u003e\\u003cbr\\u003eMigrants: 651,007.0\\u003cbr\\u003ePopulation: 2,032,737.0\\u003cbr\\u003e% Migrated: 32.03%\",\"\\u003cb\\u003eKazakhstan\\u003c\\u002fb\\u003e\\u003cbr\\u003eMigrants: 5,578,190.0\\u003cbr\\u003ePopulation: 17,154,054.0\\u003cbr\\u003e% Migrated: 32.52%\",\"\\u003cb\\u003eLebanon\\u003c\\u002fb\\u003e\\u003cbr\\u003eMigrants: 1,198,245.0\\u003cbr\\u003ePopulation: 3,595,175.0\\u003cbr\\u003e% Migrated: 33.33%\",\"\\u003cb\\u003eKuwait\\u003c\\u002fb\\u003e\\u003cbr\\u003eMigrants: 562,113.0\\u003cbr\\u003ePopulation: 1,684,819.0\\u003cbr\\u003e% Migrated: 33.36%\",\"\\u003cb\\u003eTrinidad and Tobago\\u003c\\u002fb\\u003e\\u003cbr\\u003eMigrants: 418,566.0\\u003cbr\\u003ePopulation: 1,252,208.0\\u003cbr\\u003e% Migrated: 33.43%\",\"\\u003cb\\u003ePortugal\\u003c\\u002fb\\u003e\\u003cbr\\u003eMigrants: 3,561,515.0\\u003cbr\\u003ePopulation: 9,983,218.0\\u003cbr\\u003e% Migrated: 35.68%\",\"\\u003cb\\u003eGeorgia\\u003c\\u002fb\\u003e\\u003cbr\\u003eMigrants: 1,720,094.0\\u003cbr\\u003ePopulation: 4,802,000.0\\u003cbr\\u003e% Migrated: 35.82%\",\"\\u003cb\\u003eLesotho\\u003c\\u002fb\\u003e\\u003cbr\\u003eMigrants: 657,076.0\\u003cbr\\u003ePopulation: 1,809,696.0\\u003cbr\\u003e% Migrated: 36.31%\",\"\\u003cb\\u003eBosnia and Herzegovina\\u003c\\u002fb\\u003e\\u003cbr\\u003eMigrants: 1,655,460.0\\u003cbr\\u003ePopulation: 4,448,652.0\\u003cbr\\u003e% Migrated: 37.21%\",\"\\u003cb\\u003eMoldova\\u003c\\u002fb\\u003e\\u003cbr\\u003eMigrants: 1,187,737.0\\u003cbr\\u003ePopulation: 2,977,912.0\\u003cbr\\u003e% Migrated: 39.88%\",\"\\u003cb\\u003eBelarus\\u003c\\u002fb\\u003e\\u003cbr\\u003eMigrants: 5,058,853.0\\u003cbr\\u003ePopulation: 10,189,348.0\\u003cbr\\u003e% Migrated: 49.65%\",\"\\u003cb\\u003eJamaica\\u003c\\u002fb\\u003e\\u003cbr\\u003eMigrants: 1,263,827.0\\u003cbr\\u003ePopulation: 2,379,877.0\\u003cbr\\u003e% Migrated: 53.10%\",\"\\u003cb\\u003eJordan\\u003c\\u002fb\\u003e\\u003cbr\\u003eMigrants: 1,958,881.0\\u003cbr\\u003ePopulation: 3,621,908.0\\u003cbr\\u003e% Migrated: 54.08%\",\"\\u003cb\\u003eIreland\\u003c\\u002fb\\u003e\\u003cbr\\u003eMigrants: 1,927,868.0\\u003cbr\\u003ePopulation: 3,513,974.0\\u003cbr\\u003e% Migrated: 54.86%\",\"\\u003cb\\u003eWest Bank and Gaza\\u003c\\u002fb\\u003e\\u003cbr\\u003eMigrants: 1,582,365.0\\u003cbr\\u003ePopulation: 1,978,248.0\\u003cbr\\u003e% Migrated: 79.99%\",\"\\u003cb\\u003ePuerto Rico\\u003c\\u002fb\\u003e\\u003cbr\\u003eMigrants: 2,906,426.0\\u003cbr\\u003ePopulation: 3,537,000.0\\u003cbr\\u003e% Migrated: 82.17%\"],\"marker\":{\"cmax\":37.12222269900257,\"cmin\":0,\"color\":[26.481787818456993,27.58187771289911,28.344965993979258,31.863807987261744,32.026130286406946,32.5182024027673,33.32925379154005,33.36340580204758,33.42623589691169,35.675019818259,35.820366513952514,36.3086396831291,37.21262081187739,39.884892501860364,49.648446593442486,53.104719277508885,54.08422853368998,54.8628988148461,79.98820168148785,82.17206672321176],\"colorscale\":[[0.0,\"#440154\"],[0.1111111111111111,\"#482878\"],[0.2222222222222222,\"#3e4989\"],[0.3333333333333333,\"#31688e\"],[0.4444444444444444,\"#26828e\"],[0.5555555555555556,\"#1f9e89\"],[0.6666666666666666,\"#35b779\"],[0.7777777777777778,\"#6ece58\"],[0.8888888888888888,\"#b5de2b\"],[1.0,\"#fde725\"]]},\"name\":\"1990\",\"orientation\":\"h\",\"text\":[\"26.48%\",\"27.58%\",\"28.34%\",\"31.86%\",\"32.03%\",\"32.52%\",\"33.33%\",\"33.36%\",\"33.43%\",\"35.68%\",\"35.82%\",\"36.31%\",\"37.21%\",\"39.88%\",\"49.65%\",\"53.1%\",\"54.08%\",\"54.86%\",\"79.99%\",\"82.17%\"],\"textposition\":\"auto\",\"visible\":false,\"x\":[26.481787818456993,27.58187771289911,28.344965993979258,31.863807987261744,32.026130286406946,32.5182024027673,33.32925379154005,33.36340580204758,33.42623589691169,35.675019818259,35.820366513952514,36.3086396831291,37.21262081187739,39.884892501860364,49.648446593442486,53.104719277508885,54.08422853368998,54.8628988148461,79.98820168148785,82.17206672321176],\"y\":[\"Armenia\",\"Ukraine\",\"Azerbaijan\",\"Lithuania\",\"Eritrea\",\"Kazakhstan\",\"Lebanon\",\"Kuwait\",\"Trinidad and Tobago\",\"Portugal\",\"Georgia\",\"Lesotho\",\"Bosnia and Herzegovina\",\"Moldova\",\"Belarus\",\"Jamaica\",\"Jordan\",\"Ireland\",\"West Bank and Gaza\",\"Puerto Rico\"],\"type\":\"bar\"},{\"hoverinfo\":\"text\",\"hovertext\":[\"\\u003cb\\u003eLithuania\\u003c\\u002fb\\u003e\\u003cbr\\u003eMigrants: 1,069,852.0\\u003cbr\\u003ePopulation: 3,499,536.0\\u003cbr\\u003e% Migrated: 30.57%\",\"\\u003cb\\u003eLebanon\\u003c\\u002fb\\u003e\\u003cbr\\u003eMigrants: 1,353,979.0\\u003cbr\\u003ePopulation: 4,329,340.0\\u003cbr\\u003e% Migrated: 31.27%\",\"\\u003cb\\u003eEl Salvador\\u003c\\u002fb\\u003e\\u003cbr\\u003eMigrants: 1,870,497.0\\u003cbr\\u003ePopulation: 5,943,366.0\\u003cbr\\u003e% Migrated: 31.47%\",\"\\u003cb\\u003eEritrea\\u003c\\u002fb\\u003e\\u003cbr\\u003eMigrants: 718,421.0\\u003cbr\\u003ePopulation: 2,247,031.0\\u003cbr\\u003e% Migrated: 31.97%\",\"\\u003cb\\u003eEstonia\\u003c\\u002fb\\u003e\\u003cbr\\u003eMigrants: 463,050.0\\u003cbr\\u003ePopulation: 1,396,985.0\\u003cbr\\u003e% Migrated: 33.15%\",\"\\u003cb\\u003eBelarus\\u003c\\u002fb\\u003e\\u003cbr\\u003eMigrants: 3,493,775.0\\u003cbr\\u003ePopulation: 9,979,610.0\\u003cbr\\u003e% Migrated: 35.01%\",\"\\u003cb\\u003eKuwait\\u003c\\u002fb\\u003e\\u003cbr\\u003eMigrants: 725,869.0\\u003cbr\\u003ePopulation: 1,954,709.0\\u003cbr\\u003e% Migrated: 37.13%\",\"\\u003cb\\u003eAzerbaijan\\u003c\\u002fb\\u003e\\u003cbr\\u003eMigrants: 3,016,374.0\\u003cbr\\u003ePopulation: 8,048,600.0\\u003cbr\\u003e% Migrated: 37.48%\",\"\\u003cb\\u003eJordan\\u003c\\u002fb\\u003e\\u003cbr\\u003eMigrants: 2,200,488.0\\u003cbr\\u003ePopulation: 5,386,945.0\\u003cbr\\u003e% Migrated: 40.85%\",\"\\u003cb\\u003eKazakhstan\\u003c\\u002fb\\u003e\\u003cbr\\u003eMigrants: 6,764,727.0\\u003cbr\\u003ePopulation: 15,501,103.0\\u003cbr\\u003e% Migrated: 43.64%\",\"\\u003cb\\u003eMoldova\\u003c\\u002fb\\u003e\\u003cbr\\u003eMigrants: 1,286,448.0\\u003cbr\\u003ePopulation: 2,924,668.0\\u003cbr\\u003e% Migrated: 43.99%\",\"\\u003cb\\u003eTrinidad and Tobago\\u003c\\u002fb\\u003e\\u003cbr\\u003eMigrants: 614,539.0\\u003cbr\\u003ePopulation: 1,319,774.0\\u003cbr\\u003e% Migrated: 46.56%\",\"\\u003cb\\u003eArmenia\\u003c\\u002fb\\u003e\\u003cbr\\u003eMigrants: 1,707,654.0\\u003cbr\\u003ePopulation: 3,221,100.0\\u003cbr\\u003e% Migrated: 53.01%\",\"\\u003cb\\u003eGeorgia\\u003c\\u002fb\\u003e\\u003cbr\\u003eMigrants: 2,279,261.0\\u003cbr\\u003ePopulation: 4,077,131.0\\u003cbr\\u003e% Migrated: 55.90%\",\"\\u003cb\\u003eIreland\\u003c\\u002fb\\u003e\\u003cbr\\u003eMigrants: 2,247,195.0\\u003cbr\\u003ePopulation: 3,805,174.0\\u003cbr\\u003e% Migrated: 59.06%\",\"\\u003cb\\u003eBosnia and Herzegovina\\u003c\\u002fb\\u003e\\u003cbr\\u003eMigrants: 2,587,705.0\\u003cbr\\u003ePopulation: 4,159,771.0\\u003cbr\\u003e% Migrated: 62.21%\",\"\\u003cb\\u003eWest Bank and Gaza\\u003c\\u002fb\\u003e\\u003cbr\\u003eMigrants: 1,931,712.0\\u003cbr\\u003ePopulation: 2,922,153.0\\u003cbr\\u003e% Migrated: 66.11%\",\"\\u003cb\\u003eAlbania\\u003c\\u002fb\\u003e\\u003cbr\\u003eMigrants: 2,048,024.0\\u003cbr\\u003ePopulation: 3,089,027.0\\u003cbr\\u003e% Migrated: 66.30%\",\"\\u003cb\\u003eJamaica\\u003c\\u002fb\\u003e\\u003cbr\\u003eMigrants: 1,860,114.0\\u003cbr\\u003ePopulation: 2,607,826.0\\u003cbr\\u003e% Migrated: 71.33%\",\"\\u003cb\\u003ePuerto Rico\\u003c\\u002fb\\u003e\\u003cbr\\u003eMigrants: 2,981,082.0\\u003cbr\\u003ePopulation: 3,810,605.0\\u003cbr\\u003e% Migrated: 78.23%\"],\"marker\":{\"cmax\":51.72448929966065,\"cmin\":0,\"color\":[30.571252874666815,31.27448987605501,31.472014343387233,31.97201106704803,33.14638310361242,35.00913362345823,37.13437652356438,37.477002211564745,40.84853288830682,43.6402945003333,43.9861208178159,46.56395716236265,53.01462233398529,55.903550805701364,59.05630071055883,62.20787153908232,66.10577885552193,66.29997083223941,71.32814842708063,78.23119950768972],\"colorscale\":[[0.0,\"#440154\"],[0.1111111111111111,\"#482878\"],[0.2222222222222222,\"#3e4989\"],[0.3333333333333333,\"#31688e\"],[0.4444444444444444,\"#26828e\"],[0.5555555555555556,\"#1f9e89\"],[0.6666666666666666,\"#35b779\"],[0.7777777777777778,\"#6ece58\"],[0.8888888888888888,\"#b5de2b\"],[1.0,\"#fde725\"]]},\"name\":\"2000\",\"orientation\":\"h\",\"text\":[\"30.57%\",\"31.27%\",\"31.47%\",\"31.97%\",\"33.15%\",\"35.01%\",\"37.13%\",\"37.48%\",\"40.85%\",\"43.64%\",\"43.99%\",\"46.56%\",\"53.01%\",\"55.9%\",\"59.06%\",\"62.21%\",\"66.11%\",\"66.3%\",\"71.33%\",\"78.23%\"],\"textposition\":\"auto\",\"visible\":false,\"x\":[30.571252874666815,31.27448987605501,31.472014343387233,31.97201106704803,33.14638310361242,35.00913362345823,37.13437652356438,37.477002211564745,40.84853288830682,43.6402945003333,43.9861208178159,46.56395716236265,53.01462233398529,55.903550805701364,59.05630071055883,62.20787153908232,66.10577885552193,66.29997083223941,71.32814842708063,78.23119950768972],\"y\":[\"Lithuania\",\"Lebanon\",\"El Salvador\",\"Eritrea\",\"Estonia\",\"Belarus\",\"Kuwait\",\"Azerbaijan\",\"Jordan\",\"Kazakhstan\",\"Moldova\",\"Trinidad and Tobago\",\"Armenia\",\"Georgia\",\"Ireland\",\"Bosnia and Herzegovina\",\"West Bank and Gaza\",\"Albania\",\"Jamaica\",\"Puerto Rico\"],\"type\":\"bar\"}],                        {\"template\":{\"data\":{\"histogram2dcontour\":[{\"type\":\"histogram2dcontour\",\"colorbar\":{\"outlinewidth\":0,\"ticks\":\"\"},\"colorscale\":[[0.0,\"#0d0887\"],[0.1111111111111111,\"#46039f\"],[0.2222222222222222,\"#7201a8\"],[0.3333333333333333,\"#9c179e\"],[0.4444444444444444,\"#bd3786\"],[0.5555555555555556,\"#d8576b\"],[0.6666666666666666,\"#ed7953\"],[0.7777777777777778,\"#fb9f3a\"],[0.8888888888888888,\"#fdca26\"],[1.0,\"#f0f921\"]]}],\"choropleth\":[{\"type\":\"choropleth\",\"colorbar\":{\"outlinewidth\":0,\"ticks\":\"\"}}],\"histogram2d\":[{\"type\":\"histogram2d\",\"colorbar\":{\"outlinewidth\":0,\"ticks\":\"\"},\"colorscale\":[[0.0,\"#0d0887\"],[0.1111111111111111,\"#46039f\"],[0.2222222222222222,\"#7201a8\"],[0.3333333333333333,\"#9c179e\"],[0.4444444444444444,\"#bd3786\"],[0.5555555555555556,\"#d8576b\"],[0.6666666666666666,\"#ed7953\"],[0.7777777777777778,\"#fb9f3a\"],[0.8888888888888888,\"#fdca26\"],[1.0,\"#f0f921\"]]}],\"heatmap\":[{\"type\":\"heatmap\",\"colorbar\":{\"outlinewidth\":0,\"ticks\":\"\"},\"colorscale\":[[0.0,\"#0d0887\"],[0.1111111111111111,\"#46039f\"],[0.2222222222222222,\"#7201a8\"],[0.3333333333333333,\"#9c179e\"],[0.4444444444444444,\"#bd3786\"],[0.5555555555555556,\"#d8576b\"],[0.6666666666666666,\"#ed7953\"],[0.7777777777777778,\"#fb9f3a\"],[0.8888888888888888,\"#fdca26\"],[1.0,\"#f0f921\"]]}],\"heatmapgl\":[{\"type\":\"heatmapgl\",\"colorbar\":{\"outlinewidth\":0,\"ticks\":\"\"},\"colorscale\":[[0.0,\"#0d0887\"],[0.1111111111111111,\"#46039f\"],[0.2222222222222222,\"#7201a8\"],[0.3333333333333333,\"#9c179e\"],[0.4444444444444444,\"#bd3786\"],[0.5555555555555556,\"#d8576b\"],[0.6666666666666666,\"#ed7953\"],[0.7777777777777778,\"#fb9f3a\"],[0.8888888888888888,\"#fdca26\"],[1.0,\"#f0f921\"]]}],\"contourcarpet\":[{\"type\":\"contourcarpet\",\"colorbar\":{\"outlinewidth\":0,\"ticks\":\"\"}}],\"contour\":[{\"type\":\"contour\",\"colorbar\":{\"outlinewidth\":0,\"ticks\":\"\"},\"colorscale\":[[0.0,\"#0d0887\"],[0.1111111111111111,\"#46039f\"],[0.2222222222222222,\"#7201a8\"],[0.3333333333333333,\"#9c179e\"],[0.4444444444444444,\"#bd3786\"],[0.5555555555555556,\"#d8576b\"],[0.6666666666666666,\"#ed7953\"],[0.7777777777777778,\"#fb9f3a\"],[0.8888888888888888,\"#fdca26\"],[1.0,\"#f0f921\"]]}],\"surface\":[{\"type\":\"surface\",\"colorbar\":{\"outlinewidth\":0,\"ticks\":\"\"},\"colorscale\":[[0.0,\"#0d0887\"],[0.1111111111111111,\"#46039f\"],[0.2222222222222222,\"#7201a8\"],[0.3333333333333333,\"#9c179e\"],[0.4444444444444444,\"#bd3786\"],[0.5555555555555556,\"#d8576b\"],[0.6666666666666666,\"#ed7953\"],[0.7777777777777778,\"#fb9f3a\"],[0.8888888888888888,\"#fdca26\"],[1.0,\"#f0f921\"]]}],\"mesh3d\":[{\"type\":\"mesh3d\",\"colorbar\":{\"outlinewidth\":0,\"ticks\":\"\"}}],\"scatter\":[{\"fillpattern\":{\"fillmode\":\"overlay\",\"size\":10,\"solidity\":0.2},\"type\":\"scatter\"}],\"parcoords\":[{\"type\":\"parcoords\",\"line\":{\"colorbar\":{\"outlinewidth\":0,\"ticks\":\"\"}}}],\"scatterpolargl\":[{\"type\":\"scatterpolargl\",\"marker\":{\"colorbar\":{\"outlinewidth\":0,\"ticks\":\"\"}}}],\"bar\":[{\"error_x\":{\"color\":\"#2a3f5f\"},\"error_y\":{\"color\":\"#2a3f5f\"},\"marker\":{\"line\":{\"color\":\"#E5ECF6\",\"width\":0.5},\"pattern\":{\"fillmode\":\"overlay\",\"size\":10,\"solidity\":0.2}},\"type\":\"bar\"}],\"scattergeo\":[{\"type\":\"scattergeo\",\"marker\":{\"colorbar\":{\"outlinewidth\":0,\"ticks\":\"\"}}}],\"scatterpolar\":[{\"type\":\"scatterpolar\",\"marker\":{\"colorbar\":{\"outlinewidth\":0,\"ticks\":\"\"}}}],\"histogram\":[{\"marker\":{\"pattern\":{\"fillmode\":\"overlay\",\"size\":10,\"solidity\":0.2}},\"type\":\"histogram\"}],\"scattergl\":[{\"type\":\"scattergl\",\"marker\":{\"colorbar\":{\"outlinewidth\":0,\"ticks\":\"\"}}}],\"scatter3d\":[{\"type\":\"scatter3d\",\"line\":{\"colorbar\":{\"outlinewidth\":0,\"ticks\":\"\"}},\"marker\":{\"colorbar\":{\"outlinewidth\":0,\"ticks\":\"\"}}}],\"scattermapbox\":[{\"type\":\"scattermapbox\",\"marker\":{\"colorbar\":{\"outlinewidth\":0,\"ticks\":\"\"}}}],\"scatterternary\":[{\"type\":\"scatterternary\",\"marker\":{\"colorbar\":{\"outlinewidth\":0,\"ticks\":\"\"}}}],\"scattercarpet\":[{\"type\":\"scattercarpet\",\"marker\":{\"colorbar\":{\"outlinewidth\":0,\"ticks\":\"\"}}}],\"carpet\":[{\"aaxis\":{\"endlinecolor\":\"#2a3f5f\",\"gridcolor\":\"white\",\"linecolor\":\"white\",\"minorgridcolor\":\"white\",\"startlinecolor\":\"#2a3f5f\"},\"baxis\":{\"endlinecolor\":\"#2a3f5f\",\"gridcolor\":\"white\",\"linecolor\":\"white\",\"minorgridcolor\":\"white\",\"startlinecolor\":\"#2a3f5f\"},\"type\":\"carpet\"}],\"table\":[{\"cells\":{\"fill\":{\"color\":\"#EBF0F8\"},\"line\":{\"color\":\"white\"}},\"header\":{\"fill\":{\"color\":\"#C8D4E3\"},\"line\":{\"color\":\"white\"}},\"type\":\"table\"}],\"barpolar\":[{\"marker\":{\"line\":{\"color\":\"#E5ECF6\",\"width\":0.5},\"pattern\":{\"fillmode\":\"overlay\",\"size\":10,\"solidity\":0.2}},\"type\":\"barpolar\"}],\"pie\":[{\"automargin\":true,\"type\":\"pie\"}]},\"layout\":{\"autotypenumbers\":\"strict\",\"colorway\":[\"#636efa\",\"#EF553B\",\"#00cc96\",\"#ab63fa\",\"#FFA15A\",\"#19d3f3\",\"#FF6692\",\"#B6E880\",\"#FF97FF\",\"#FECB52\"],\"font\":{\"color\":\"#2a3f5f\"},\"hovermode\":\"closest\",\"hoverlabel\":{\"align\":\"left\"},\"paper_bgcolor\":\"white\",\"plot_bgcolor\":\"#E5ECF6\",\"polar\":{\"bgcolor\":\"#E5ECF6\",\"angularaxis\":{\"gridcolor\":\"white\",\"linecolor\":\"white\",\"ticks\":\"\"},\"radialaxis\":{\"gridcolor\":\"white\",\"linecolor\":\"white\",\"ticks\":\"\"}},\"ternary\":{\"bgcolor\":\"#E5ECF6\",\"aaxis\":{\"gridcolor\":\"white\",\"linecolor\":\"white\",\"ticks\":\"\"},\"baxis\":{\"gridcolor\":\"white\",\"linecolor\":\"white\",\"ticks\":\"\"},\"caxis\":{\"gridcolor\":\"white\",\"linecolor\":\"white\",\"ticks\":\"\"}},\"coloraxis\":{\"colorbar\":{\"outlinewidth\":0,\"ticks\":\"\"}},\"colorscale\":{\"sequential\":[[0.0,\"#0d0887\"],[0.1111111111111111,\"#46039f\"],[0.2222222222222222,\"#7201a8\"],[0.3333333333333333,\"#9c179e\"],[0.4444444444444444,\"#bd3786\"],[0.5555555555555556,\"#d8576b\"],[0.6666666666666666,\"#ed7953\"],[0.7777777777777778,\"#fb9f3a\"],[0.8888888888888888,\"#fdca26\"],[1.0,\"#f0f921\"]],\"sequentialminus\":[[0.0,\"#0d0887\"],[0.1111111111111111,\"#46039f\"],[0.2222222222222222,\"#7201a8\"],[0.3333333333333333,\"#9c179e\"],[0.4444444444444444,\"#bd3786\"],[0.5555555555555556,\"#d8576b\"],[0.6666666666666666,\"#ed7953\"],[0.7777777777777778,\"#fb9f3a\"],[0.8888888888888888,\"#fdca26\"],[1.0,\"#f0f921\"]],\"diverging\":[[0,\"#8e0152\"],[0.1,\"#c51b7d\"],[0.2,\"#de77ae\"],[0.3,\"#f1b6da\"],[0.4,\"#fde0ef\"],[0.5,\"#f7f7f7\"],[0.6,\"#e6f5d0\"],[0.7,\"#b8e186\"],[0.8,\"#7fbc41\"],[0.9,\"#4d9221\"],[1,\"#276419\"]]},\"xaxis\":{\"gridcolor\":\"white\",\"linecolor\":\"white\",\"ticks\":\"\",\"title\":{\"standoff\":15},\"zerolinecolor\":\"white\",\"automargin\":true,\"zerolinewidth\":2},\"yaxis\":{\"gridcolor\":\"white\",\"linecolor\":\"white\",\"ticks\":\"\",\"title\":{\"standoff\":15},\"zerolinecolor\":\"white\",\"automargin\":true,\"zerolinewidth\":2},\"scene\":{\"xaxis\":{\"backgroundcolor\":\"#E5ECF6\",\"gridcolor\":\"white\",\"linecolor\":\"white\",\"showbackground\":true,\"ticks\":\"\",\"zerolinecolor\":\"white\",\"gridwidth\":2},\"yaxis\":{\"backgroundcolor\":\"#E5ECF6\",\"gridcolor\":\"white\",\"linecolor\":\"white\",\"showbackground\":true,\"ticks\":\"\",\"zerolinecolor\":\"white\",\"gridwidth\":2},\"zaxis\":{\"backgroundcolor\":\"#E5ECF6\",\"gridcolor\":\"white\",\"linecolor\":\"white\",\"showbackground\":true,\"ticks\":\"\",\"zerolinecolor\":\"white\",\"gridwidth\":2}},\"shapedefaults\":{\"line\":{\"color\":\"#2a3f5f\"}},\"annotationdefaults\":{\"arrowcolor\":\"#2a3f5f\",\"arrowhead\":0,\"arrowwidth\":1},\"geo\":{\"bgcolor\":\"white\",\"landcolor\":\"#E5ECF6\",\"subunitcolor\":\"white\",\"showland\":true,\"showlakes\":true,\"lakecolor\":\"white\"},\"title\":{\"x\":0.05},\"mapbox\":{\"style\":\"light\"}}},\"margin\":{\"l\":150,\"r\":50,\"b\":100,\"t\":100,\"pad\":4},\"updatemenus\":[{\"buttons\":[{\"args\":[{\"visible\":[true,false,false,false,false]},{\"title\":\"Top 20 Countries (\\u003e1M pop) by % Migrated (1960)\"}],\"label\":\"1960\",\"method\":\"update\"},{\"args\":[{\"visible\":[false,true,false,false,false]},{\"title\":\"Top 20 Countries (\\u003e1M pop) by % Migrated (1970)\"}],\"label\":\"1970\",\"method\":\"update\"},{\"args\":[{\"visible\":[false,false,true,false,false]},{\"title\":\"Top 20 Countries (\\u003e1M pop) by % Migrated (1980)\"}],\"label\":\"1980\",\"method\":\"update\"},{\"args\":[{\"visible\":[false,false,false,true,false]},{\"title\":\"Top 20 Countries (\\u003e1M pop) by % Migrated (1990)\"}],\"label\":\"1990\",\"method\":\"update\"},{\"args\":[{\"visible\":[false,false,false,false,true]},{\"title\":\"Top 20 Countries (\\u003e1M pop) by % Migrated (2000)\"}],\"label\":\"2000\",\"method\":\"update\"}],\"direction\":\"right\",\"showactive\":true,\"x\":0.5,\"xanchor\":\"center\",\"y\":1.2,\"yanchor\":\"top\"}],\"title\":{\"text\":\"Top 20 Countries (\\u003e1M population) by % Population Migrated (1960)\"},\"xaxis\":{\"title\":{\"text\":\"% of Population Migrated\"}},\"yaxis\":{\"title\":{\"text\":\"Country\"}},\"height\":700,\"showlegend\":false},                        {\"responsive\": true}                    ).then(function(){\n",
       "                            \n",
       "var gd = document.getElementById('84084ebd-e7cf-4238-9e90-b1c6673f5243');\n",
       "var x = new MutationObserver(function (mutations, observer) {{\n",
       "        var display = window.getComputedStyle(gd).display;\n",
       "        if (!display || display === 'none') {{\n",
       "            console.log([gd, 'removed!']);\n",
       "            Plotly.purge(gd);\n",
       "            observer.disconnect();\n",
       "        }}\n",
       "}});\n",
       "\n",
       "// Listen for the removal of the full notebook cells\n",
       "var notebookContainer = gd.closest('#notebook-container');\n",
       "if (notebookContainer) {{\n",
       "    x.observe(notebookContainer, {childList: true});\n",
       "}}\n",
       "\n",
       "// Listen for the clearing of the current output cell\n",
       "var outputEl = gd.closest('.output');\n",
       "if (outputEl) {{\n",
       "    x.observe(outputEl, {childList: true});\n",
       "}}\n",
       "\n",
       "                        })                };                });            </script>        </div>"
      ]
     },
     "metadata": {},
     "output_type": "display_data"
    }
   ],
   "source": [
    "\n",
    "\n",
    "mig = pd.read_excel('P_Data_Extract_From_Global_Bilateral_Migration.xlsx')\n",
    "\n",
    "\n",
    "pop = pd.read_excel('API_SP.POP.TOTL_DS2_en_excel_v2_124779.xlsx', skiprows=3)\n",
    "\n",
    "\n",
    "pop.columns = pop.columns.map(str).str.strip()\n",
    "\n",
    "\n",
    "years = ['1960 [1960]', '1970 [1970]', '1980 [1980]', '1990 [1990]', '2000 [2000]']\n",
    "\n",
    "\n",
    "for year in years:\n",
    "    mig[year] = pd.to_numeric(mig[year], errors='coerce')\n",
    "    year_short = year.split()[0]\n",
    "    if year_short in pop.columns:\n",
    "        pop[year_short] = pd.to_numeric(pop[year_short], errors='coerce')\n",
    "\n",
    "\n",
    "fig = go.Figure()\n",
    "buttons = []\n",
    "\n",
    "# Create one bar chart per year\n",
    "for i, year in enumerate(years):\n",
    "    year_short = year.split()[0]\n",
    "\n",
    "    if year_short not in pop.columns:\n",
    "        print(f\"⚠️ Skipping {year_short} — not in population data.\")\n",
    "        continue\n",
    "\n",
    "\n",
    "    mig_year = mig.groupby('Country Origin Name')[year].sum().reset_index()\n",
    "    pop_year = pop[['Country Name', year_short]].copy()\n",
    "\n",
    "\n",
    "    merged = pd.merge(mig_year, pop_year, left_on='Country Origin Name', right_on='Country Name', how='left')\n",
    "    merged = merged.dropna()\n",
    "    merged = merged[merged[year] > 0]\n",
    "\n",
    "\n",
    "    merged = merged[merged[year_short] >= 1_000_000]\n",
    "\n",
    "\n",
    "    merged['% Migrated'] = (merged[year] / merged[year_short]) * 100\n",
    "\n",
    "\n",
    "    merged = merged[merged['% Migrated'] <= 100]\n",
    "    \n",
    "    # Get top 20 countries by % migrated\n",
    "    top_20 = merged.nlargest(20, '% Migrated').sort_values('% Migrated', ascending=True)\n",
    "\n",
    "    fig.add_trace(go.Bar(\n",
    "        y=top_20['Country Name'],\n",
    "        x=top_20['% Migrated'],\n",
    "        orientation='h',\n",
    "        text=top_20['% Migrated'].round(2).astype(str) + '%',\n",
    "        textposition='auto',\n",
    "        hoverinfo='text',\n",
    "        hovertext=[\n",
    "            f\"<b>{row['Country Name']}</b><br>\"\n",
    "            f\"Migrants: {row[year]:,}<br>\"\n",
    "            f\"Population: {row[year_short]:,}<br>\"\n",
    "            f\"% Migrated: {row['% Migrated']:.2f}%\"\n",
    "            for _, row in top_20.iterrows()\n",
    "        ],\n",
    "        visible=(i == 0),\n",
    "        name=year_short,\n",
    "        marker=dict(\n",
    "            color=top_20['% Migrated'],\n",
    "            colorscale='Viridis',\n",
    "            cmin=0,\n",
    "            cmax=merged['% Migrated'].quantile(0.95)\n",
    "    )))\n",
    "\n",
    "\n",
    "    visibility = [False] * len(years)\n",
    "    visibility[i] = True\n",
    "    buttons.append(dict(label=year_short, method='update',\n",
    "                        args=[{'visible': visibility},\n",
    "                              {'title': f'Top 20 Countries (>1M pop) by % Migrated ({year_short})'}]))\n",
    "\n",
    "# Layout\n",
    "fig.update_layout(\n",
    "    updatemenus=[dict(\n",
    "        buttons=buttons,\n",
    "        direction='right',\n",
    "        showactive=True,\n",
    "        x=0.5,\n",
    "        y=1.2,\n",
    "        xanchor='center',\n",
    "        yanchor='top'\n",
    "    )],\n",
    "    title='Top 20 Countries (>1M population) by % Population Migrated (1960)',\n",
    "    xaxis_title='% of Population Migrated',\n",
    "    yaxis_title='Country',\n",
    "    height=700,\n",
    "    margin=dict(l=150, r=50, b=100, t=100, pad=4),\n",
    "    showlegend=False\n",
    ")\n",
    "\n",
    "fig.show()\n"
   ]
  },
  {
   "cell_type": "markdown",
   "id": "02aababc-8375-4c5b-8d32-4f30ba06d905",
   "metadata": {},
   "source": [
    "> Figuur 3: Een overzicht van de landen met de meeste migratie op basis van hoeveel procent van de bevolking geëmigreerd is."
   ]
  },
  {
   "cell_type": "markdown",
   "id": "04a498a7-07c9-4bc4-9191-7b41b28adc4c",
   "metadata": {},
   "source": [
    "Deze 20 landen hierboven aangegeven zullen we vergelijken met drie indicatoren die de ontwikkeling/levensstandaarden van een land kunnen schetsen. \n",
    "\n",
    "Deze ontwikkeling zijn voornamelijk gefocust op de gezondheid van de burger en zijn als volgt:\n",
    "\n",
    " \"Survival to age 65, male (% of cohort)\",\n",
    " \"Mortality rate, adult, female (per 1,000 female adults)\",\n",
    "\"Life expectancy at birth, total (years)\"\n",
    "Door deze indicatoren in kaart te brengen samen met de migratiecijfers van de landen kunnen we per land een conclusie trekken om vervolgens de eindconclusie over ons perspectief te beantwoorden.\n"
   ]
  },
  {
   "cell_type": "code",
   "execution_count": 4,
   "id": "7f9b72d8-4db0-4d40-a28a-40b29d90450b",
   "metadata": {},
   "outputs": [
    {
     "data": {
      "application/vnd.plotly.v1+json": {
       "config": {
        "plotlyServerURL": "https://plot.ly"
       },
       "data": [
        {
         "hovertemplate": "Jaar: %{x}<br>Migranten: %{y:,}",
         "line": {
          "width": 2
         },
         "name": "Migratie - Puerto Rico",
         "type": "scatter",
         "visible": true,
         "x": [
          "1960",
          "1970",
          "1980",
          "1990",
          "2000"
         ],
         "xaxis": "x",
         "y": [
          1341184,
          1942981,
          2322435,
          2906426,
          2981082
         ],
         "yaxis": "y"
        },
        {
         "hovertemplate": "Jaar: %{x}<br>Survival to age 65, male (% of cohort): %{y:,.2f}",
         "line": {
          "dash": "dot"
         },
         "name": "Survival to age 65, male (% of cohort) - Puerto Rico",
         "type": "scatter",
         "visible": true,
         "x": [
          "1960",
          "1970",
          "1980",
          "1990",
          "2000"
         ],
         "xaxis": "x",
         "y": [
          65.983142,
          67.90044,
          71.125573,
          70.380885,
          73.184633
         ],
         "yaxis": "y2"
        },
        {
         "hovertemplate": "Jaar: %{x}<br>Mortality rate, adult, female (per 1,000 female adults): %{y:,.2f}",
         "line": {
          "dash": "dot"
         },
         "name": "Mortality rate, adult, female (per 1,000 female adults) - Puerto Rico",
         "type": "scatter",
         "visible": true,
         "x": [
          "1960",
          "1970",
          "1980",
          "1990",
          "2000"
         ],
         "xaxis": "x",
         "y": [
          137.453,
          121.46,
          95.354,
          99.722,
          79.31
         ],
         "yaxis": "y2"
        },
        {
         "hovertemplate": "Jaar: %{x}<br>Life expectancy at birth, total (years): %{y:,.2f}",
         "line": {
          "dash": "dot"
         },
         "name": "Life expectancy at birth, total (years) - Puerto Rico",
         "type": "scatter",
         "visible": true,
         "x": [
          "1960",
          "1970",
          "1980",
          "1990",
          "2000"
         ],
         "xaxis": "x",
         "y": [
          68.627,
          70.352,
          73.101,
          72.827,
          75.514
         ],
         "yaxis": "y2"
        },
        {
         "hovertemplate": "Jaar: %{x}<br>Migranten: %{y:,}",
         "line": {
          "width": 2
         },
         "name": "Migratie - Jamaica",
         "type": "scatter",
         "visible": false,
         "x": [
          "1960",
          "1970",
          "1980",
          "1990",
          "2000"
         ],
         "xaxis": "x",
         "y": [
          418639,
          543472,
          853625,
          1263827,
          1860114
         ],
         "yaxis": "y"
        },
        {
         "hovertemplate": "Jaar: %{x}<br>Survival to age 65, male (% of cohort): %{y:,.2f}",
         "line": {
          "dash": "dot"
         },
         "name": "Survival to age 65, male (% of cohort) - Jamaica",
         "type": "scatter",
         "visible": false,
         "x": [
          "1960",
          "1970",
          "1980",
          "1990",
          "2000"
         ],
         "xaxis": "x",
         "y": [
          60.498537,
          63.574989,
          67.550746,
          74.166908,
          70.682923
         ],
         "yaxis": "y2"
        },
        {
         "hovertemplate": "Jaar: %{x}<br>Mortality rate, adult, female (per 1,000 female adults): %{y:,.2f}",
         "line": {
          "dash": "dot"
         },
         "name": "Mortality rate, adult, female (per 1,000 female adults) - Jamaica",
         "type": "scatter",
         "visible": false,
         "x": [
          "1960",
          "1970",
          "1980",
          "1990",
          "2000"
         ],
         "xaxis": "x",
         "y": [
          189.312,
          166.942,
          154.549,
          133.167,
          135.562
         ],
         "yaxis": "y2"
        },
        {
         "hovertemplate": "Jaar: %{x}<br>Life expectancy at birth, total (years): %{y:,.2f}",
         "line": {
          "dash": "dot"
         },
         "name": "Life expectancy at birth, total (years) - Jamaica",
         "type": "scatter",
         "visible": false,
         "x": [
          "1960",
          "1970",
          "1980",
          "1990",
          "2000"
         ],
         "xaxis": "x",
         "y": [
          63.828,
          66.731,
          68.992,
          71.705,
          71.281
         ],
         "yaxis": "y2"
        },
        {
         "hovertemplate": "Jaar: %{x}<br>Migranten: %{y:,}",
         "line": {
          "width": 2
         },
         "name": "Migratie - Albania",
         "type": "scatter",
         "visible": false,
         "x": [
          "1960",
          "1970",
          "1980",
          "1990",
          "2000"
         ],
         "xaxis": "x",
         "y": [
          151314,
          118564,
          99040,
          412439,
          2048024
         ],
         "yaxis": "y"
        },
        {
         "hovertemplate": "Jaar: %{x}<br>Survival to age 65, male (% of cohort): %{y:,.2f}",
         "line": {
          "dash": "dot"
         },
         "name": "Survival to age 65, male (% of cohort) - Albania",
         "type": "scatter",
         "visible": false,
         "x": [
          "1960",
          "1970",
          "1980",
          "1990",
          "2000"
         ],
         "xaxis": "x",
         "y": [
          54.60791,
          65.053856,
          71.805938,
          75.29161,
          78.008743
         ],
         "yaxis": "y2"
        },
        {
         "hovertemplate": "Jaar: %{x}<br>Mortality rate, adult, female (per 1,000 female adults): %{y:,.2f}",
         "line": {
          "dash": "dot"
         },
         "name": "Mortality rate, adult, female (per 1,000 female adults) - Albania",
         "type": "scatter",
         "visible": false,
         "x": [
          "1960",
          "1970",
          "1980",
          "1990",
          "2000"
         ],
         "xaxis": "x",
         "y": [
          136.875,
          108.179,
          83.793,
          69.156,
          63.313
         ],
         "yaxis": "y2"
        },
        {
         "hovertemplate": "Jaar: %{x}<br>Life expectancy at birth, total (years): %{y:,.2f}",
         "line": {
          "dash": "dot"
         },
         "name": "Life expectancy at birth, total (years) - Albania",
         "type": "scatter",
         "visible": false,
         "x": [
          "1960",
          "1970",
          "1980",
          "1990",
          "2000"
         ],
         "xaxis": "x",
         "y": [
          56.413,
          65.234,
          69.903,
          72.71,
          74.826
         ],
         "yaxis": "y2"
        },
        {
         "hovertemplate": "Jaar: %{x}<br>Migranten: %{y:,}",
         "line": {
          "width": 2
         },
         "name": "Migratie - West Bank and Gaza",
         "type": "scatter",
         "visible": false,
         "x": [
          "1960",
          "1970",
          "1980",
          "1990",
          "2000"
         ],
         "xaxis": "x",
         "y": [
          305093,
          147662,
          996999,
          1582365,
          1931712
         ],
         "yaxis": "y"
        },
        {
         "hovertemplate": "Jaar: %{x}<br>Survival to age 65, male (% of cohort): %{y:,.2f}",
         "line": {
          "dash": "dot"
         },
         "name": "Survival to age 65, male (% of cohort) - West Bank and Gaza",
         "type": "scatter",
         "visible": false,
         "x": [
          "1960",
          "1970",
          "1980",
          "1990",
          "2000"
         ],
         "xaxis": "x",
         "y": [
          36.545652,
          45.291971,
          56.417768,
          66.52557,
          70.150459
         ],
         "yaxis": "y2"
        },
        {
         "hovertemplate": "Jaar: %{x}<br>Mortality rate, adult, female (per 1,000 female adults): %{y:,.2f}",
         "line": {
          "dash": "dot"
         },
         "name": "Mortality rate, adult, female (per 1,000 female adults) - West Bank and Gaza",
         "type": "scatter",
         "visible": false,
         "x": [
          "1960",
          "1970",
          "1980",
          "1990",
          "2000"
         ],
         "xaxis": "x",
         "y": [
          null,
          null,
          null,
          158.831,
          126.636
         ],
         "yaxis": "y2"
        },
        {
         "hovertemplate": "Jaar: %{x}<br>Life expectancy at birth, total (years): %{y:,.2f}",
         "line": {
          "dash": "dot"
         },
         "name": "Life expectancy at birth, total (years) - West Bank and Gaza",
         "type": "scatter",
         "visible": false,
         "x": [
          "1960",
          "1970",
          "1980",
          "1990",
          "2000"
         ],
         "xaxis": "x",
         "y": [
          null,
          null,
          null,
          67.803,
          70.298
         ],
         "yaxis": "y2"
        },
        {
         "hovertemplate": "Jaar: %{x}<br>Migranten: %{y:,}",
         "line": {
          "width": 2
         },
         "name": "Migratie - Bosnia and Herzegovina",
         "type": "scatter",
         "visible": false,
         "x": [
          "1960",
          "1970",
          "1980",
          "1990",
          "2000"
         ],
         "xaxis": "x",
         "y": [
          425073,
          700293,
          602445,
          1655460,
          2587705
         ],
         "yaxis": "y"
        },
        {
         "hovertemplate": "Jaar: %{x}<br>Survival to age 65, male (% of cohort): %{y:,.2f}",
         "line": {
          "dash": "dot"
         },
         "name": "Survival to age 65, male (% of cohort) - Bosnia and Herzegovina",
         "type": "scatter",
         "visible": false,
         "x": [
          "1960",
          "1970",
          "1980",
          "1990",
          "2000"
         ],
         "xaxis": "x",
         "y": [
          52.50298,
          58.052823,
          65.320543,
          66.384696,
          74.664856
         ],
         "yaxis": "y2"
        },
        {
         "hovertemplate": "Jaar: %{x}<br>Mortality rate, adult, female (per 1,000 female adults): %{y:,.2f}",
         "line": {
          "dash": "dot"
         },
         "name": "Mortality rate, adult, female (per 1,000 female adults) - Bosnia and Herzegovina",
         "type": "scatter",
         "visible": false,
         "x": [
          "1960",
          "1970",
          "1980",
          "1990",
          "2000"
         ],
         "xaxis": "x",
         "y": [
          208.03,
          147.461,
          113.298,
          96.402,
          75.057
         ],
         "yaxis": "y2"
        },
        {
         "hovertemplate": "Jaar: %{x}<br>Life expectancy at birth, total (years): %{y:,.2f}",
         "line": {
          "dash": "dot"
         },
         "name": "Life expectancy at birth, total (years) - Bosnia and Herzegovina",
         "type": "scatter",
         "visible": false,
         "x": [
          "1960",
          "1970",
          "1980",
          "1990",
          "2000"
         ],
         "xaxis": "x",
         "y": [
          58.53,
          64.844,
          69.603,
          71.509,
          75.292
         ],
         "yaxis": "y2"
        },
        {
         "hovertemplate": "Jaar: %{x}<br>Migranten: %{y:,}",
         "line": {
          "width": 2
         },
         "name": "Migratie - Ireland",
         "type": "scatter",
         "visible": false,
         "x": [
          "1960",
          "1970",
          "1980",
          "1990",
          "2000"
         ],
         "xaxis": "x",
         "y": [
          1078540,
          2246669,
          1823479,
          1927868,
          2247195
         ],
         "yaxis": "y"
        },
        {
         "hovertemplate": "Jaar: %{x}<br>Survival to age 65, male (% of cohort): %{y:,.2f}",
         "line": {
          "dash": "dot"
         },
         "name": "Survival to age 65, male (% of cohort) - Ireland",
         "type": "scatter",
         "visible": false,
         "x": [
          "1960",
          "1970",
          "1980",
          "1990",
          "2000"
         ],
         "xaxis": "x",
         "y": [
          70.093088,
          69.391324,
          71.544355,
          76.903876,
          81.07687
         ],
         "yaxis": "y2"
        },
        {
         "hovertemplate": "Jaar: %{x}<br>Mortality rate, adult, female (per 1,000 female adults): %{y:,.2f}",
         "line": {
          "dash": "dot"
         },
         "name": "Mortality rate, adult, female (per 1,000 female adults) - Ireland",
         "type": "scatter",
         "visible": false,
         "x": [
          "1960",
          "1970",
          "1980",
          "1990",
          "2000"
         ],
         "xaxis": "x",
         "y": [
          134.742,
          120.538,
          100.655,
          80.635,
          70.026
         ],
         "yaxis": "y2"
        },
        {
         "hovertemplate": "Jaar: %{x}<br>Life expectancy at birth, total (years): %{y:,.2f}",
         "line": {
          "dash": "dot"
         },
         "name": "Life expectancy at birth, total (years) - Ireland",
         "type": "scatter",
         "visible": false,
         "x": [
          "1960",
          "1970",
          "1980",
          "1990",
          "2000"
         ],
         "xaxis": "x",
         "y": [
          70.19426829268295,
          70.90156097560977,
          72.59541463414635,
          74.84607317073171,
          76.53658536585367
         ],
         "yaxis": "y2"
        },
        {
         "hovertemplate": "Jaar: %{x}<br>Migranten: %{y:,}",
         "line": {
          "width": 2
         },
         "name": "Migratie - Georgia",
         "type": "scatter",
         "visible": false,
         "x": [
          "1960",
          "1970",
          "1980",
          "1990",
          "2000"
         ],
         "xaxis": "x",
         "y": [
          136476,
          858909,
          1134883,
          1720094,
          2279261
         ],
         "yaxis": "y"
        },
        {
         "hovertemplate": "Jaar: %{x}<br>Survival to age 65, male (% of cohort): %{y:,.2f}",
         "line": {
          "dash": "dot"
         },
         "name": "Survival to age 65, male (% of cohort) - Georgia",
         "type": "scatter",
         "visible": false,
         "x": [
          "1960",
          "1970",
          "1980",
          "1990",
          "2000"
         ],
         "xaxis": "x",
         "y": [
          49.12467,
          54.677846,
          60.831295,
          60.443427,
          62.849074
         ],
         "yaxis": "y2"
        },
        {
         "hovertemplate": "Jaar: %{x}<br>Mortality rate, adult, female (per 1,000 female adults): %{y:,.2f}",
         "line": {
          "dash": "dot"
         },
         "name": "Mortality rate, adult, female (per 1,000 female adults) - Georgia",
         "type": "scatter",
         "visible": false,
         "x": [
          "1960",
          "1970",
          "1980",
          "1990",
          "2000"
         ],
         "xaxis": "x",
         "y": [
          153.352,
          130.331,
          105.43,
          105.772,
          100.756
         ],
         "yaxis": "y2"
        },
        {
         "hovertemplate": "Jaar: %{x}<br>Life expectancy at birth, total (years): %{y:,.2f}",
         "line": {
          "dash": "dot"
         },
         "name": "Life expectancy at birth, total (years) - Georgia",
         "type": "scatter",
         "visible": false,
         "x": [
          "1960",
          "1970",
          "1980",
          "1990",
          "2000"
         ],
         "xaxis": "x",
         "y": [
          61.347,
          64.869,
          68.273,
          68.679,
          70.091
         ],
         "yaxis": "y2"
        },
        {
         "hovertemplate": "Jaar: %{x}<br>Migranten: %{y:,}",
         "line": {
          "width": 2
         },
         "name": "Migratie - Armenia",
         "type": "scatter",
         "visible": false,
         "x": [
          "1960",
          "1970",
          "1980",
          "1990",
          "2000"
         ],
         "xaxis": "x",
         "y": [
          779847,
          855275,
          861079,
          940667,
          1707654
         ],
         "yaxis": "y"
        },
        {
         "hovertemplate": "Jaar: %{x}<br>Survival to age 65, male (% of cohort): %{y:,.2f}",
         "line": {
          "dash": "dot"
         },
         "name": "Survival to age 65, male (% of cohort) - Armenia",
         "type": "scatter",
         "visible": false,
         "x": [
          "1960",
          "1970",
          "1980",
          "1990",
          "2000"
         ],
         "xaxis": "x",
         "y": [
          52.947061,
          57.392246,
          59.541413,
          61.919214,
          65.858911
         ],
         "yaxis": "y2"
        },
        {
         "hovertemplate": "Jaar: %{x}<br>Mortality rate, adult, female (per 1,000 female adults): %{y:,.2f}",
         "line": {
          "dash": "dot"
         },
         "name": "Mortality rate, adult, female (per 1,000 female adults) - Armenia",
         "type": "scatter",
         "visible": false,
         "x": [
          "1960",
          "1970",
          "1980",
          "1990",
          "2000"
         ],
         "xaxis": "x",
         "y": [
          163.212,
          135.779,
          125.798,
          113.977,
          100.167
         ],
         "yaxis": "y2"
        },
        {
         "hovertemplate": "Jaar: %{x}<br>Life expectancy at birth, total (years): %{y:,.2f}",
         "line": {
          "dash": "dot"
         },
         "name": "Life expectancy at birth, total (years) - Armenia",
         "type": "scatter",
         "visible": false,
         "x": [
          "1960",
          "1970",
          "1980",
          "1990",
          "2000"
         ],
         "xaxis": "x",
         "y": [
          59.063,
          62.64470731707318,
          65.13856097560976,
          67.54936585365854,
          72.88048780487806
         ],
         "yaxis": "y2"
        },
        {
         "hovertemplate": "Jaar: %{x}<br>Migranten: %{y:,}",
         "line": {
          "width": 2
         },
         "name": "Migratie - Trinidad and Tobago",
         "type": "scatter",
         "visible": false,
         "x": [
          "1960",
          "1970",
          "1980",
          "1990",
          "2000"
         ],
         "xaxis": "x",
         "y": [
          124343,
          106793,
          224159,
          418566,
          614539
         ],
         "yaxis": "y"
        },
        {
         "hovertemplate": "Jaar: %{x}<br>Survival to age 65, male (% of cohort): %{y:,.2f}",
         "line": {
          "dash": "dot"
         },
         "name": "Survival to age 65, male (% of cohort) - Trinidad and Tobago",
         "type": "scatter",
         "visible": false,
         "x": [
          "1960",
          "1970",
          "1980",
          "1990",
          "2000"
         ],
         "xaxis": "x",
         "y": [
          56.507425,
          57.821468,
          59.75679,
          61.685359,
          63.079293
         ],
         "yaxis": "y2"
        },
        {
         "hovertemplate": "Jaar: %{x}<br>Mortality rate, adult, female (per 1,000 female adults): %{y:,.2f}",
         "line": {
          "dash": "dot"
         },
         "name": "Mortality rate, adult, female (per 1,000 female adults) - Trinidad and Tobago",
         "type": "scatter",
         "visible": false,
         "x": [
          "1960",
          "1970",
          "1980",
          "1990",
          "2000"
         ],
         "xaxis": "x",
         "y": [
          223.431,
          201.959,
          179.188,
          173.756,
          157.555
         ],
         "yaxis": "y2"
        },
        {
         "hovertemplate": "Jaar: %{x}<br>Life expectancy at birth, total (years): %{y:,.2f}",
         "line": {
          "dash": "dot"
         },
         "name": "Life expectancy at birth, total (years) - Trinidad and Tobago",
         "type": "scatter",
         "visible": false,
         "x": [
          "1960",
          "1970",
          "1980",
          "1990",
          "2000"
         ],
         "xaxis": "x",
         "y": [
          62.505,
          64.869,
          66.507,
          67.591,
          68.629
         ],
         "yaxis": "y2"
        },
        {
         "hovertemplate": "Jaar: %{x}<br>Migranten: %{y:,}",
         "line": {
          "width": 2
         },
         "name": "Migratie - Moldova",
         "type": "scatter",
         "visible": false,
         "x": [
          "1960",
          "1970",
          "1980",
          "1990",
          "2000"
         ],
         "xaxis": "x",
         "y": [
          825927,
          906959,
          881014,
          1187737,
          1286448
         ],
         "yaxis": "y"
        },
        {
         "hovertemplate": "Jaar: %{x}<br>Survival to age 65, male (% of cohort): %{y:,.2f}",
         "line": {
          "dash": "dot"
         },
         "name": "Survival to age 65, male (% of cohort) - Moldova",
         "type": "scatter",
         "visible": false,
         "x": [
          "1960",
          "1970",
          "1980",
          "1990",
          "2000"
         ],
         "xaxis": "x",
         "y": [
          47.70226,
          51.322229,
          55.352125,
          58.798842,
          55.817945
         ],
         "yaxis": "y2"
        },
        {
         "hovertemplate": "Jaar: %{x}<br>Mortality rate, adult, female (per 1,000 female adults): %{y:,.2f}",
         "line": {
          "dash": "dot"
         },
         "name": "Mortality rate, adult, female (per 1,000 female adults) - Moldova",
         "type": "scatter",
         "visible": false,
         "x": [
          "1960",
          "1970",
          "1980",
          "1990",
          "2000"
         ],
         "xaxis": "x",
         "y": [
          227.057,
          210.672,
          185.077,
          156.967,
          153.154
         ],
         "yaxis": "y2"
        },
        {
         "hovertemplate": "Jaar: %{x}<br>Life expectancy at birth, total (years): %{y:,.2f}",
         "line": {
          "dash": "dot"
         },
         "name": "Life expectancy at birth, total (years) - Moldova",
         "type": "scatter",
         "visible": false,
         "x": [
          "1960",
          "1970",
          "1980",
          "1990",
          "2000"
         ],
         "xaxis": "x",
         "y": [
          59.44,
          62.414,
          65.189,
          67.92,
          67.462
         ],
         "yaxis": "y2"
        },
        {
         "hovertemplate": "Jaar: %{x}<br>Migranten: %{y:,}",
         "line": {
          "width": 2
         },
         "name": "Migratie - Kazakhstan",
         "type": "scatter",
         "visible": false,
         "x": [
          "1960",
          "1970",
          "1980",
          "1990",
          "2000"
         ],
         "xaxis": "x",
         "y": [
          2656674,
          3704618,
          4118173,
          5578190,
          6764727
         ],
         "yaxis": "y"
        },
        {
         "hovertemplate": "Jaar: %{x}<br>Survival to age 65, male (% of cohort): %{y:,.2f}",
         "line": {
          "dash": "dot"
         },
         "name": "Survival to age 65, male (% of cohort) - Kazakhstan",
         "type": "scatter",
         "visible": false,
         "x": [
          "1960",
          "1970",
          "1980",
          "1990",
          "2000"
         ],
         "xaxis": "x",
         "y": [
          43.556417,
          45.33111,
          48.223516,
          53.356855,
          43.941961
         ],
         "yaxis": "y2"
        },
        {
         "hovertemplate": "Jaar: %{x}<br>Mortality rate, adult, female (per 1,000 female adults): %{y:,.2f}",
         "line": {
          "dash": "dot"
         },
         "name": "Mortality rate, adult, female (per 1,000 female adults) - Kazakhstan",
         "type": "scatter",
         "visible": false,
         "x": [
          "1960",
          "1970",
          "1980",
          "1990",
          "2000"
         ],
         "xaxis": "x",
         "y": [
          197.323,
          178.131,
          160.191,
          144.214,
          177.419
         ],
         "yaxis": "y2"
        },
        {
         "hovertemplate": "Jaar: %{x}<br>Life expectancy at birth, total (years): %{y:,.2f}",
         "line": {
          "dash": "dot"
         },
         "name": "Life expectancy at birth, total (years) - Kazakhstan",
         "type": "scatter",
         "visible": false,
         "x": [
          "1960",
          "1970",
          "1980",
          "1990",
          "2000"
         ],
         "xaxis": "x",
         "y": [
          57.946,
          60.049,
          62.516,
          65.701,
          63.793
         ],
         "yaxis": "y2"
        },
        {
         "hovertemplate": "Jaar: %{x}<br>Migranten: %{y:,}",
         "line": {
          "width": 2
         },
         "name": "Migratie - Jordan",
         "type": "scatter",
         "visible": false,
         "x": [
          "1960",
          "1970",
          "1980",
          "1990",
          "2000"
         ],
         "xaxis": "x",
         "y": [
          292500,
          699934,
          1256784,
          1958881,
          2200488
         ],
         "yaxis": "y"
        },
        {
         "hovertemplate": "Jaar: %{x}<br>Survival to age 65, male (% of cohort): %{y:,.2f}",
         "line": {
          "dash": "dot"
         },
         "name": "Survival to age 65, male (% of cohort) - Jordan",
         "type": "scatter",
         "visible": false,
         "x": [
          "1960",
          "1970",
          "1980",
          "1990",
          "2000"
         ],
         "xaxis": "x",
         "y": [
          44.553466,
          53.15136,
          65.677926,
          71.20959,
          73.739792
         ],
         "yaxis": "y2"
        },
        {
         "hovertemplate": "Jaar: %{x}<br>Mortality rate, adult, female (per 1,000 female adults): %{y:,.2f}",
         "line": {
          "dash": "dot"
         },
         "name": "Mortality rate, adult, female (per 1,000 female adults) - Jordan",
         "type": "scatter",
         "visible": false,
         "x": [
          "1960",
          "1970",
          "1980",
          "1990",
          "2000"
         ],
         "xaxis": "x",
         "y": [
          326.443,
          238.142,
          177.218,
          131.439,
          106.129
         ],
         "yaxis": "y2"
        },
        {
         "hovertemplate": "Jaar: %{x}<br>Life expectancy at birth, total (years): %{y:,.2f}",
         "line": {
          "dash": "dot"
         },
         "name": "Life expectancy at birth, total (years) - Jordan",
         "type": "scatter",
         "visible": false,
         "x": [
          "1960",
          "1970",
          "1980",
          "1990",
          "2000"
         ],
         "xaxis": "x",
         "y": [
          52.678,
          59.833,
          66.493,
          70.094,
          71.926
         ],
         "yaxis": "y2"
        },
        {
         "hovertemplate": "Jaar: %{x}<br>Migranten: %{y:,}",
         "line": {
          "width": 2
         },
         "name": "Migratie - Azerbaijan",
         "type": "scatter",
         "visible": false,
         "x": [
          "1960",
          "1970",
          "1980",
          "1990",
          "2000"
         ],
         "xaxis": "x",
         "y": [
          805589,
          1129985,
          1477265,
          2033808,
          3016374
         ],
         "yaxis": "y"
        },
        {
         "hovertemplate": "Jaar: %{x}<br>Survival to age 65, male (% of cohort): %{y:,.2f}",
         "line": {
          "dash": "dot"
         },
         "name": "Survival to age 65, male (% of cohort) - Azerbaijan",
         "type": "scatter",
         "visible": false,
         "x": [
          "1960",
          "1970",
          "1980",
          "1990",
          "2000"
         ],
         "xaxis": "x",
         "y": [
          34.486872,
          42.793406,
          51.737122,
          52.656525,
          57.892163
         ],
         "yaxis": "y2"
        },
        {
         "hovertemplate": "Jaar: %{x}<br>Mortality rate, adult, female (per 1,000 female adults): %{y:,.2f}",
         "line": {
          "dash": "dot"
         },
         "name": "Mortality rate, adult, female (per 1,000 female adults) - Azerbaijan",
         "type": "scatter",
         "visible": false,
         "x": [
          "1960",
          "1970",
          "1980",
          "1990",
          "2000"
         ],
         "xaxis": "x",
         "y": [
          273.201,
          203.461,
          152.417,
          141.683,
          124.847
         ],
         "yaxis": "y2"
        },
        {
         "hovertemplate": "Jaar: %{x}<br>Life expectancy at birth, total (years): %{y:,.2f}",
         "line": {
          "dash": "dot"
         },
         "name": "Life expectancy at birth, total (years) - Azerbaijan",
         "type": "scatter",
         "visible": false,
         "x": [
          "1960",
          "1970",
          "1980",
          "1990",
          "2000"
         ],
         "xaxis": "x",
         "y": [
          50.862,
          56.586,
          61.433,
          62.75,
          65.377
         ],
         "yaxis": "y2"
        },
        {
         "hovertemplate": "Jaar: %{x}<br>Migranten: %{y:,}",
         "line": {
          "width": 2
         },
         "name": "Migratie - Kuwait",
         "type": "scatter",
         "visible": false,
         "x": [
          "1960",
          "1970",
          "1980",
          "1990",
          "2000"
         ],
         "xaxis": "x",
         "y": [
          133490,
          189664,
          323412,
          562113,
          725869
         ],
         "yaxis": "y"
        },
        {
         "hovertemplate": "Jaar: %{x}<br>Survival to age 65, male (% of cohort): %{y:,.2f}",
         "line": {
          "dash": "dot"
         },
         "name": "Survival to age 65, male (% of cohort) - Kuwait",
         "type": "scatter",
         "visible": false,
         "x": [
          "1960",
          "1970",
          "1980",
          "1990",
          "2000"
         ],
         "xaxis": "x",
         "y": [
          55.468942,
          70.130546,
          72.362991,
          73.90371,
          81.473815
         ],
         "yaxis": "y2"
        },
        {
         "hovertemplate": "Jaar: %{x}<br>Mortality rate, adult, female (per 1,000 female adults): %{y:,.2f}",
         "line": {
          "dash": "dot"
         },
         "name": "Mortality rate, adult, female (per 1,000 female adults) - Kuwait",
         "type": "scatter",
         "visible": false,
         "x": [
          "1960",
          "1970",
          "1980",
          "1990",
          "2000"
         ],
         "xaxis": "x",
         "y": [
          185.003,
          104.269,
          89.688,
          74.144,
          68.339
         ],
         "yaxis": "y2"
        },
        {
         "hovertemplate": "Jaar: %{x}<br>Life expectancy at birth, total (years): %{y:,.2f}",
         "line": {
          "dash": "dot"
         },
         "name": "Life expectancy at birth, total (years) - Kuwait",
         "type": "scatter",
         "visible": false,
         "x": [
          "1960",
          "1970",
          "1980",
          "1990",
          "2000"
         ],
         "xaxis": "x",
         "y": [
          59.20334146341464,
          68.20204878048783,
          71.45548780487806,
          73.41714634146342,
          76.2258780487805
         ],
         "yaxis": "y2"
        },
        {
         "hovertemplate": "Jaar: %{x}<br>Migranten: %{y:,}",
         "line": {
          "width": 2
         },
         "name": "Migratie - Belarus",
         "type": "scatter",
         "visible": false,
         "x": [
          "1960",
          "1970",
          "1980",
          "1990",
          "2000"
         ],
         "xaxis": "x",
         "y": [
          3899584,
          4567013,
          4639173,
          5058853,
          3493775
         ],
         "yaxis": "y"
        },
        {
         "hovertemplate": "Jaar: %{x}<br>Survival to age 65, male (% of cohort): %{y:,.2f}",
         "line": {
          "dash": "dot"
         },
         "name": "Survival to age 65, male (% of cohort) - Belarus",
         "type": "scatter",
         "visible": false,
         "x": [
          "1960",
          "1970",
          "1980",
          "1990",
          "2000"
         ],
         "xaxis": "x",
         "y": [
          66.299656,
          67.272333,
          61.496829,
          60.403858,
          50.837932
         ],
         "yaxis": "y2"
        },
        {
         "hovertemplate": "Jaar: %{x}<br>Mortality rate, adult, female (per 1,000 female adults): %{y:,.2f}",
         "line": {
          "dash": "dot"
         },
         "name": "Mortality rate, adult, female (per 1,000 female adults) - Belarus",
         "type": "scatter",
         "visible": false,
         "x": [
          "1960",
          "1970",
          "1980",
          "1990",
          "2000"
         ],
         "xaxis": "x",
         "y": [
          104.51,
          101.532,
          109.577,
          107.204,
          125.338
         ],
         "yaxis": "y2"
        },
        {
         "hovertemplate": "Jaar: %{x}<br>Life expectancy at birth, total (years): %{y:,.2f}",
         "line": {
          "dash": "dot"
         },
         "name": "Life expectancy at birth, total (years) - Belarus",
         "type": "scatter",
         "visible": false,
         "x": [
          "1960",
          "1970",
          "1980",
          "1990",
          "2000"
         ],
         "xaxis": "x",
         "y": [
          69.25460975609757,
          70.74448780487806,
          69.92770731707319,
          70.83658536585365,
          68.91219512195123
         ],
         "yaxis": "y2"
        },
        {
         "hovertemplate": "Jaar: %{x}<br>Migranten: %{y:,}",
         "line": {
          "width": 2
         },
         "name": "Migratie - Estonia",
         "type": "scatter",
         "visible": false,
         "x": [
          "1960",
          "1970",
          "1980",
          "1990",
          "2000"
         ],
         "xaxis": "x",
         "y": [
          195400,
          345621,
          303803,
          381946,
          463050
         ],
         "yaxis": "y"
        },
        {
         "hovertemplate": "Jaar: %{x}<br>Survival to age 65, male (% of cohort): %{y:,.2f}",
         "line": {
          "dash": "dot"
         },
         "name": "Survival to age 65, male (% of cohort) - Estonia",
         "type": "scatter",
         "visible": false,
         "x": [
          "1960",
          "1970",
          "1980",
          "1990",
          "2000"
         ],
         "xaxis": "x",
         "y": [
          62.668017,
          62.185099,
          58.657212,
          57.820174,
          57.676141
         ],
         "yaxis": "y2"
        },
        {
         "hovertemplate": "Jaar: %{x}<br>Mortality rate, adult, female (per 1,000 female adults): %{y:,.2f}",
         "line": {
          "dash": "dot"
         },
         "name": "Mortality rate, adult, female (per 1,000 female adults) - Estonia",
         "type": "scatter",
         "visible": false,
         "x": [
          "1960",
          "1970",
          "1980",
          "1990",
          "2000"
         ],
         "xaxis": "x",
         "y": [
          111.092,
          105.302,
          112.733,
          106.786,
          118.066
         ],
         "yaxis": "y2"
        },
        {
         "hovertemplate": "Jaar: %{x}<br>Life expectancy at birth, total (years): %{y:,.2f}",
         "line": {
          "dash": "dot"
         },
         "name": "Life expectancy at birth, total (years) - Estonia",
         "type": "scatter",
         "visible": false,
         "x": [
          "1960",
          "1970",
          "1980",
          "1990",
          "2000"
         ],
         "xaxis": "x",
         "y": [
          68.74926829268296,
          69.92421951219512,
          69.1147804878049,
          69.47560975609757,
          70.41707317073173
         ],
         "yaxis": "y2"
        },
        {
         "hovertemplate": "Jaar: %{x}<br>Migranten: %{y:,}",
         "line": {
          "width": 2
         },
         "name": "Migratie - Eritrea",
         "type": "scatter",
         "visible": false,
         "x": [
          "1960",
          "1970",
          "1980",
          "1990",
          "2000"
         ],
         "xaxis": "x",
         "y": [
          473620,
          543725,
          581111,
          651007,
          718421
         ],
         "yaxis": "y"
        },
        {
         "hovertemplate": "Jaar: %{x}<br>Survival to age 65, male (% of cohort): %{y:,.2f}",
         "line": {
          "dash": "dot"
         },
         "name": "Survival to age 65, male (% of cohort) - Eritrea",
         "type": "scatter",
         "visible": false,
         "x": [
          "1960",
          "1970",
          "1980",
          "1990",
          "2000"
         ],
         "xaxis": "x",
         "y": [
          23.627123,
          27.245431,
          30.154868,
          37.738996,
          46.241806
         ],
         "yaxis": "y2"
        },
        {
         "hovertemplate": "Jaar: %{x}<br>Mortality rate, adult, female (per 1,000 female adults): %{y:,.2f}",
         "line": {
          "dash": "dot"
         },
         "name": "Mortality rate, adult, female (per 1,000 female adults) - Eritrea",
         "type": "scatter",
         "visible": false,
         "x": [
          "1960",
          "1970",
          "1980",
          "1990",
          "2000"
         ],
         "xaxis": "x",
         "y": [
          458.122,
          434.488,
          398.575,
          350.825,
          296.901
         ],
         "yaxis": "y2"
        },
        {
         "hovertemplate": "Jaar: %{x}<br>Life expectancy at birth, total (years): %{y:,.2f}",
         "line": {
          "dash": "dot"
         },
         "name": "Life expectancy at birth, total (years) - Eritrea",
         "type": "scatter",
         "visible": false,
         "x": [
          "1960",
          "1970",
          "1980",
          "1990",
          "2000"
         ],
         "xaxis": "x",
         "y": [
          37.443,
          41.162,
          44.625,
          49.733,
          56.285
         ],
         "yaxis": "y2"
        },
        {
         "hovertemplate": "Jaar: %{x}<br>Migranten: %{y:,}",
         "line": {
          "width": 2
         },
         "name": "Migratie - El Salvador",
         "type": "scatter",
         "visible": false,
         "x": [
          "1960",
          "1970",
          "1980",
          "1990",
          "2000"
         ],
         "xaxis": "x",
         "y": [
          129134,
          146568,
          318591,
          1137258,
          1870497
         ],
         "yaxis": "y"
        },
        {
         "hovertemplate": "Jaar: %{x}<br>Survival to age 65, male (% of cohort): %{y:,.2f}",
         "line": {
          "dash": "dot"
         },
         "name": "Survival to age 65, male (% of cohort) - El Salvador",
         "type": "scatter",
         "visible": false,
         "x": [
          "1960",
          "1970",
          "1980",
          "1990",
          "2000"
         ],
         "xaxis": "x",
         "y": [
          36.67199,
          38.429229,
          21.643939,
          48.67218,
          57.698331
         ],
         "yaxis": "y2"
        },
        {
         "hovertemplate": "Jaar: %{x}<br>Mortality rate, adult, female (per 1,000 female adults): %{y:,.2f}",
         "line": {
          "dash": "dot"
         },
         "name": "Mortality rate, adult, female (per 1,000 female adults) - El Salvador",
         "type": "scatter",
         "visible": false,
         "x": [
          "1960",
          "1970",
          "1980",
          "1990",
          "2000"
         ],
         "xaxis": "x",
         "y": [
          334.011,
          300.671,
          248.55,
          175.681,
          140.344
         ],
         "yaxis": "y2"
        },
        {
         "hovertemplate": "Jaar: %{x}<br>Life expectancy at birth, total (years): %{y:,.2f}",
         "line": {
          "dash": "dot"
         },
         "name": "Life expectancy at birth, total (years) - El Salvador",
         "type": "scatter",
         "visible": false,
         "x": [
          "1960",
          "1970",
          "1980",
          "1990",
          "2000"
         ],
         "xaxis": "x",
         "y": [
          48.292,
          51.364,
          48.589,
          61.981,
          67.711
         ],
         "yaxis": "y2"
        },
        {
         "hovertemplate": "Jaar: %{x}<br>Migranten: %{y:,}",
         "line": {
          "width": 2
         },
         "name": "Migratie - Lebanon",
         "type": "scatter",
         "visible": false,
         "x": [
          "1960",
          "1970",
          "1980",
          "1990",
          "2000"
         ],
         "xaxis": "x",
         "y": [
          281283,
          393599,
          881132,
          1198245,
          1353979
         ],
         "yaxis": "y"
        },
        {
         "hovertemplate": "Jaar: %{x}<br>Survival to age 65, male (% of cohort): %{y:,.2f}",
         "line": {
          "dash": "dot"
         },
         "name": "Survival to age 65, male (% of cohort) - Lebanon",
         "type": "scatter",
         "visible": false,
         "x": [
          "1960",
          "1970",
          "1980",
          "1990",
          "2000"
         ],
         "xaxis": "x",
         "y": [
          59.771558,
          63.504742,
          47.726237,
          53.771355,
          77.498994
         ],
         "yaxis": "y2"
        },
        {
         "hovertemplate": "Jaar: %{x}<br>Mortality rate, adult, female (per 1,000 female adults): %{y:,.2f}",
         "line": {
          "dash": "dot"
         },
         "name": "Mortality rate, adult, female (per 1,000 female adults) - Lebanon",
         "type": "scatter",
         "visible": false,
         "x": [
          "1960",
          "1970",
          "1980",
          "1990",
          "2000"
         ],
         "xaxis": "x",
         "y": [
          183.512,
          167.092,
          211.435,
          147.438,
          92.867
         ],
         "yaxis": "y2"
        },
        {
         "hovertemplate": "Jaar: %{x}<br>Life expectancy at birth, total (years): %{y:,.2f}",
         "line": {
          "dash": "dot"
         },
         "name": "Life expectancy at birth, total (years) - Lebanon",
         "type": "scatter",
         "visible": false,
         "x": [
          "1960",
          "1970",
          "1980",
          "1990",
          "2000"
         ],
         "xaxis": "x",
         "y": [
          63.927,
          66.018,
          59.909,
          65.479,
          73.895
         ],
         "yaxis": "y2"
        },
        {
         "hovertemplate": "Jaar: %{x}<br>Migranten: %{y:,}",
         "line": {
          "width": 2
         },
         "name": "Migratie - Lithuania",
         "type": "scatter",
         "visible": false,
         "x": [
          "1960",
          "1970",
          "1980",
          "1990",
          "2000"
         ],
         "xaxis": "x",
         "y": [
          1148446,
          1349788,
          1132057,
          1178272,
          1069852
         ],
         "yaxis": "y"
        },
        {
         "hovertemplate": "Jaar: %{x}<br>Survival to age 65, male (% of cohort): %{y:,.2f}",
         "line": {
          "dash": "dot"
         },
         "name": "Survival to age 65, male (% of cohort) - Lithuania",
         "type": "scatter",
         "visible": false,
         "x": [
          "1960",
          "1970",
          "1980",
          "1990",
          "2000"
         ],
         "xaxis": "x",
         "y": [
          66.045219,
          64.758933,
          60.514896,
          60.651297,
          60.581478
         ],
         "yaxis": "y2"
        },
        {
         "hovertemplate": "Jaar: %{x}<br>Mortality rate, adult, female (per 1,000 female adults): %{y:,.2f}",
         "line": {
          "dash": "dot"
         },
         "name": "Mortality rate, adult, female (per 1,000 female adults) - Lithuania",
         "type": "scatter",
         "visible": false,
         "x": [
          "1960",
          "1970",
          "1980",
          "1990",
          "2000"
         ],
         "xaxis": "x",
         "y": [
          124.275,
          108.701,
          111.573,
          106.923,
          102.974
         ],
         "yaxis": "y2"
        },
        {
         "hovertemplate": "Jaar: %{x}<br>Life expectancy at birth, total (years): %{y:,.2f}",
         "line": {
          "dash": "dot"
         },
         "name": "Life expectancy at birth, total (years) - Lithuania",
         "type": "scatter",
         "visible": false,
         "x": [
          "1960",
          "1970",
          "1980",
          "1990",
          "2000"
         ],
         "xaxis": "x",
         "y": [
          69.84731707317074,
          70.80439024390245,
          70.48219512195122,
          71.16073170731708,
          72.01951219512195
         ],
         "yaxis": "y2"
        }
       ],
       "layout": {
        "height": 400,
        "hovermode": "x unified",
        "legend": {
         "bordercolor": "Black",
         "borderwidth": 1,
         "orientation": "v",
         "x": 1.05,
         "xanchor": "left",
         "y": 1,
         "yanchor": "top"
        },
        "template": {
         "data": {
          "bar": [
           {
            "error_x": {
             "color": "#2a3f5f"
            },
            "error_y": {
             "color": "#2a3f5f"
            },
            "marker": {
             "line": {
              "color": "#E5ECF6",
              "width": 0.5
             },
             "pattern": {
              "fillmode": "overlay",
              "size": 10,
              "solidity": 0.2
             }
            },
            "type": "bar"
           }
          ],
          "barpolar": [
           {
            "marker": {
             "line": {
              "color": "#E5ECF6",
              "width": 0.5
             },
             "pattern": {
              "fillmode": "overlay",
              "size": 10,
              "solidity": 0.2
             }
            },
            "type": "barpolar"
           }
          ],
          "carpet": [
           {
            "aaxis": {
             "endlinecolor": "#2a3f5f",
             "gridcolor": "white",
             "linecolor": "white",
             "minorgridcolor": "white",
             "startlinecolor": "#2a3f5f"
            },
            "baxis": {
             "endlinecolor": "#2a3f5f",
             "gridcolor": "white",
             "linecolor": "white",
             "minorgridcolor": "white",
             "startlinecolor": "#2a3f5f"
            },
            "type": "carpet"
           }
          ],
          "choropleth": [
           {
            "colorbar": {
             "outlinewidth": 0,
             "ticks": ""
            },
            "type": "choropleth"
           }
          ],
          "contour": [
           {
            "colorbar": {
             "outlinewidth": 0,
             "ticks": ""
            },
            "colorscale": [
             [
              0,
              "#0d0887"
             ],
             [
              0.1111111111111111,
              "#46039f"
             ],
             [
              0.2222222222222222,
              "#7201a8"
             ],
             [
              0.3333333333333333,
              "#9c179e"
             ],
             [
              0.4444444444444444,
              "#bd3786"
             ],
             [
              0.5555555555555556,
              "#d8576b"
             ],
             [
              0.6666666666666666,
              "#ed7953"
             ],
             [
              0.7777777777777778,
              "#fb9f3a"
             ],
             [
              0.8888888888888888,
              "#fdca26"
             ],
             [
              1,
              "#f0f921"
             ]
            ],
            "type": "contour"
           }
          ],
          "contourcarpet": [
           {
            "colorbar": {
             "outlinewidth": 0,
             "ticks": ""
            },
            "type": "contourcarpet"
           }
          ],
          "heatmap": [
           {
            "colorbar": {
             "outlinewidth": 0,
             "ticks": ""
            },
            "colorscale": [
             [
              0,
              "#0d0887"
             ],
             [
              0.1111111111111111,
              "#46039f"
             ],
             [
              0.2222222222222222,
              "#7201a8"
             ],
             [
              0.3333333333333333,
              "#9c179e"
             ],
             [
              0.4444444444444444,
              "#bd3786"
             ],
             [
              0.5555555555555556,
              "#d8576b"
             ],
             [
              0.6666666666666666,
              "#ed7953"
             ],
             [
              0.7777777777777778,
              "#fb9f3a"
             ],
             [
              0.8888888888888888,
              "#fdca26"
             ],
             [
              1,
              "#f0f921"
             ]
            ],
            "type": "heatmap"
           }
          ],
          "heatmapgl": [
           {
            "colorbar": {
             "outlinewidth": 0,
             "ticks": ""
            },
            "colorscale": [
             [
              0,
              "#0d0887"
             ],
             [
              0.1111111111111111,
              "#46039f"
             ],
             [
              0.2222222222222222,
              "#7201a8"
             ],
             [
              0.3333333333333333,
              "#9c179e"
             ],
             [
              0.4444444444444444,
              "#bd3786"
             ],
             [
              0.5555555555555556,
              "#d8576b"
             ],
             [
              0.6666666666666666,
              "#ed7953"
             ],
             [
              0.7777777777777778,
              "#fb9f3a"
             ],
             [
              0.8888888888888888,
              "#fdca26"
             ],
             [
              1,
              "#f0f921"
             ]
            ],
            "type": "heatmapgl"
           }
          ],
          "histogram": [
           {
            "marker": {
             "pattern": {
              "fillmode": "overlay",
              "size": 10,
              "solidity": 0.2
             }
            },
            "type": "histogram"
           }
          ],
          "histogram2d": [
           {
            "colorbar": {
             "outlinewidth": 0,
             "ticks": ""
            },
            "colorscale": [
             [
              0,
              "#0d0887"
             ],
             [
              0.1111111111111111,
              "#46039f"
             ],
             [
              0.2222222222222222,
              "#7201a8"
             ],
             [
              0.3333333333333333,
              "#9c179e"
             ],
             [
              0.4444444444444444,
              "#bd3786"
             ],
             [
              0.5555555555555556,
              "#d8576b"
             ],
             [
              0.6666666666666666,
              "#ed7953"
             ],
             [
              0.7777777777777778,
              "#fb9f3a"
             ],
             [
              0.8888888888888888,
              "#fdca26"
             ],
             [
              1,
              "#f0f921"
             ]
            ],
            "type": "histogram2d"
           }
          ],
          "histogram2dcontour": [
           {
            "colorbar": {
             "outlinewidth": 0,
             "ticks": ""
            },
            "colorscale": [
             [
              0,
              "#0d0887"
             ],
             [
              0.1111111111111111,
              "#46039f"
             ],
             [
              0.2222222222222222,
              "#7201a8"
             ],
             [
              0.3333333333333333,
              "#9c179e"
             ],
             [
              0.4444444444444444,
              "#bd3786"
             ],
             [
              0.5555555555555556,
              "#d8576b"
             ],
             [
              0.6666666666666666,
              "#ed7953"
             ],
             [
              0.7777777777777778,
              "#fb9f3a"
             ],
             [
              0.8888888888888888,
              "#fdca26"
             ],
             [
              1,
              "#f0f921"
             ]
            ],
            "type": "histogram2dcontour"
           }
          ],
          "mesh3d": [
           {
            "colorbar": {
             "outlinewidth": 0,
             "ticks": ""
            },
            "type": "mesh3d"
           }
          ],
          "parcoords": [
           {
            "line": {
             "colorbar": {
              "outlinewidth": 0,
              "ticks": ""
             }
            },
            "type": "parcoords"
           }
          ],
          "pie": [
           {
            "automargin": true,
            "type": "pie"
           }
          ],
          "scatter": [
           {
            "fillpattern": {
             "fillmode": "overlay",
             "size": 10,
             "solidity": 0.2
            },
            "type": "scatter"
           }
          ],
          "scatter3d": [
           {
            "line": {
             "colorbar": {
              "outlinewidth": 0,
              "ticks": ""
             }
            },
            "marker": {
             "colorbar": {
              "outlinewidth": 0,
              "ticks": ""
             }
            },
            "type": "scatter3d"
           }
          ],
          "scattercarpet": [
           {
            "marker": {
             "colorbar": {
              "outlinewidth": 0,
              "ticks": ""
             }
            },
            "type": "scattercarpet"
           }
          ],
          "scattergeo": [
           {
            "marker": {
             "colorbar": {
              "outlinewidth": 0,
              "ticks": ""
             }
            },
            "type": "scattergeo"
           }
          ],
          "scattergl": [
           {
            "marker": {
             "colorbar": {
              "outlinewidth": 0,
              "ticks": ""
             }
            },
            "type": "scattergl"
           }
          ],
          "scattermapbox": [
           {
            "marker": {
             "colorbar": {
              "outlinewidth": 0,
              "ticks": ""
             }
            },
            "type": "scattermapbox"
           }
          ],
          "scatterpolar": [
           {
            "marker": {
             "colorbar": {
              "outlinewidth": 0,
              "ticks": ""
             }
            },
            "type": "scatterpolar"
           }
          ],
          "scatterpolargl": [
           {
            "marker": {
             "colorbar": {
              "outlinewidth": 0,
              "ticks": ""
             }
            },
            "type": "scatterpolargl"
           }
          ],
          "scatterternary": [
           {
            "marker": {
             "colorbar": {
              "outlinewidth": 0,
              "ticks": ""
             }
            },
            "type": "scatterternary"
           }
          ],
          "surface": [
           {
            "colorbar": {
             "outlinewidth": 0,
             "ticks": ""
            },
            "colorscale": [
             [
              0,
              "#0d0887"
             ],
             [
              0.1111111111111111,
              "#46039f"
             ],
             [
              0.2222222222222222,
              "#7201a8"
             ],
             [
              0.3333333333333333,
              "#9c179e"
             ],
             [
              0.4444444444444444,
              "#bd3786"
             ],
             [
              0.5555555555555556,
              "#d8576b"
             ],
             [
              0.6666666666666666,
              "#ed7953"
             ],
             [
              0.7777777777777778,
              "#fb9f3a"
             ],
             [
              0.8888888888888888,
              "#fdca26"
             ],
             [
              1,
              "#f0f921"
             ]
            ],
            "type": "surface"
           }
          ],
          "table": [
           {
            "cells": {
             "fill": {
              "color": "#EBF0F8"
             },
             "line": {
              "color": "white"
             }
            },
            "header": {
             "fill": {
              "color": "#C8D4E3"
             },
             "line": {
              "color": "white"
             }
            },
            "type": "table"
           }
          ]
         },
         "layout": {
          "annotationdefaults": {
           "arrowcolor": "#2a3f5f",
           "arrowhead": 0,
           "arrowwidth": 1
          },
          "autotypenumbers": "strict",
          "coloraxis": {
           "colorbar": {
            "outlinewidth": 0,
            "ticks": ""
           }
          },
          "colorscale": {
           "diverging": [
            [
             0,
             "#8e0152"
            ],
            [
             0.1,
             "#c51b7d"
            ],
            [
             0.2,
             "#de77ae"
            ],
            [
             0.3,
             "#f1b6da"
            ],
            [
             0.4,
             "#fde0ef"
            ],
            [
             0.5,
             "#f7f7f7"
            ],
            [
             0.6,
             "#e6f5d0"
            ],
            [
             0.7,
             "#b8e186"
            ],
            [
             0.8,
             "#7fbc41"
            ],
            [
             0.9,
             "#4d9221"
            ],
            [
             1,
             "#276419"
            ]
           ],
           "sequential": [
            [
             0,
             "#0d0887"
            ],
            [
             0.1111111111111111,
             "#46039f"
            ],
            [
             0.2222222222222222,
             "#7201a8"
            ],
            [
             0.3333333333333333,
             "#9c179e"
            ],
            [
             0.4444444444444444,
             "#bd3786"
            ],
            [
             0.5555555555555556,
             "#d8576b"
            ],
            [
             0.6666666666666666,
             "#ed7953"
            ],
            [
             0.7777777777777778,
             "#fb9f3a"
            ],
            [
             0.8888888888888888,
             "#fdca26"
            ],
            [
             1,
             "#f0f921"
            ]
           ],
           "sequentialminus": [
            [
             0,
             "#0d0887"
            ],
            [
             0.1111111111111111,
             "#46039f"
            ],
            [
             0.2222222222222222,
             "#7201a8"
            ],
            [
             0.3333333333333333,
             "#9c179e"
            ],
            [
             0.4444444444444444,
             "#bd3786"
            ],
            [
             0.5555555555555556,
             "#d8576b"
            ],
            [
             0.6666666666666666,
             "#ed7953"
            ],
            [
             0.7777777777777778,
             "#fb9f3a"
            ],
            [
             0.8888888888888888,
             "#fdca26"
            ],
            [
             1,
             "#f0f921"
            ]
           ]
          },
          "colorway": [
           "#636efa",
           "#EF553B",
           "#00cc96",
           "#ab63fa",
           "#FFA15A",
           "#19d3f3",
           "#FF6692",
           "#B6E880",
           "#FF97FF",
           "#FECB52"
          ],
          "font": {
           "color": "#2a3f5f"
          },
          "geo": {
           "bgcolor": "white",
           "lakecolor": "white",
           "landcolor": "#E5ECF6",
           "showlakes": true,
           "showland": true,
           "subunitcolor": "white"
          },
          "hoverlabel": {
           "align": "left"
          },
          "hovermode": "closest",
          "mapbox": {
           "style": "light"
          },
          "paper_bgcolor": "white",
          "plot_bgcolor": "#E5ECF6",
          "polar": {
           "angularaxis": {
            "gridcolor": "white",
            "linecolor": "white",
            "ticks": ""
           },
           "bgcolor": "#E5ECF6",
           "radialaxis": {
            "gridcolor": "white",
            "linecolor": "white",
            "ticks": ""
           }
          },
          "scene": {
           "xaxis": {
            "backgroundcolor": "#E5ECF6",
            "gridcolor": "white",
            "gridwidth": 2,
            "linecolor": "white",
            "showbackground": true,
            "ticks": "",
            "zerolinecolor": "white"
           },
           "yaxis": {
            "backgroundcolor": "#E5ECF6",
            "gridcolor": "white",
            "gridwidth": 2,
            "linecolor": "white",
            "showbackground": true,
            "ticks": "",
            "zerolinecolor": "white"
           },
           "zaxis": {
            "backgroundcolor": "#E5ECF6",
            "gridcolor": "white",
            "gridwidth": 2,
            "linecolor": "white",
            "showbackground": true,
            "ticks": "",
            "zerolinecolor": "white"
           }
          },
          "shapedefaults": {
           "line": {
            "color": "#2a3f5f"
           }
          },
          "ternary": {
           "aaxis": {
            "gridcolor": "white",
            "linecolor": "white",
            "ticks": ""
           },
           "baxis": {
            "gridcolor": "white",
            "linecolor": "white",
            "ticks": ""
           },
           "bgcolor": "#E5ECF6",
           "caxis": {
            "gridcolor": "white",
            "linecolor": "white",
            "ticks": ""
           }
          },
          "title": {
           "x": 0.05
          },
          "xaxis": {
           "automargin": true,
           "gridcolor": "white",
           "linecolor": "white",
           "ticks": "",
           "title": {
            "standoff": 15
           },
           "zerolinecolor": "white",
           "zerolinewidth": 2
          },
          "yaxis": {
           "automargin": true,
           "gridcolor": "white",
           "linecolor": "white",
           "ticks": "",
           "title": {
            "standoff": 15
           },
           "zerolinecolor": "white",
           "zerolinewidth": 2
          }
         }
        },
        "title": {
         "text": "Migratie en indicatoren per land"
        },
        "updatemenus": [
         {
          "buttons": [
           {
            "args": [
             {
              "visible": [
               true,
               true,
               true,
               true,
               false,
               false,
               false,
               false,
               false,
               false,
               false,
               false,
               false,
               false,
               false,
               false,
               false,
               false,
               false,
               false,
               false,
               false,
               false,
               false,
               false,
               false,
               false,
               false,
               false,
               false,
               false,
               false,
               false,
               false,
               false,
               false,
               false,
               false,
               false,
               false,
               false,
               false,
               false,
               false,
               false,
               false,
               false,
               false,
               false,
               false,
               false,
               false,
               false,
               false,
               false,
               false,
               false,
               false,
               false,
               false,
               false,
               false,
               false,
               false,
               false,
               false,
               false,
               false,
               false,
               false,
               false,
               false,
               false,
               false,
               false,
               false,
               false,
               false,
               false,
               false
              ]
             },
             {
              "title": "Migratie en indicatoren voor Puerto Rico"
             }
            ],
            "label": "Puerto Rico",
            "method": "update"
           },
           {
            "args": [
             {
              "visible": [
               false,
               false,
               false,
               false,
               true,
               true,
               true,
               true,
               false,
               false,
               false,
               false,
               false,
               false,
               false,
               false,
               false,
               false,
               false,
               false,
               false,
               false,
               false,
               false,
               false,
               false,
               false,
               false,
               false,
               false,
               false,
               false,
               false,
               false,
               false,
               false,
               false,
               false,
               false,
               false,
               false,
               false,
               false,
               false,
               false,
               false,
               false,
               false,
               false,
               false,
               false,
               false,
               false,
               false,
               false,
               false,
               false,
               false,
               false,
               false,
               false,
               false,
               false,
               false,
               false,
               false,
               false,
               false,
               false,
               false,
               false,
               false,
               false,
               false,
               false,
               false,
               false,
               false,
               false,
               false
              ]
             },
             {
              "title": "Migratie en indicatoren voor Jamaica"
             }
            ],
            "label": "Jamaica",
            "method": "update"
           },
           {
            "args": [
             {
              "visible": [
               false,
               false,
               false,
               false,
               false,
               false,
               false,
               false,
               true,
               true,
               true,
               true,
               false,
               false,
               false,
               false,
               false,
               false,
               false,
               false,
               false,
               false,
               false,
               false,
               false,
               false,
               false,
               false,
               false,
               false,
               false,
               false,
               false,
               false,
               false,
               false,
               false,
               false,
               false,
               false,
               false,
               false,
               false,
               false,
               false,
               false,
               false,
               false,
               false,
               false,
               false,
               false,
               false,
               false,
               false,
               false,
               false,
               false,
               false,
               false,
               false,
               false,
               false,
               false,
               false,
               false,
               false,
               false,
               false,
               false,
               false,
               false,
               false,
               false,
               false,
               false,
               false,
               false,
               false,
               false
              ]
             },
             {
              "title": "Migratie en indicatoren voor Albania"
             }
            ],
            "label": "Albania",
            "method": "update"
           },
           {
            "args": [
             {
              "visible": [
               false,
               false,
               false,
               false,
               false,
               false,
               false,
               false,
               false,
               false,
               false,
               false,
               true,
               true,
               true,
               true,
               false,
               false,
               false,
               false,
               false,
               false,
               false,
               false,
               false,
               false,
               false,
               false,
               false,
               false,
               false,
               false,
               false,
               false,
               false,
               false,
               false,
               false,
               false,
               false,
               false,
               false,
               false,
               false,
               false,
               false,
               false,
               false,
               false,
               false,
               false,
               false,
               false,
               false,
               false,
               false,
               false,
               false,
               false,
               false,
               false,
               false,
               false,
               false,
               false,
               false,
               false,
               false,
               false,
               false,
               false,
               false,
               false,
               false,
               false,
               false,
               false,
               false,
               false,
               false
              ]
             },
             {
              "title": "Migratie en indicatoren voor West Bank and Gaza"
             }
            ],
            "label": "West Bank and Gaza",
            "method": "update"
           },
           {
            "args": [
             {
              "visible": [
               false,
               false,
               false,
               false,
               false,
               false,
               false,
               false,
               false,
               false,
               false,
               false,
               false,
               false,
               false,
               false,
               true,
               true,
               true,
               true,
               false,
               false,
               false,
               false,
               false,
               false,
               false,
               false,
               false,
               false,
               false,
               false,
               false,
               false,
               false,
               false,
               false,
               false,
               false,
               false,
               false,
               false,
               false,
               false,
               false,
               false,
               false,
               false,
               false,
               false,
               false,
               false,
               false,
               false,
               false,
               false,
               false,
               false,
               false,
               false,
               false,
               false,
               false,
               false,
               false,
               false,
               false,
               false,
               false,
               false,
               false,
               false,
               false,
               false,
               false,
               false,
               false,
               false,
               false,
               false
              ]
             },
             {
              "title": "Migratie en indicatoren voor Bosnia and Herzegovina"
             }
            ],
            "label": "Bosnia and Herzegovina",
            "method": "update"
           },
           {
            "args": [
             {
              "visible": [
               false,
               false,
               false,
               false,
               false,
               false,
               false,
               false,
               false,
               false,
               false,
               false,
               false,
               false,
               false,
               false,
               false,
               false,
               false,
               false,
               true,
               true,
               true,
               true,
               false,
               false,
               false,
               false,
               false,
               false,
               false,
               false,
               false,
               false,
               false,
               false,
               false,
               false,
               false,
               false,
               false,
               false,
               false,
               false,
               false,
               false,
               false,
               false,
               false,
               false,
               false,
               false,
               false,
               false,
               false,
               false,
               false,
               false,
               false,
               false,
               false,
               false,
               false,
               false,
               false,
               false,
               false,
               false,
               false,
               false,
               false,
               false,
               false,
               false,
               false,
               false,
               false,
               false,
               false,
               false
              ]
             },
             {
              "title": "Migratie en indicatoren voor Ireland"
             }
            ],
            "label": "Ireland",
            "method": "update"
           },
           {
            "args": [
             {
              "visible": [
               false,
               false,
               false,
               false,
               false,
               false,
               false,
               false,
               false,
               false,
               false,
               false,
               false,
               false,
               false,
               false,
               false,
               false,
               false,
               false,
               false,
               false,
               false,
               false,
               true,
               true,
               true,
               true,
               false,
               false,
               false,
               false,
               false,
               false,
               false,
               false,
               false,
               false,
               false,
               false,
               false,
               false,
               false,
               false,
               false,
               false,
               false,
               false,
               false,
               false,
               false,
               false,
               false,
               false,
               false,
               false,
               false,
               false,
               false,
               false,
               false,
               false,
               false,
               false,
               false,
               false,
               false,
               false,
               false,
               false,
               false,
               false,
               false,
               false,
               false,
               false,
               false,
               false,
               false,
               false
              ]
             },
             {
              "title": "Migratie en indicatoren voor Georgia"
             }
            ],
            "label": "Georgia",
            "method": "update"
           },
           {
            "args": [
             {
              "visible": [
               false,
               false,
               false,
               false,
               false,
               false,
               false,
               false,
               false,
               false,
               false,
               false,
               false,
               false,
               false,
               false,
               false,
               false,
               false,
               false,
               false,
               false,
               false,
               false,
               false,
               false,
               false,
               false,
               true,
               true,
               true,
               true,
               false,
               false,
               false,
               false,
               false,
               false,
               false,
               false,
               false,
               false,
               false,
               false,
               false,
               false,
               false,
               false,
               false,
               false,
               false,
               false,
               false,
               false,
               false,
               false,
               false,
               false,
               false,
               false,
               false,
               false,
               false,
               false,
               false,
               false,
               false,
               false,
               false,
               false,
               false,
               false,
               false,
               false,
               false,
               false,
               false,
               false,
               false,
               false
              ]
             },
             {
              "title": "Migratie en indicatoren voor Armenia"
             }
            ],
            "label": "Armenia",
            "method": "update"
           },
           {
            "args": [
             {
              "visible": [
               false,
               false,
               false,
               false,
               false,
               false,
               false,
               false,
               false,
               false,
               false,
               false,
               false,
               false,
               false,
               false,
               false,
               false,
               false,
               false,
               false,
               false,
               false,
               false,
               false,
               false,
               false,
               false,
               false,
               false,
               false,
               false,
               true,
               true,
               true,
               true,
               false,
               false,
               false,
               false,
               false,
               false,
               false,
               false,
               false,
               false,
               false,
               false,
               false,
               false,
               false,
               false,
               false,
               false,
               false,
               false,
               false,
               false,
               false,
               false,
               false,
               false,
               false,
               false,
               false,
               false,
               false,
               false,
               false,
               false,
               false,
               false,
               false,
               false,
               false,
               false,
               false,
               false,
               false,
               false
              ]
             },
             {
              "title": "Migratie en indicatoren voor Trinidad and Tobago"
             }
            ],
            "label": "Trinidad and Tobago",
            "method": "update"
           },
           {
            "args": [
             {
              "visible": [
               false,
               false,
               false,
               false,
               false,
               false,
               false,
               false,
               false,
               false,
               false,
               false,
               false,
               false,
               false,
               false,
               false,
               false,
               false,
               false,
               false,
               false,
               false,
               false,
               false,
               false,
               false,
               false,
               false,
               false,
               false,
               false,
               false,
               false,
               false,
               false,
               true,
               true,
               true,
               true,
               false,
               false,
               false,
               false,
               false,
               false,
               false,
               false,
               false,
               false,
               false,
               false,
               false,
               false,
               false,
               false,
               false,
               false,
               false,
               false,
               false,
               false,
               false,
               false,
               false,
               false,
               false,
               false,
               false,
               false,
               false,
               false,
               false,
               false,
               false,
               false,
               false,
               false,
               false,
               false
              ]
             },
             {
              "title": "Migratie en indicatoren voor Moldova"
             }
            ],
            "label": "Moldova",
            "method": "update"
           },
           {
            "args": [
             {
              "visible": [
               false,
               false,
               false,
               false,
               false,
               false,
               false,
               false,
               false,
               false,
               false,
               false,
               false,
               false,
               false,
               false,
               false,
               false,
               false,
               false,
               false,
               false,
               false,
               false,
               false,
               false,
               false,
               false,
               false,
               false,
               false,
               false,
               false,
               false,
               false,
               false,
               false,
               false,
               false,
               false,
               true,
               true,
               true,
               true,
               false,
               false,
               false,
               false,
               false,
               false,
               false,
               false,
               false,
               false,
               false,
               false,
               false,
               false,
               false,
               false,
               false,
               false,
               false,
               false,
               false,
               false,
               false,
               false,
               false,
               false,
               false,
               false,
               false,
               false,
               false,
               false,
               false,
               false,
               false,
               false
              ]
             },
             {
              "title": "Migratie en indicatoren voor Kazakhstan"
             }
            ],
            "label": "Kazakhstan",
            "method": "update"
           },
           {
            "args": [
             {
              "visible": [
               false,
               false,
               false,
               false,
               false,
               false,
               false,
               false,
               false,
               false,
               false,
               false,
               false,
               false,
               false,
               false,
               false,
               false,
               false,
               false,
               false,
               false,
               false,
               false,
               false,
               false,
               false,
               false,
               false,
               false,
               false,
               false,
               false,
               false,
               false,
               false,
               false,
               false,
               false,
               false,
               false,
               false,
               false,
               false,
               true,
               true,
               true,
               true,
               false,
               false,
               false,
               false,
               false,
               false,
               false,
               false,
               false,
               false,
               false,
               false,
               false,
               false,
               false,
               false,
               false,
               false,
               false,
               false,
               false,
               false,
               false,
               false,
               false,
               false,
               false,
               false,
               false,
               false,
               false,
               false
              ]
             },
             {
              "title": "Migratie en indicatoren voor Jordan"
             }
            ],
            "label": "Jordan",
            "method": "update"
           },
           {
            "args": [
             {
              "visible": [
               false,
               false,
               false,
               false,
               false,
               false,
               false,
               false,
               false,
               false,
               false,
               false,
               false,
               false,
               false,
               false,
               false,
               false,
               false,
               false,
               false,
               false,
               false,
               false,
               false,
               false,
               false,
               false,
               false,
               false,
               false,
               false,
               false,
               false,
               false,
               false,
               false,
               false,
               false,
               false,
               false,
               false,
               false,
               false,
               false,
               false,
               false,
               false,
               true,
               true,
               true,
               true,
               false,
               false,
               false,
               false,
               false,
               false,
               false,
               false,
               false,
               false,
               false,
               false,
               false,
               false,
               false,
               false,
               false,
               false,
               false,
               false,
               false,
               false,
               false,
               false,
               false,
               false,
               false,
               false
              ]
             },
             {
              "title": "Migratie en indicatoren voor Azerbaijan"
             }
            ],
            "label": "Azerbaijan",
            "method": "update"
           },
           {
            "args": [
             {
              "visible": [
               false,
               false,
               false,
               false,
               false,
               false,
               false,
               false,
               false,
               false,
               false,
               false,
               false,
               false,
               false,
               false,
               false,
               false,
               false,
               false,
               false,
               false,
               false,
               false,
               false,
               false,
               false,
               false,
               false,
               false,
               false,
               false,
               false,
               false,
               false,
               false,
               false,
               false,
               false,
               false,
               false,
               false,
               false,
               false,
               false,
               false,
               false,
               false,
               false,
               false,
               false,
               false,
               true,
               true,
               true,
               true,
               false,
               false,
               false,
               false,
               false,
               false,
               false,
               false,
               false,
               false,
               false,
               false,
               false,
               false,
               false,
               false,
               false,
               false,
               false,
               false,
               false,
               false,
               false,
               false
              ]
             },
             {
              "title": "Migratie en indicatoren voor Kuwait"
             }
            ],
            "label": "Kuwait",
            "method": "update"
           },
           {
            "args": [
             {
              "visible": [
               false,
               false,
               false,
               false,
               false,
               false,
               false,
               false,
               false,
               false,
               false,
               false,
               false,
               false,
               false,
               false,
               false,
               false,
               false,
               false,
               false,
               false,
               false,
               false,
               false,
               false,
               false,
               false,
               false,
               false,
               false,
               false,
               false,
               false,
               false,
               false,
               false,
               false,
               false,
               false,
               false,
               false,
               false,
               false,
               false,
               false,
               false,
               false,
               false,
               false,
               false,
               false,
               false,
               false,
               false,
               false,
               true,
               true,
               true,
               true,
               false,
               false,
               false,
               false,
               false,
               false,
               false,
               false,
               false,
               false,
               false,
               false,
               false,
               false,
               false,
               false,
               false,
               false,
               false,
               false
              ]
             },
             {
              "title": "Migratie en indicatoren voor Belarus"
             }
            ],
            "label": "Belarus",
            "method": "update"
           },
           {
            "args": [
             {
              "visible": [
               false,
               false,
               false,
               false,
               false,
               false,
               false,
               false,
               false,
               false,
               false,
               false,
               false,
               false,
               false,
               false,
               false,
               false,
               false,
               false,
               false,
               false,
               false,
               false,
               false,
               false,
               false,
               false,
               false,
               false,
               false,
               false,
               false,
               false,
               false,
               false,
               false,
               false,
               false,
               false,
               false,
               false,
               false,
               false,
               false,
               false,
               false,
               false,
               false,
               false,
               false,
               false,
               false,
               false,
               false,
               false,
               false,
               false,
               false,
               false,
               true,
               true,
               true,
               true,
               false,
               false,
               false,
               false,
               false,
               false,
               false,
               false,
               false,
               false,
               false,
               false,
               false,
               false,
               false,
               false
              ]
             },
             {
              "title": "Migratie en indicatoren voor Estonia"
             }
            ],
            "label": "Estonia",
            "method": "update"
           },
           {
            "args": [
             {
              "visible": [
               false,
               false,
               false,
               false,
               false,
               false,
               false,
               false,
               false,
               false,
               false,
               false,
               false,
               false,
               false,
               false,
               false,
               false,
               false,
               false,
               false,
               false,
               false,
               false,
               false,
               false,
               false,
               false,
               false,
               false,
               false,
               false,
               false,
               false,
               false,
               false,
               false,
               false,
               false,
               false,
               false,
               false,
               false,
               false,
               false,
               false,
               false,
               false,
               false,
               false,
               false,
               false,
               false,
               false,
               false,
               false,
               false,
               false,
               false,
               false,
               false,
               false,
               false,
               false,
               true,
               true,
               true,
               true,
               false,
               false,
               false,
               false,
               false,
               false,
               false,
               false,
               false,
               false,
               false,
               false
              ]
             },
             {
              "title": "Migratie en indicatoren voor Eritrea"
             }
            ],
            "label": "Eritrea",
            "method": "update"
           },
           {
            "args": [
             {
              "visible": [
               false,
               false,
               false,
               false,
               false,
               false,
               false,
               false,
               false,
               false,
               false,
               false,
               false,
               false,
               false,
               false,
               false,
               false,
               false,
               false,
               false,
               false,
               false,
               false,
               false,
               false,
               false,
               false,
               false,
               false,
               false,
               false,
               false,
               false,
               false,
               false,
               false,
               false,
               false,
               false,
               false,
               false,
               false,
               false,
               false,
               false,
               false,
               false,
               false,
               false,
               false,
               false,
               false,
               false,
               false,
               false,
               false,
               false,
               false,
               false,
               false,
               false,
               false,
               false,
               false,
               false,
               false,
               false,
               true,
               true,
               true,
               true,
               false,
               false,
               false,
               false,
               false,
               false,
               false,
               false
              ]
             },
             {
              "title": "Migratie en indicatoren voor El Salvador"
             }
            ],
            "label": "El Salvador",
            "method": "update"
           },
           {
            "args": [
             {
              "visible": [
               false,
               false,
               false,
               false,
               false,
               false,
               false,
               false,
               false,
               false,
               false,
               false,
               false,
               false,
               false,
               false,
               false,
               false,
               false,
               false,
               false,
               false,
               false,
               false,
               false,
               false,
               false,
               false,
               false,
               false,
               false,
               false,
               false,
               false,
               false,
               false,
               false,
               false,
               false,
               false,
               false,
               false,
               false,
               false,
               false,
               false,
               false,
               false,
               false,
               false,
               false,
               false,
               false,
               false,
               false,
               false,
               false,
               false,
               false,
               false,
               false,
               false,
               false,
               false,
               false,
               false,
               false,
               false,
               false,
               false,
               false,
               false,
               true,
               true,
               true,
               true,
               false,
               false,
               false,
               false
              ]
             },
             {
              "title": "Migratie en indicatoren voor Lebanon"
             }
            ],
            "label": "Lebanon",
            "method": "update"
           },
           {
            "args": [
             {
              "visible": [
               false,
               false,
               false,
               false,
               false,
               false,
               false,
               false,
               false,
               false,
               false,
               false,
               false,
               false,
               false,
               false,
               false,
               false,
               false,
               false,
               false,
               false,
               false,
               false,
               false,
               false,
               false,
               false,
               false,
               false,
               false,
               false,
               false,
               false,
               false,
               false,
               false,
               false,
               false,
               false,
               false,
               false,
               false,
               false,
               false,
               false,
               false,
               false,
               false,
               false,
               false,
               false,
               false,
               false,
               false,
               false,
               false,
               false,
               false,
               false,
               false,
               false,
               false,
               false,
               false,
               false,
               false,
               false,
               false,
               false,
               false,
               false,
               false,
               false,
               false,
               false,
               true,
               true,
               true,
               true
              ]
             },
             {
              "title": "Migratie en indicatoren voor Lithuania"
             }
            ],
            "label": "Lithuania",
            "method": "update"
           }
          ],
          "direction": "down",
          "pad": {
           "r": 10,
           "t": 10
          },
          "showactive": true,
          "x": 0.5,
          "xanchor": "center",
          "y": 1,
          "yanchor": "top"
         }
        ],
        "width": 1100,
        "xaxis": {
         "anchor": "y",
         "autorange": true,
         "domain": [
          0,
          0.94
         ],
         "range": [
          -0.26054009812441664,
          4.260540098124417
         ],
         "title": {
          "text": "Jaar"
         },
         "type": "category"
        },
        "yaxis": {
         "anchor": "x",
         "autorange": true,
         "domain": [
          0,
          1
         ],
         "range": [
          1214210.2703412073,
          3108055.7296587927
         ],
         "title": {
          "text": "Migranten (aantal)"
         },
         "type": "linear"
        },
        "yaxis2": {
         "anchor": "x",
         "autorange": true,
         "overlaying": "y",
         "range": [
          60.449386590551185,
          142.98675540944882
         ],
         "side": "right",
         "title": {
          "text": "Indicatorwaarde"
         },
         "type": "linear"
        }
       }
      },
      "image/png": "[encoded data removed]",
      "text/html": [
       "<div>                            <div id=\"6aef68f7-4b89-4b7a-be86-5fd8b4ad57ef\" class=\"plotly-graph-div\" style=\"height:400px; width:1100px;\"></div>            <script type=\"text/javascript\">                require([\"plotly\"], function(Plotly) {                    window.PLOTLYENV=window.PLOTLYENV || {};                                    if (document.getElementById(\"6aef68f7-4b89-4b7a-be86-5fd8b4ad57ef\")) {                    Plotly.newPlot(                        \"6aef68f7-4b89-4b7a-be86-5fd8b4ad57ef\",                        [{\"hovertemplate\":\"Jaar: %{x}\\u003cbr\\u003eMigranten: %{y:,}\",\"line\":{\"width\":2},\"name\":\"Migratie - Puerto Rico\",\"visible\":true,\"x\":[\"1960\",\"1970\",\"1980\",\"1990\",\"2000\"],\"y\":[1341184.0,1942981.0,2322435.0,2906426.0,2981082.0],\"type\":\"scatter\",\"xaxis\":\"x\",\"yaxis\":\"y\"},{\"hovertemplate\":\"Jaar: %{x}\\u003cbr\\u003eSurvival to age 65, male (% of cohort): %{y:,.2f}\",\"line\":{\"dash\":\"dot\"},\"name\":\"Survival to age 65, male (% of cohort) - Puerto Rico\",\"visible\":true,\"x\":[\"1960\",\"1970\",\"1980\",\"1990\",\"2000\"],\"y\":[65.983142,67.90044,71.125573,70.380885,73.184633],\"type\":\"scatter\",\"xaxis\":\"x\",\"yaxis\":\"y2\"},{\"hovertemplate\":\"Jaar: %{x}\\u003cbr\\u003eMortality rate, adult, female (per 1,000 female adults): %{y:,.2f}\",\"line\":{\"dash\":\"dot\"},\"name\":\"Mortality rate, adult, female (per 1,000 female adults) - Puerto Rico\",\"visible\":true,\"x\":[\"1960\",\"1970\",\"1980\",\"1990\",\"2000\"],\"y\":[137.453,121.46,95.354,99.722,79.31],\"type\":\"scatter\",\"xaxis\":\"x\",\"yaxis\":\"y2\"},{\"hovertemplate\":\"Jaar: %{x}\\u003cbr\\u003eLife expectancy at birth, total (years): %{y:,.2f}\",\"line\":{\"dash\":\"dot\"},\"name\":\"Life expectancy at birth, total (years) - Puerto Rico\",\"visible\":true,\"x\":[\"1960\",\"1970\",\"1980\",\"1990\",\"2000\"],\"y\":[68.627,70.352,73.101,72.827,75.514],\"type\":\"scatter\",\"xaxis\":\"x\",\"yaxis\":\"y2\"},{\"hovertemplate\":\"Jaar: %{x}\\u003cbr\\u003eMigranten: %{y:,}\",\"line\":{\"width\":2},\"name\":\"Migratie - Jamaica\",\"visible\":false,\"x\":[\"1960\",\"1970\",\"1980\",\"1990\",\"2000\"],\"y\":[418639.0,543472.0,853625.0,1263827.0,1860114.0],\"type\":\"scatter\",\"xaxis\":\"x\",\"yaxis\":\"y\"},{\"hovertemplate\":\"Jaar: %{x}\\u003cbr\\u003eSurvival to age 65, male (% of cohort): %{y:,.2f}\",\"line\":{\"dash\":\"dot\"},\"name\":\"Survival to age 65, male (% of cohort) - Jamaica\",\"visible\":false,\"x\":[\"1960\",\"1970\",\"1980\",\"1990\",\"2000\"],\"y\":[60.498537,63.574989,67.550746,74.166908,70.682923],\"type\":\"scatter\",\"xaxis\":\"x\",\"yaxis\":\"y2\"},{\"hovertemplate\":\"Jaar: %{x}\\u003cbr\\u003eMortality rate, adult, female (per 1,000 female adults): %{y:,.2f}\",\"line\":{\"dash\":\"dot\"},\"name\":\"Mortality rate, adult, female (per 1,000 female adults) - Jamaica\",\"visible\":false,\"x\":[\"1960\",\"1970\",\"1980\",\"1990\",\"2000\"],\"y\":[189.312,166.942,154.549,133.167,135.562],\"type\":\"scatter\",\"xaxis\":\"x\",\"yaxis\":\"y2\"},{\"hovertemplate\":\"Jaar: %{x}\\u003cbr\\u003eLife expectancy at birth, total (years): %{y:,.2f}\",\"line\":{\"dash\":\"dot\"},\"name\":\"Life expectancy at birth, total (years) - Jamaica\",\"visible\":false,\"x\":[\"1960\",\"1970\",\"1980\",\"1990\",\"2000\"],\"y\":[63.828,66.731,68.992,71.705,71.281],\"type\":\"scatter\",\"xaxis\":\"x\",\"yaxis\":\"y2\"},{\"hovertemplate\":\"Jaar: %{x}\\u003cbr\\u003eMigranten: %{y:,}\",\"line\":{\"width\":2},\"name\":\"Migratie - Albania\",\"visible\":false,\"x\":[\"1960\",\"1970\",\"1980\",\"1990\",\"2000\"],\"y\":[151314.0,118564.0,99040.0,412439.0,2048024.0],\"type\":\"scatter\",\"xaxis\":\"x\",\"yaxis\":\"y\"},{\"hovertemplate\":\"Jaar: %{x}\\u003cbr\\u003eSurvival to age 65, male (% of cohort): %{y:,.2f}\",\"line\":{\"dash\":\"dot\"},\"name\":\"Survival to age 65, male (% of cohort) - Albania\",\"visible\":false,\"x\":[\"1960\",\"1970\",\"1980\",\"1990\",\"2000\"],\"y\":[54.60791,65.053856,71.805938,75.29161,78.008743],\"type\":\"scatter\",\"xaxis\":\"x\",\"yaxis\":\"y2\"},{\"hovertemplate\":\"Jaar: %{x}\\u003cbr\\u003eMortality rate, adult, female (per 1,000 female adults): %{y:,.2f}\",\"line\":{\"dash\":\"dot\"},\"name\":\"Mortality rate, adult, female (per 1,000 female adults) - Albania\",\"visible\":false,\"x\":[\"1960\",\"1970\",\"1980\",\"1990\",\"2000\"],\"y\":[136.875,108.179,83.793,69.156,63.313],\"type\":\"scatter\",\"xaxis\":\"x\",\"yaxis\":\"y2\"},{\"hovertemplate\":\"Jaar: %{x}\\u003cbr\\u003eLife expectancy at birth, total (years): %{y:,.2f}\",\"line\":{\"dash\":\"dot\"},\"name\":\"Life expectancy at birth, total (years) - Albania\",\"visible\":false,\"x\":[\"1960\",\"1970\",\"1980\",\"1990\",\"2000\"],\"y\":[56.413,65.234,69.903,72.71,74.826],\"type\":\"scatter\",\"xaxis\":\"x\",\"yaxis\":\"y2\"},{\"hovertemplate\":\"Jaar: %{x}\\u003cbr\\u003eMigranten: %{y:,}\",\"line\":{\"width\":2},\"name\":\"Migratie - West Bank and Gaza\",\"visible\":false,\"x\":[\"1960\",\"1970\",\"1980\",\"1990\",\"2000\"],\"y\":[305093.0,147662.0,996999.0,1582365.0,1931712.0],\"type\":\"scatter\",\"xaxis\":\"x\",\"yaxis\":\"y\"},{\"hovertemplate\":\"Jaar: %{x}\\u003cbr\\u003eSurvival to age 65, male (% of cohort): %{y:,.2f}\",\"line\":{\"dash\":\"dot\"},\"name\":\"Survival to age 65, male (% of cohort) - West Bank and Gaza\",\"visible\":false,\"x\":[\"1960\",\"1970\",\"1980\",\"1990\",\"2000\"],\"y\":[36.545652,45.291971,56.417768,66.52557,70.150459],\"type\":\"scatter\",\"xaxis\":\"x\",\"yaxis\":\"y2\"},{\"hovertemplate\":\"Jaar: %{x}\\u003cbr\\u003eMortality rate, adult, female (per 1,000 female adults): %{y:,.2f}\",\"line\":{\"dash\":\"dot\"},\"name\":\"Mortality rate, adult, female (per 1,000 female adults) - West Bank and Gaza\",\"visible\":false,\"x\":[\"1960\",\"1970\",\"1980\",\"1990\",\"2000\"],\"y\":[null,null,null,158.831,126.636],\"type\":\"scatter\",\"xaxis\":\"x\",\"yaxis\":\"y2\"},{\"hovertemplate\":\"Jaar: %{x}\\u003cbr\\u003eLife expectancy at birth, total (years): %{y:,.2f}\",\"line\":{\"dash\":\"dot\"},\"name\":\"Life expectancy at birth, total (years) - West Bank and Gaza\",\"visible\":false,\"x\":[\"1960\",\"1970\",\"1980\",\"1990\",\"2000\"],\"y\":[null,null,null,67.803,70.298],\"type\":\"scatter\",\"xaxis\":\"x\",\"yaxis\":\"y2\"},{\"hovertemplate\":\"Jaar: %{x}\\u003cbr\\u003eMigranten: %{y:,}\",\"line\":{\"width\":2},\"name\":\"Migratie - Bosnia and Herzegovina\",\"visible\":false,\"x\":[\"1960\",\"1970\",\"1980\",\"1990\",\"2000\"],\"y\":[425073.0,700293.0,602445.0,1655460.0,2587705.0],\"type\":\"scatter\",\"xaxis\":\"x\",\"yaxis\":\"y\"},{\"hovertemplate\":\"Jaar: %{x}\\u003cbr\\u003eSurvival to age 65, male (% of cohort): %{y:,.2f}\",\"line\":{\"dash\":\"dot\"},\"name\":\"Survival to age 65, male (% of cohort) - Bosnia and Herzegovina\",\"visible\":false,\"x\":[\"1960\",\"1970\",\"1980\",\"1990\",\"2000\"],\"y\":[52.50298,58.052823,65.320543,66.384696,74.664856],\"type\":\"scatter\",\"xaxis\":\"x\",\"yaxis\":\"y2\"},{\"hovertemplate\":\"Jaar: %{x}\\u003cbr\\u003eMortality rate, adult, female (per 1,000 female adults): %{y:,.2f}\",\"line\":{\"dash\":\"dot\"},\"name\":\"Mortality rate, adult, female (per 1,000 female adults) - Bosnia and Herzegovina\",\"visible\":false,\"x\":[\"1960\",\"1970\",\"1980\",\"1990\",\"2000\"],\"y\":[208.03,147.461,113.298,96.402,75.057],\"type\":\"scatter\",\"xaxis\":\"x\",\"yaxis\":\"y2\"},{\"hovertemplate\":\"Jaar: %{x}\\u003cbr\\u003eLife expectancy at birth, total (years): %{y:,.2f}\",\"line\":{\"dash\":\"dot\"},\"name\":\"Life expectancy at birth, total (years) - Bosnia and Herzegovina\",\"visible\":false,\"x\":[\"1960\",\"1970\",\"1980\",\"1990\",\"2000\"],\"y\":[58.53,64.844,69.603,71.509,75.292],\"type\":\"scatter\",\"xaxis\":\"x\",\"yaxis\":\"y2\"},{\"hovertemplate\":\"Jaar: %{x}\\u003cbr\\u003eMigranten: %{y:,}\",\"line\":{\"width\":2},\"name\":\"Migratie - Ireland\",\"visible\":false,\"x\":[\"1960\",\"1970\",\"1980\",\"1990\",\"2000\"],\"y\":[1078540.0,2246669.0,1823479.0,1927868.0,2247195.0],\"type\":\"scatter\",\"xaxis\":\"x\",\"yaxis\":\"y\"},{\"hovertemplate\":\"Jaar: %{x}\\u003cbr\\u003eSurvival to age 65, male (% of cohort): %{y:,.2f}\",\"line\":{\"dash\":\"dot\"},\"name\":\"Survival to age 65, male (% of cohort) - Ireland\",\"visible\":false,\"x\":[\"1960\",\"1970\",\"1980\",\"1990\",\"2000\"],\"y\":[70.093088,69.391324,71.544355,76.903876,81.07687],\"type\":\"scatter\",\"xaxis\":\"x\",\"yaxis\":\"y2\"},{\"hovertemplate\":\"Jaar: %{x}\\u003cbr\\u003eMortality rate, adult, female (per 1,000 female adults): %{y:,.2f}\",\"line\":{\"dash\":\"dot\"},\"name\":\"Mortality rate, adult, female (per 1,000 female adults) - Ireland\",\"visible\":false,\"x\":[\"1960\",\"1970\",\"1980\",\"1990\",\"2000\"],\"y\":[134.742,120.538,100.655,80.635,70.026],\"type\":\"scatter\",\"xaxis\":\"x\",\"yaxis\":\"y2\"},{\"hovertemplate\":\"Jaar: %{x}\\u003cbr\\u003eLife expectancy at birth, total (years): %{y:,.2f}\",\"line\":{\"dash\":\"dot\"},\"name\":\"Life expectancy at birth, total (years) - Ireland\",\"visible\":false,\"x\":[\"1960\",\"1970\",\"1980\",\"1990\",\"2000\"],\"y\":[70.19426829268295,70.90156097560977,72.59541463414635,74.84607317073171,76.53658536585367],\"type\":\"scatter\",\"xaxis\":\"x\",\"yaxis\":\"y2\"},{\"hovertemplate\":\"Jaar: %{x}\\u003cbr\\u003eMigranten: %{y:,}\",\"line\":{\"width\":2},\"name\":\"Migratie - Georgia\",\"visible\":false,\"x\":[\"1960\",\"1970\",\"1980\",\"1990\",\"2000\"],\"y\":[136476.0,858909.0,1134883.0,1720094.0,2279261.0],\"type\":\"scatter\",\"xaxis\":\"x\",\"yaxis\":\"y\"},{\"hovertemplate\":\"Jaar: %{x}\\u003cbr\\u003eSurvival to age 65, male (% of cohort): %{y:,.2f}\",\"line\":{\"dash\":\"dot\"},\"name\":\"Survival to age 65, male (% of cohort) - Georgia\",\"visible\":false,\"x\":[\"1960\",\"1970\",\"1980\",\"1990\",\"2000\"],\"y\":[49.12467,54.677846,60.831295,60.443427,62.849074],\"type\":\"scatter\",\"xaxis\":\"x\",\"yaxis\":\"y2\"},{\"hovertemplate\":\"Jaar: %{x}\\u003cbr\\u003eMortality rate, adult, female (per 1,000 female adults): %{y:,.2f}\",\"line\":{\"dash\":\"dot\"},\"name\":\"Mortality rate, adult, female (per 1,000 female adults) - Georgia\",\"visible\":false,\"x\":[\"1960\",\"1970\",\"1980\",\"1990\",\"2000\"],\"y\":[153.352,130.331,105.43,105.772,100.756],\"type\":\"scatter\",\"xaxis\":\"x\",\"yaxis\":\"y2\"},{\"hovertemplate\":\"Jaar: %{x}\\u003cbr\\u003eLife expectancy at birth, total (years): %{y:,.2f}\",\"line\":{\"dash\":\"dot\"},\"name\":\"Life expectancy at birth, total (years) - Georgia\",\"visible\":false,\"x\":[\"1960\",\"1970\",\"1980\",\"1990\",\"2000\"],\"y\":[61.347,64.869,68.273,68.679,70.091],\"type\":\"scatter\",\"xaxis\":\"x\",\"yaxis\":\"y2\"},{\"hovertemplate\":\"Jaar: %{x}\\u003cbr\\u003eMigranten: %{y:,}\",\"line\":{\"width\":2},\"name\":\"Migratie - Armenia\",\"visible\":false,\"x\":[\"1960\",\"1970\",\"1980\",\"1990\",\"2000\"],\"y\":[779847.0,855275.0,861079.0,940667.0,1707654.0],\"type\":\"scatter\",\"xaxis\":\"x\",\"yaxis\":\"y\"},{\"hovertemplate\":\"Jaar: %{x}\\u003cbr\\u003eSurvival to age 65, male (% of cohort): %{y:,.2f}\",\"line\":{\"dash\":\"dot\"},\"name\":\"Survival to age 65, male (% of cohort) - Armenia\",\"visible\":false,\"x\":[\"1960\",\"1970\",\"1980\",\"1990\",\"2000\"],\"y\":[52.947061,57.392246,59.541413,61.919214,65.858911],\"type\":\"scatter\",\"xaxis\":\"x\",\"yaxis\":\"y2\"},{\"hovertemplate\":\"Jaar: %{x}\\u003cbr\\u003eMortality rate, adult, female (per 1,000 female adults): %{y:,.2f}\",\"line\":{\"dash\":\"dot\"},\"name\":\"Mortality rate, adult, female (per 1,000 female adults) - Armenia\",\"visible\":false,\"x\":[\"1960\",\"1970\",\"1980\",\"1990\",\"2000\"],\"y\":[163.212,135.779,125.798,113.977,100.167],\"type\":\"scatter\",\"xaxis\":\"x\",\"yaxis\":\"y2\"},{\"hovertemplate\":\"Jaar: %{x}\\u003cbr\\u003eLife expectancy at birth, total (years): %{y:,.2f}\",\"line\":{\"dash\":\"dot\"},\"name\":\"Life expectancy at birth, total (years) - Armenia\",\"visible\":false,\"x\":[\"1960\",\"1970\",\"1980\",\"1990\",\"2000\"],\"y\":[59.063,62.64470731707318,65.13856097560976,67.54936585365854,72.88048780487806],\"type\":\"scatter\",\"xaxis\":\"x\",\"yaxis\":\"y2\"},{\"hovertemplate\":\"Jaar: %{x}\\u003cbr\\u003eMigranten: %{y:,}\",\"line\":{\"width\":2},\"name\":\"Migratie - Trinidad and Tobago\",\"visible\":false,\"x\":[\"1960\",\"1970\",\"1980\",\"1990\",\"2000\"],\"y\":[124343.0,106793.0,224159.0,418566.0,614539.0],\"type\":\"scatter\",\"xaxis\":\"x\",\"yaxis\":\"y\"},{\"hovertemplate\":\"Jaar: %{x}\\u003cbr\\u003eSurvival to age 65, male (% of cohort): %{y:,.2f}\",\"line\":{\"dash\":\"dot\"},\"name\":\"Survival to age 65, male (% of cohort) - Trinidad and Tobago\",\"visible\":false,\"x\":[\"1960\",\"1970\",\"1980\",\"1990\",\"2000\"],\"y\":[56.507425,57.821468,59.75679,61.685359,63.079293],\"type\":\"scatter\",\"xaxis\":\"x\",\"yaxis\":\"y2\"},{\"hovertemplate\":\"Jaar: %{x}\\u003cbr\\u003eMortality rate, adult, female (per 1,000 female adults): %{y:,.2f}\",\"line\":{\"dash\":\"dot\"},\"name\":\"Mortality rate, adult, female (per 1,000 female adults) - Trinidad and Tobago\",\"visible\":false,\"x\":[\"1960\",\"1970\",\"1980\",\"1990\",\"2000\"],\"y\":[223.431,201.959,179.188,173.756,157.555],\"type\":\"scatter\",\"xaxis\":\"x\",\"yaxis\":\"y2\"},{\"hovertemplate\":\"Jaar: %{x}\\u003cbr\\u003eLife expectancy at birth, total (years): %{y:,.2f}\",\"line\":{\"dash\":\"dot\"},\"name\":\"Life expectancy at birth, total (years) - Trinidad and Tobago\",\"visible\":false,\"x\":[\"1960\",\"1970\",\"1980\",\"1990\",\"2000\"],\"y\":[62.505,64.869,66.507,67.591,68.629],\"type\":\"scatter\",\"xaxis\":\"x\",\"yaxis\":\"y2\"},{\"hovertemplate\":\"Jaar: %{x}\\u003cbr\\u003eMigranten: %{y:,}\",\"line\":{\"width\":2},\"name\":\"Migratie - Moldova\",\"visible\":false,\"x\":[\"1960\",\"1970\",\"1980\",\"1990\",\"2000\"],\"y\":[825927.0,906959.0,881014.0,1187737.0,1286448.0],\"type\":\"scatter\",\"xaxis\":\"x\",\"yaxis\":\"y\"},{\"hovertemplate\":\"Jaar: %{x}\\u003cbr\\u003eSurvival to age 65, male (% of cohort): %{y:,.2f}\",\"line\":{\"dash\":\"dot\"},\"name\":\"Survival to age 65, male (% of cohort) - Moldova\",\"visible\":false,\"x\":[\"1960\",\"1970\",\"1980\",\"1990\",\"2000\"],\"y\":[47.70226,51.322229,55.352125,58.798842,55.817945],\"type\":\"scatter\",\"xaxis\":\"x\",\"yaxis\":\"y2\"},{\"hovertemplate\":\"Jaar: %{x}\\u003cbr\\u003eMortality rate, adult, female (per 1,000 female adults): %{y:,.2f}\",\"line\":{\"dash\":\"dot\"},\"name\":\"Mortality rate, adult, female (per 1,000 female adults) - Moldova\",\"visible\":false,\"x\":[\"1960\",\"1970\",\"1980\",\"1990\",\"2000\"],\"y\":[227.057,210.672,185.077,156.967,153.154],\"type\":\"scatter\",\"xaxis\":\"x\",\"yaxis\":\"y2\"},{\"hovertemplate\":\"Jaar: %{x}\\u003cbr\\u003eLife expectancy at birth, total (years): %{y:,.2f}\",\"line\":{\"dash\":\"dot\"},\"name\":\"Life expectancy at birth, total (years) - Moldova\",\"visible\":false,\"x\":[\"1960\",\"1970\",\"1980\",\"1990\",\"2000\"],\"y\":[59.44,62.414,65.189,67.92,67.462],\"type\":\"scatter\",\"xaxis\":\"x\",\"yaxis\":\"y2\"},{\"hovertemplate\":\"Jaar: %{x}\\u003cbr\\u003eMigranten: %{y:,}\",\"line\":{\"width\":2},\"name\":\"Migratie - Kazakhstan\",\"visible\":false,\"x\":[\"1960\",\"1970\",\"1980\",\"1990\",\"2000\"],\"y\":[2656674.0,3704618.0,4118173.0,5578190.0,6764727.0],\"type\":\"scatter\",\"xaxis\":\"x\",\"yaxis\":\"y\"},{\"hovertemplate\":\"Jaar: %{x}\\u003cbr\\u003eSurvival to age 65, male (% of cohort): %{y:,.2f}\",\"line\":{\"dash\":\"dot\"},\"name\":\"Survival to age 65, male (% of cohort) - Kazakhstan\",\"visible\":false,\"x\":[\"1960\",\"1970\",\"1980\",\"1990\",\"2000\"],\"y\":[43.556417,45.33111,48.223516,53.356855,43.941961],\"type\":\"scatter\",\"xaxis\":\"x\",\"yaxis\":\"y2\"},{\"hovertemplate\":\"Jaar: %{x}\\u003cbr\\u003eMortality rate, adult, female (per 1,000 female adults): %{y:,.2f}\",\"line\":{\"dash\":\"dot\"},\"name\":\"Mortality rate, adult, female (per 1,000 female adults) - Kazakhstan\",\"visible\":false,\"x\":[\"1960\",\"1970\",\"1980\",\"1990\",\"2000\"],\"y\":[197.323,178.131,160.191,144.214,177.419],\"type\":\"scatter\",\"xaxis\":\"x\",\"yaxis\":\"y2\"},{\"hovertemplate\":\"Jaar: %{x}\\u003cbr\\u003eLife expectancy at birth, total (years): %{y:,.2f}\",\"line\":{\"dash\":\"dot\"},\"name\":\"Life expectancy at birth, total (years) - Kazakhstan\",\"visible\":false,\"x\":[\"1960\",\"1970\",\"1980\",\"1990\",\"2000\"],\"y\":[57.946,60.049,62.516,65.701,63.793],\"type\":\"scatter\",\"xaxis\":\"x\",\"yaxis\":\"y2\"},{\"hovertemplate\":\"Jaar: %{x}\\u003cbr\\u003eMigranten: %{y:,}\",\"line\":{\"width\":2},\"name\":\"Migratie - Jordan\",\"visible\":false,\"x\":[\"1960\",\"1970\",\"1980\",\"1990\",\"2000\"],\"y\":[292500.0,699934.0,1256784.0,1958881.0,2200488.0],\"type\":\"scatter\",\"xaxis\":\"x\",\"yaxis\":\"y\"},{\"hovertemplate\":\"Jaar: %{x}\\u003cbr\\u003eSurvival to age 65, male (% of cohort): %{y:,.2f}\",\"line\":{\"dash\":\"dot\"},\"name\":\"Survival to age 65, male (% of cohort) - Jordan\",\"visible\":false,\"x\":[\"1960\",\"1970\",\"1980\",\"1990\",\"2000\"],\"y\":[44.553466,53.15136,65.677926,71.20959,73.739792],\"type\":\"scatter\",\"xaxis\":\"x\",\"yaxis\":\"y2\"},{\"hovertemplate\":\"Jaar: %{x}\\u003cbr\\u003eMortality rate, adult, female (per 1,000 female adults): %{y:,.2f}\",\"line\":{\"dash\":\"dot\"},\"name\":\"Mortality rate, adult, female (per 1,000 female adults) - Jordan\",\"visible\":false,\"x\":[\"1960\",\"1970\",\"1980\",\"1990\",\"2000\"],\"y\":[326.443,238.142,177.218,131.439,106.129],\"type\":\"scatter\",\"xaxis\":\"x\",\"yaxis\":\"y2\"},{\"hovertemplate\":\"Jaar: %{x}\\u003cbr\\u003eLife expectancy at birth, total (years): %{y:,.2f}\",\"line\":{\"dash\":\"dot\"},\"name\":\"Life expectancy at birth, total (years) - Jordan\",\"visible\":false,\"x\":[\"1960\",\"1970\",\"1980\",\"1990\",\"2000\"],\"y\":[52.678,59.833,66.493,70.094,71.926],\"type\":\"scatter\",\"xaxis\":\"x\",\"yaxis\":\"y2\"},{\"hovertemplate\":\"Jaar: %{x}\\u003cbr\\u003eMigranten: %{y:,}\",\"line\":{\"width\":2},\"name\":\"Migratie - Azerbaijan\",\"visible\":false,\"x\":[\"1960\",\"1970\",\"1980\",\"1990\",\"2000\"],\"y\":[805589.0,1129985.0,1477265.0,2033808.0,3016374.0],\"type\":\"scatter\",\"xaxis\":\"x\",\"yaxis\":\"y\"},{\"hovertemplate\":\"Jaar: %{x}\\u003cbr\\u003eSurvival to age 65, male (% of cohort): %{y:,.2f}\",\"line\":{\"dash\":\"dot\"},\"name\":\"Survival to age 65, male (% of cohort) - Azerbaijan\",\"visible\":false,\"x\":[\"1960\",\"1970\",\"1980\",\"1990\",\"2000\"],\"y\":[34.486872,42.793406,51.737122,52.656525,57.892163],\"type\":\"scatter\",\"xaxis\":\"x\",\"yaxis\":\"y2\"},{\"hovertemplate\":\"Jaar: %{x}\\u003cbr\\u003eMortality rate, adult, female (per 1,000 female adults): %{y:,.2f}\",\"line\":{\"dash\":\"dot\"},\"name\":\"Mortality rate, adult, female (per 1,000 female adults) - Azerbaijan\",\"visible\":false,\"x\":[\"1960\",\"1970\",\"1980\",\"1990\",\"2000\"],\"y\":[273.201,203.461,152.417,141.683,124.847],\"type\":\"scatter\",\"xaxis\":\"x\",\"yaxis\":\"y2\"},{\"hovertemplate\":\"Jaar: %{x}\\u003cbr\\u003eLife expectancy at birth, total (years): %{y:,.2f}\",\"line\":{\"dash\":\"dot\"},\"name\":\"Life expectancy at birth, total (years) - Azerbaijan\",\"visible\":false,\"x\":[\"1960\",\"1970\",\"1980\",\"1990\",\"2000\"],\"y\":[50.862,56.586,61.433,62.75,65.377],\"type\":\"scatter\",\"xaxis\":\"x\",\"yaxis\":\"y2\"},{\"hovertemplate\":\"Jaar: %{x}\\u003cbr\\u003eMigranten: %{y:,}\",\"line\":{\"width\":2},\"name\":\"Migratie - Kuwait\",\"visible\":false,\"x\":[\"1960\",\"1970\",\"1980\",\"1990\",\"2000\"],\"y\":[133490.0,189664.0,323412.0,562113.0,725869.0],\"type\":\"scatter\",\"xaxis\":\"x\",\"yaxis\":\"y\"},{\"hovertemplate\":\"Jaar: %{x}\\u003cbr\\u003eSurvival to age 65, male (% of cohort): %{y:,.2f}\",\"line\":{\"dash\":\"dot\"},\"name\":\"Survival to age 65, male (% of cohort) - Kuwait\",\"visible\":false,\"x\":[\"1960\",\"1970\",\"1980\",\"1990\",\"2000\"],\"y\":[55.468942,70.130546,72.362991,73.90371,81.473815],\"type\":\"scatter\",\"xaxis\":\"x\",\"yaxis\":\"y2\"},{\"hovertemplate\":\"Jaar: %{x}\\u003cbr\\u003eMortality rate, adult, female (per 1,000 female adults): %{y:,.2f}\",\"line\":{\"dash\":\"dot\"},\"name\":\"Mortality rate, adult, female (per 1,000 female adults) - Kuwait\",\"visible\":false,\"x\":[\"1960\",\"1970\",\"1980\",\"1990\",\"2000\"],\"y\":[185.003,104.269,89.688,74.144,68.339],\"type\":\"scatter\",\"xaxis\":\"x\",\"yaxis\":\"y2\"},{\"hovertemplate\":\"Jaar: %{x}\\u003cbr\\u003eLife expectancy at birth, total (years): %{y:,.2f}\",\"line\":{\"dash\":\"dot\"},\"name\":\"Life expectancy at birth, total (years) - Kuwait\",\"visible\":false,\"x\":[\"1960\",\"1970\",\"1980\",\"1990\",\"2000\"],\"y\":[59.20334146341464,68.20204878048783,71.45548780487806,73.41714634146342,76.2258780487805],\"type\":\"scatter\",\"xaxis\":\"x\",\"yaxis\":\"y2\"},{\"hovertemplate\":\"Jaar: %{x}\\u003cbr\\u003eMigranten: %{y:,}\",\"line\":{\"width\":2},\"name\":\"Migratie - Belarus\",\"visible\":false,\"x\":[\"1960\",\"1970\",\"1980\",\"1990\",\"2000\"],\"y\":[3899584.0,4567013.0,4639173.0,5058853.0,3493775.0],\"type\":\"scatter\",\"xaxis\":\"x\",\"yaxis\":\"y\"},{\"hovertemplate\":\"Jaar: %{x}\\u003cbr\\u003eSurvival to age 65, male (% of cohort): %{y:,.2f}\",\"line\":{\"dash\":\"dot\"},\"name\":\"Survival to age 65, male (% of cohort) - Belarus\",\"visible\":false,\"x\":[\"1960\",\"1970\",\"1980\",\"1990\",\"2000\"],\"y\":[66.299656,67.272333,61.496829,60.403858,50.837932],\"type\":\"scatter\",\"xaxis\":\"x\",\"yaxis\":\"y2\"},{\"hovertemplate\":\"Jaar: %{x}\\u003cbr\\u003eMortality rate, adult, female (per 1,000 female adults): %{y:,.2f}\",\"line\":{\"dash\":\"dot\"},\"name\":\"Mortality rate, adult, female (per 1,000 female adults) - Belarus\",\"visible\":false,\"x\":[\"1960\",\"1970\",\"1980\",\"1990\",\"2000\"],\"y\":[104.51,101.532,109.577,107.204,125.338],\"type\":\"scatter\",\"xaxis\":\"x\",\"yaxis\":\"y2\"},{\"hovertemplate\":\"Jaar: %{x}\\u003cbr\\u003eLife expectancy at birth, total (years): %{y:,.2f}\",\"line\":{\"dash\":\"dot\"},\"name\":\"Life expectancy at birth, total (years) - Belarus\",\"visible\":false,\"x\":[\"1960\",\"1970\",\"1980\",\"1990\",\"2000\"],\"y\":[69.25460975609757,70.74448780487806,69.92770731707319,70.83658536585365,68.91219512195123],\"type\":\"scatter\",\"xaxis\":\"x\",\"yaxis\":\"y2\"},{\"hovertemplate\":\"Jaar: %{x}\\u003cbr\\u003eMigranten: %{y:,}\",\"line\":{\"width\":2},\"name\":\"Migratie - Estonia\",\"visible\":false,\"x\":[\"1960\",\"1970\",\"1980\",\"1990\",\"2000\"],\"y\":[195400.0,345621.0,303803.0,381946.0,463050.0],\"type\":\"scatter\",\"xaxis\":\"x\",\"yaxis\":\"y\"},{\"hovertemplate\":\"Jaar: %{x}\\u003cbr\\u003eSurvival to age 65, male (% of cohort): %{y:,.2f}\",\"line\":{\"dash\":\"dot\"},\"name\":\"Survival to age 65, male (% of cohort) - Estonia\",\"visible\":false,\"x\":[\"1960\",\"1970\",\"1980\",\"1990\",\"2000\"],\"y\":[62.668017,62.185099,58.657212,57.820174,57.676141],\"type\":\"scatter\",\"xaxis\":\"x\",\"yaxis\":\"y2\"},{\"hovertemplate\":\"Jaar: %{x}\\u003cbr\\u003eMortality rate, adult, female (per 1,000 female adults): %{y:,.2f}\",\"line\":{\"dash\":\"dot\"},\"name\":\"Mortality rate, adult, female (per 1,000 female adults) - Estonia\",\"visible\":false,\"x\":[\"1960\",\"1970\",\"1980\",\"1990\",\"2000\"],\"y\":[111.092,105.302,112.733,106.786,118.066],\"type\":\"scatter\",\"xaxis\":\"x\",\"yaxis\":\"y2\"},{\"hovertemplate\":\"Jaar: %{x}\\u003cbr\\u003eLife expectancy at birth, total (years): %{y:,.2f}\",\"line\":{\"dash\":\"dot\"},\"name\":\"Life expectancy at birth, total (years) - Estonia\",\"visible\":false,\"x\":[\"1960\",\"1970\",\"1980\",\"1990\",\"2000\"],\"y\":[68.74926829268296,69.92421951219512,69.1147804878049,69.47560975609757,70.41707317073173],\"type\":\"scatter\",\"xaxis\":\"x\",\"yaxis\":\"y2\"},{\"hovertemplate\":\"Jaar: %{x}\\u003cbr\\u003eMigranten: %{y:,}\",\"line\":{\"width\":2},\"name\":\"Migratie - Eritrea\",\"visible\":false,\"x\":[\"1960\",\"1970\",\"1980\",\"1990\",\"2000\"],\"y\":[473620.0,543725.0,581111.0,651007.0,718421.0],\"type\":\"scatter\",\"xaxis\":\"x\",\"yaxis\":\"y\"},{\"hovertemplate\":\"Jaar: %{x}\\u003cbr\\u003eSurvival to age 65, male (% of cohort): %{y:,.2f}\",\"line\":{\"dash\":\"dot\"},\"name\":\"Survival to age 65, male (% of cohort) - Eritrea\",\"visible\":false,\"x\":[\"1960\",\"1970\",\"1980\",\"1990\",\"2000\"],\"y\":[23.627123,27.245431,30.154868,37.738996,46.241806],\"type\":\"scatter\",\"xaxis\":\"x\",\"yaxis\":\"y2\"},{\"hovertemplate\":\"Jaar: %{x}\\u003cbr\\u003eMortality rate, adult, female (per 1,000 female adults): %{y:,.2f}\",\"line\":{\"dash\":\"dot\"},\"name\":\"Mortality rate, adult, female (per 1,000 female adults) - Eritrea\",\"visible\":false,\"x\":[\"1960\",\"1970\",\"1980\",\"1990\",\"2000\"],\"y\":[458.122,434.488,398.575,350.825,296.901],\"type\":\"scatter\",\"xaxis\":\"x\",\"yaxis\":\"y2\"},{\"hovertemplate\":\"Jaar: %{x}\\u003cbr\\u003eLife expectancy at birth, total (years): %{y:,.2f}\",\"line\":{\"dash\":\"dot\"},\"name\":\"Life expectancy at birth, total (years) - Eritrea\",\"visible\":false,\"x\":[\"1960\",\"1970\",\"1980\",\"1990\",\"2000\"],\"y\":[37.443,41.162,44.625,49.733,56.285],\"type\":\"scatter\",\"xaxis\":\"x\",\"yaxis\":\"y2\"},{\"hovertemplate\":\"Jaar: %{x}\\u003cbr\\u003eMigranten: %{y:,}\",\"line\":{\"width\":2},\"name\":\"Migratie - El Salvador\",\"visible\":false,\"x\":[\"1960\",\"1970\",\"1980\",\"1990\",\"2000\"],\"y\":[129134.0,146568.0,318591.0,1137258.0,1870497.0],\"type\":\"scatter\",\"xaxis\":\"x\",\"yaxis\":\"y\"},{\"hovertemplate\":\"Jaar: %{x}\\u003cbr\\u003eSurvival to age 65, male (% of cohort): %{y:,.2f}\",\"line\":{\"dash\":\"dot\"},\"name\":\"Survival to age 65, male (% of cohort) - El Salvador\",\"visible\":false,\"x\":[\"1960\",\"1970\",\"1980\",\"1990\",\"2000\"],\"y\":[36.67199,38.429229,21.643939,48.67218,57.698331],\"type\":\"scatter\",\"xaxis\":\"x\",\"yaxis\":\"y2\"},{\"hovertemplate\":\"Jaar: %{x}\\u003cbr\\u003eMortality rate, adult, female (per 1,000 female adults): %{y:,.2f}\",\"line\":{\"dash\":\"dot\"},\"name\":\"Mortality rate, adult, female (per 1,000 female adults) - El Salvador\",\"visible\":false,\"x\":[\"1960\",\"1970\",\"1980\",\"1990\",\"2000\"],\"y\":[334.011,300.671,248.55,175.681,140.344],\"type\":\"scatter\",\"xaxis\":\"x\",\"yaxis\":\"y2\"},{\"hovertemplate\":\"Jaar: %{x}\\u003cbr\\u003eLife expectancy at birth, total (years): %{y:,.2f}\",\"line\":{\"dash\":\"dot\"},\"name\":\"Life expectancy at birth, total (years) - El Salvador\",\"visible\":false,\"x\":[\"1960\",\"1970\",\"1980\",\"1990\",\"2000\"],\"y\":[48.292,51.364,48.589,61.981,67.711],\"type\":\"scatter\",\"xaxis\":\"x\",\"yaxis\":\"y2\"},{\"hovertemplate\":\"Jaar: %{x}\\u003cbr\\u003eMigranten: %{y:,}\",\"line\":{\"width\":2},\"name\":\"Migratie - Lebanon\",\"visible\":false,\"x\":[\"1960\",\"1970\",\"1980\",\"1990\",\"2000\"],\"y\":[281283.0,393599.0,881132.0,1198245.0,1353979.0],\"type\":\"scatter\",\"xaxis\":\"x\",\"yaxis\":\"y\"},{\"hovertemplate\":\"Jaar: %{x}\\u003cbr\\u003eSurvival to age 65, male (% of cohort): %{y:,.2f}\",\"line\":{\"dash\":\"dot\"},\"name\":\"Survival to age 65, male (% of cohort) - Lebanon\",\"visible\":false,\"x\":[\"1960\",\"1970\",\"1980\",\"1990\",\"2000\"],\"y\":[59.771558,63.504742,47.726237,53.771355,77.498994],\"type\":\"scatter\",\"xaxis\":\"x\",\"yaxis\":\"y2\"},{\"hovertemplate\":\"Jaar: %{x}\\u003cbr\\u003eMortality rate, adult, female (per 1,000 female adults): %{y:,.2f}\",\"line\":{\"dash\":\"dot\"},\"name\":\"Mortality rate, adult, female (per 1,000 female adults) - Lebanon\",\"visible\":false,\"x\":[\"1960\",\"1970\",\"1980\",\"1990\",\"2000\"],\"y\":[183.512,167.092,211.435,147.438,92.867],\"type\":\"scatter\",\"xaxis\":\"x\",\"yaxis\":\"y2\"},{\"hovertemplate\":\"Jaar: %{x}\\u003cbr\\u003eLife expectancy at birth, total (years): %{y:,.2f}\",\"line\":{\"dash\":\"dot\"},\"name\":\"Life expectancy at birth, total (years) - Lebanon\",\"visible\":false,\"x\":[\"1960\",\"1970\",\"1980\",\"1990\",\"2000\"],\"y\":[63.927,66.018,59.909,65.479,73.895],\"type\":\"scatter\",\"xaxis\":\"x\",\"yaxis\":\"y2\"},{\"hovertemplate\":\"Jaar: %{x}\\u003cbr\\u003eMigranten: %{y:,}\",\"line\":{\"width\":2},\"name\":\"Migratie - Lithuania\",\"visible\":false,\"x\":[\"1960\",\"1970\",\"1980\",\"1990\",\"2000\"],\"y\":[1148446.0,1349788.0,1132057.0,1178272.0,1069852.0],\"type\":\"scatter\",\"xaxis\":\"x\",\"yaxis\":\"y\"},{\"hovertemplate\":\"Jaar: %{x}\\u003cbr\\u003eSurvival to age 65, male (% of cohort): %{y:,.2f}\",\"line\":{\"dash\":\"dot\"},\"name\":\"Survival to age 65, male (% of cohort) - Lithuania\",\"visible\":false,\"x\":[\"1960\",\"1970\",\"1980\",\"1990\",\"2000\"],\"y\":[66.045219,64.758933,60.514896,60.651297,60.581478],\"type\":\"scatter\",\"xaxis\":\"x\",\"yaxis\":\"y2\"},{\"hovertemplate\":\"Jaar: %{x}\\u003cbr\\u003eMortality rate, adult, female (per 1,000 female adults): %{y:,.2f}\",\"line\":{\"dash\":\"dot\"},\"name\":\"Mortality rate, adult, female (per 1,000 female adults) - Lithuania\",\"visible\":false,\"x\":[\"1960\",\"1970\",\"1980\",\"1990\",\"2000\"],\"y\":[124.275,108.701,111.573,106.923,102.974],\"type\":\"scatter\",\"xaxis\":\"x\",\"yaxis\":\"y2\"},{\"hovertemplate\":\"Jaar: %{x}\\u003cbr\\u003eLife expectancy at birth, total (years): %{y:,.2f}\",\"line\":{\"dash\":\"dot\"},\"name\":\"Life expectancy at birth, total (years) - Lithuania\",\"visible\":false,\"x\":[\"1960\",\"1970\",\"1980\",\"1990\",\"2000\"],\"y\":[69.84731707317074,70.80439024390245,70.48219512195122,71.16073170731708,72.01951219512195],\"type\":\"scatter\",\"xaxis\":\"x\",\"yaxis\":\"y2\"}],                        {\"template\":{\"data\":{\"histogram2dcontour\":[{\"type\":\"histogram2dcontour\",\"colorbar\":{\"outlinewidth\":0,\"ticks\":\"\"},\"colorscale\":[[0.0,\"#0d0887\"],[0.1111111111111111,\"#46039f\"],[0.2222222222222222,\"#7201a8\"],[0.3333333333333333,\"#9c179e\"],[0.4444444444444444,\"#bd3786\"],[0.5555555555555556,\"#d8576b\"],[0.6666666666666666,\"#ed7953\"],[0.7777777777777778,\"#fb9f3a\"],[0.8888888888888888,\"#fdca26\"],[1.0,\"#f0f921\"]]}],\"choropleth\":[{\"type\":\"choropleth\",\"colorbar\":{\"outlinewidth\":0,\"ticks\":\"\"}}],\"histogram2d\":[{\"type\":\"histogram2d\",\"colorbar\":{\"outlinewidth\":0,\"ticks\":\"\"},\"colorscale\":[[0.0,\"#0d0887\"],[0.1111111111111111,\"#46039f\"],[0.2222222222222222,\"#7201a8\"],[0.3333333333333333,\"#9c179e\"],[0.4444444444444444,\"#bd3786\"],[0.5555555555555556,\"#d8576b\"],[0.6666666666666666,\"#ed7953\"],[0.7777777777777778,\"#fb9f3a\"],[0.8888888888888888,\"#fdca26\"],[1.0,\"#f0f921\"]]}],\"heatmap\":[{\"type\":\"heatmap\",\"colorbar\":{\"outlinewidth\":0,\"ticks\":\"\"},\"colorscale\":[[0.0,\"#0d0887\"],[0.1111111111111111,\"#46039f\"],[0.2222222222222222,\"#7201a8\"],[0.3333333333333333,\"#9c179e\"],[0.4444444444444444,\"#bd3786\"],[0.5555555555555556,\"#d8576b\"],[0.6666666666666666,\"#ed7953\"],[0.7777777777777778,\"#fb9f3a\"],[0.8888888888888888,\"#fdca26\"],[1.0,\"#f0f921\"]]}],\"heatmapgl\":[{\"type\":\"heatmapgl\",\"colorbar\":{\"outlinewidth\":0,\"ticks\":\"\"},\"colorscale\":[[0.0,\"#0d0887\"],[0.1111111111111111,\"#46039f\"],[0.2222222222222222,\"#7201a8\"],[0.3333333333333333,\"#9c179e\"],[0.4444444444444444,\"#bd3786\"],[0.5555555555555556,\"#d8576b\"],[0.6666666666666666,\"#ed7953\"],[0.7777777777777778,\"#fb9f3a\"],[0.8888888888888888,\"#fdca26\"],[1.0,\"#f0f921\"]]}],\"contourcarpet\":[{\"type\":\"contourcarpet\",\"colorbar\":{\"outlinewidth\":0,\"ticks\":\"\"}}],\"contour\":[{\"type\":\"contour\",\"colorbar\":{\"outlinewidth\":0,\"ticks\":\"\"},\"colorscale\":[[0.0,\"#0d0887\"],[0.1111111111111111,\"#46039f\"],[0.2222222222222222,\"#7201a8\"],[0.3333333333333333,\"#9c179e\"],[0.4444444444444444,\"#bd3786\"],[0.5555555555555556,\"#d8576b\"],[0.6666666666666666,\"#ed7953\"],[0.7777777777777778,\"#fb9f3a\"],[0.8888888888888888,\"#fdca26\"],[1.0,\"#f0f921\"]]}],\"surface\":[{\"type\":\"surface\",\"colorbar\":{\"outlinewidth\":0,\"ticks\":\"\"},\"colorscale\":[[0.0,\"#0d0887\"],[0.1111111111111111,\"#46039f\"],[0.2222222222222222,\"#7201a8\"],[0.3333333333333333,\"#9c179e\"],[0.4444444444444444,\"#bd3786\"],[0.5555555555555556,\"#d8576b\"],[0.6666666666666666,\"#ed7953\"],[0.7777777777777778,\"#fb9f3a\"],[0.8888888888888888,\"#fdca26\"],[1.0,\"#f0f921\"]]}],\"mesh3d\":[{\"type\":\"mesh3d\",\"colorbar\":{\"outlinewidth\":0,\"ticks\":\"\"}}],\"scatter\":[{\"fillpattern\":{\"fillmode\":\"overlay\",\"size\":10,\"solidity\":0.2},\"type\":\"scatter\"}],\"parcoords\":[{\"type\":\"parcoords\",\"line\":{\"colorbar\":{\"outlinewidth\":0,\"ticks\":\"\"}}}],\"scatterpolargl\":[{\"type\":\"scatterpolargl\",\"marker\":{\"colorbar\":{\"outlinewidth\":0,\"ticks\":\"\"}}}],\"bar\":[{\"error_x\":{\"color\":\"#2a3f5f\"},\"error_y\":{\"color\":\"#2a3f5f\"},\"marker\":{\"line\":{\"color\":\"#E5ECF6\",\"width\":0.5},\"pattern\":{\"fillmode\":\"overlay\",\"size\":10,\"solidity\":0.2}},\"type\":\"bar\"}],\"scattergeo\":[{\"type\":\"scattergeo\",\"marker\":{\"colorbar\":{\"outlinewidth\":0,\"ticks\":\"\"}}}],\"scatterpolar\":[{\"type\":\"scatterpolar\",\"marker\":{\"colorbar\":{\"outlinewidth\":0,\"ticks\":\"\"}}}],\"histogram\":[{\"marker\":{\"pattern\":{\"fillmode\":\"overlay\",\"size\":10,\"solidity\":0.2}},\"type\":\"histogram\"}],\"scattergl\":[{\"type\":\"scattergl\",\"marker\":{\"colorbar\":{\"outlinewidth\":0,\"ticks\":\"\"}}}],\"scatter3d\":[{\"type\":\"scatter3d\",\"line\":{\"colorbar\":{\"outlinewidth\":0,\"ticks\":\"\"}},\"marker\":{\"colorbar\":{\"outlinewidth\":0,\"ticks\":\"\"}}}],\"scattermapbox\":[{\"type\":\"scattermapbox\",\"marker\":{\"colorbar\":{\"outlinewidth\":0,\"ticks\":\"\"}}}],\"scatterternary\":[{\"type\":\"scatterternary\",\"marker\":{\"colorbar\":{\"outlinewidth\":0,\"ticks\":\"\"}}}],\"scattercarpet\":[{\"type\":\"scattercarpet\",\"marker\":{\"colorbar\":{\"outlinewidth\":0,\"ticks\":\"\"}}}],\"carpet\":[{\"aaxis\":{\"endlinecolor\":\"#2a3f5f\",\"gridcolor\":\"white\",\"linecolor\":\"white\",\"minorgridcolor\":\"white\",\"startlinecolor\":\"#2a3f5f\"},\"baxis\":{\"endlinecolor\":\"#2a3f5f\",\"gridcolor\":\"white\",\"linecolor\":\"white\",\"minorgridcolor\":\"white\",\"startlinecolor\":\"#2a3f5f\"},\"type\":\"carpet\"}],\"table\":[{\"cells\":{\"fill\":{\"color\":\"#EBF0F8\"},\"line\":{\"color\":\"white\"}},\"header\":{\"fill\":{\"color\":\"#C8D4E3\"},\"line\":{\"color\":\"white\"}},\"type\":\"table\"}],\"barpolar\":[{\"marker\":{\"line\":{\"color\":\"#E5ECF6\",\"width\":0.5},\"pattern\":{\"fillmode\":\"overlay\",\"size\":10,\"solidity\":0.2}},\"type\":\"barpolar\"}],\"pie\":[{\"automargin\":true,\"type\":\"pie\"}]},\"layout\":{\"autotypenumbers\":\"strict\",\"colorway\":[\"#636efa\",\"#EF553B\",\"#00cc96\",\"#ab63fa\",\"#FFA15A\",\"#19d3f3\",\"#FF6692\",\"#B6E880\",\"#FF97FF\",\"#FECB52\"],\"font\":{\"color\":\"#2a3f5f\"},\"hovermode\":\"closest\",\"hoverlabel\":{\"align\":\"left\"},\"paper_bgcolor\":\"white\",\"plot_bgcolor\":\"#E5ECF6\",\"polar\":{\"bgcolor\":\"#E5ECF6\",\"angularaxis\":{\"gridcolor\":\"white\",\"linecolor\":\"white\",\"ticks\":\"\"},\"radialaxis\":{\"gridcolor\":\"white\",\"linecolor\":\"white\",\"ticks\":\"\"}},\"ternary\":{\"bgcolor\":\"#E5ECF6\",\"aaxis\":{\"gridcolor\":\"white\",\"linecolor\":\"white\",\"ticks\":\"\"},\"baxis\":{\"gridcolor\":\"white\",\"linecolor\":\"white\",\"ticks\":\"\"},\"caxis\":{\"gridcolor\":\"white\",\"linecolor\":\"white\",\"ticks\":\"\"}},\"coloraxis\":{\"colorbar\":{\"outlinewidth\":0,\"ticks\":\"\"}},\"colorscale\":{\"sequential\":[[0.0,\"#0d0887\"],[0.1111111111111111,\"#46039f\"],[0.2222222222222222,\"#7201a8\"],[0.3333333333333333,\"#9c179e\"],[0.4444444444444444,\"#bd3786\"],[0.5555555555555556,\"#d8576b\"],[0.6666666666666666,\"#ed7953\"],[0.7777777777777778,\"#fb9f3a\"],[0.8888888888888888,\"#fdca26\"],[1.0,\"#f0f921\"]],\"sequentialminus\":[[0.0,\"#0d0887\"],[0.1111111111111111,\"#46039f\"],[0.2222222222222222,\"#7201a8\"],[0.3333333333333333,\"#9c179e\"],[0.4444444444444444,\"#bd3786\"],[0.5555555555555556,\"#d8576b\"],[0.6666666666666666,\"#ed7953\"],[0.7777777777777778,\"#fb9f3a\"],[0.8888888888888888,\"#fdca26\"],[1.0,\"#f0f921\"]],\"diverging\":[[0,\"#8e0152\"],[0.1,\"#c51b7d\"],[0.2,\"#de77ae\"],[0.3,\"#f1b6da\"],[0.4,\"#fde0ef\"],[0.5,\"#f7f7f7\"],[0.6,\"#e6f5d0\"],[0.7,\"#b8e186\"],[0.8,\"#7fbc41\"],[0.9,\"#4d9221\"],[1,\"#276419\"]]},\"xaxis\":{\"gridcolor\":\"white\",\"linecolor\":\"white\",\"ticks\":\"\",\"title\":{\"standoff\":15},\"zerolinecolor\":\"white\",\"automargin\":true,\"zerolinewidth\":2},\"yaxis\":{\"gridcolor\":\"white\",\"linecolor\":\"white\",\"ticks\":\"\",\"title\":{\"standoff\":15},\"zerolinecolor\":\"white\",\"automargin\":true,\"zerolinewidth\":2},\"scene\":{\"xaxis\":{\"backgroundcolor\":\"#E5ECF6\",\"gridcolor\":\"white\",\"linecolor\":\"white\",\"showbackground\":true,\"ticks\":\"\",\"zerolinecolor\":\"white\",\"gridwidth\":2},\"yaxis\":{\"backgroundcolor\":\"#E5ECF6\",\"gridcolor\":\"white\",\"linecolor\":\"white\",\"showbackground\":true,\"ticks\":\"\",\"zerolinecolor\":\"white\",\"gridwidth\":2},\"zaxis\":{\"backgroundcolor\":\"#E5ECF6\",\"gridcolor\":\"white\",\"linecolor\":\"white\",\"showbackground\":true,\"ticks\":\"\",\"zerolinecolor\":\"white\",\"gridwidth\":2}},\"shapedefaults\":{\"line\":{\"color\":\"#2a3f5f\"}},\"annotationdefaults\":{\"arrowcolor\":\"#2a3f5f\",\"arrowhead\":0,\"arrowwidth\":1},\"geo\":{\"bgcolor\":\"white\",\"landcolor\":\"#E5ECF6\",\"subunitcolor\":\"white\",\"showland\":true,\"showlakes\":true,\"lakecolor\":\"white\"},\"title\":{\"x\":0.05},\"mapbox\":{\"style\":\"light\"}}},\"xaxis\":{\"anchor\":\"y\",\"domain\":[0.0,0.94],\"title\":{\"text\":\"Jaar\"}},\"yaxis\":{\"anchor\":\"x\",\"domain\":[0.0,1.0],\"title\":{\"text\":\"Migranten (aantal)\"}},\"yaxis2\":{\"anchor\":\"x\",\"overlaying\":\"y\",\"side\":\"right\",\"title\":{\"text\":\"Indicatorwaarde\"}},\"legend\":{\"orientation\":\"v\",\"yanchor\":\"top\",\"y\":1,\"xanchor\":\"left\",\"x\":1.05,\"bordercolor\":\"Black\",\"borderwidth\":1},\"title\":{\"text\":\"Migratie en indicatoren per land\"},\"hovermode\":\"x unified\",\"updatemenus\":[{\"buttons\":[{\"args\":[{\"visible\":[true,true,true,true,false,false,false,false,false,false,false,false,false,false,false,false,false,false,false,false,false,false,false,false,false,false,false,false,false,false,false,false,false,false,false,false,false,false,false,false,false,false,false,false,false,false,false,false,false,false,false,false,false,false,false,false,false,false,false,false,false,false,false,false,false,false,false,false,false,false,false,false,false,false,false,false,false,false,false,false]},{\"title\":\"Migratie en indicatoren voor Puerto Rico\"}],\"label\":\"Puerto Rico\",\"method\":\"update\"},{\"args\":[{\"visible\":[false,false,false,false,true,true,true,true,false,false,false,false,false,false,false,false,false,false,false,false,false,false,false,false,false,false,false,false,false,false,false,false,false,false,false,false,false,false,false,false,false,false,false,false,false,false,false,false,false,false,false,false,false,false,false,false,false,false,false,false,false,false,false,false,false,false,false,false,false,false,false,false,false,false,false,false,false,false,false,false]},{\"title\":\"Migratie en indicatoren voor Jamaica\"}],\"label\":\"Jamaica\",\"method\":\"update\"},{\"args\":[{\"visible\":[false,false,false,false,false,false,false,false,true,true,true,true,false,false,false,false,false,false,false,false,false,false,false,false,false,false,false,false,false,false,false,false,false,false,false,false,false,false,false,false,false,false,false,false,false,false,false,false,false,false,false,false,false,false,false,false,false,false,false,false,false,false,false,false,false,false,false,false,false,false,false,false,false,false,false,false,false,false,false,false]},{\"title\":\"Migratie en indicatoren voor Albania\"}],\"label\":\"Albania\",\"method\":\"update\"},{\"args\":[{\"visible\":[false,false,false,false,false,false,false,false,false,false,false,false,true,true,true,true,false,false,false,false,false,false,false,false,false,false,false,false,false,false,false,false,false,false,false,false,false,false,false,false,false,false,false,false,false,false,false,false,false,false,false,false,false,false,false,false,false,false,false,false,false,false,false,false,false,false,false,false,false,false,false,false,false,false,false,false,false,false,false,false]},{\"title\":\"Migratie en indicatoren voor West Bank and Gaza\"}],\"label\":\"West Bank and Gaza\",\"method\":\"update\"},{\"args\":[{\"visible\":[false,false,false,false,false,false,false,false,false,false,false,false,false,false,false,false,true,true,true,true,false,false,false,false,false,false,false,false,false,false,false,false,false,false,false,false,false,false,false,false,false,false,false,false,false,false,false,false,false,false,false,false,false,false,false,false,false,false,false,false,false,false,false,false,false,false,false,false,false,false,false,false,false,false,false,false,false,false,false,false]},{\"title\":\"Migratie en indicatoren voor Bosnia and Herzegovina\"}],\"label\":\"Bosnia and Herzegovina\",\"method\":\"update\"},{\"args\":[{\"visible\":[false,false,false,false,false,false,false,false,false,false,false,false,false,false,false,false,false,false,false,false,true,true,true,true,false,false,false,false,false,false,false,false,false,false,false,false,false,false,false,false,false,false,false,false,false,false,false,false,false,false,false,false,false,false,false,false,false,false,false,false,false,false,false,false,false,false,false,false,false,false,false,false,false,false,false,false,false,false,false,false]},{\"title\":\"Migratie en indicatoren voor Ireland\"}],\"label\":\"Ireland\",\"method\":\"update\"},{\"args\":[{\"visible\":[false,false,false,false,false,false,false,false,false,false,false,false,false,false,false,false,false,false,false,false,false,false,false,false,true,true,true,true,false,false,false,false,false,false,false,false,false,false,false,false,false,false,false,false,false,false,false,false,false,false,false,false,false,false,false,false,false,false,false,false,false,false,false,false,false,false,false,false,false,false,false,false,false,false,false,false,false,false,false,false]},{\"title\":\"Migratie en indicatoren voor Georgia\"}],\"label\":\"Georgia\",\"method\":\"update\"},{\"args\":[{\"visible\":[false,false,false,false,false,false,false,false,false,false,false,false,false,false,false,false,false,false,false,false,false,false,false,false,false,false,false,false,true,true,true,true,false,false,false,false,false,false,false,false,false,false,false,false,false,false,false,false,false,false,false,false,false,false,false,false,false,false,false,false,false,false,false,false,false,false,false,false,false,false,false,false,false,false,false,false,false,false,false,false]},{\"title\":\"Migratie en indicatoren voor Armenia\"}],\"label\":\"Armenia\",\"method\":\"update\"},{\"args\":[{\"visible\":[false,false,false,false,false,false,false,false,false,false,false,false,false,false,false,false,false,false,false,false,false,false,false,false,false,false,false,false,false,false,false,false,true,true,true,true,false,false,false,false,false,false,false,false,false,false,false,false,false,false,false,false,false,false,false,false,false,false,false,false,false,false,false,false,false,false,false,false,false,false,false,false,false,false,false,false,false,false,false,false]},{\"title\":\"Migratie en indicatoren voor Trinidad and Tobago\"}],\"label\":\"Trinidad and Tobago\",\"method\":\"update\"},{\"args\":[{\"visible\":[false,false,false,false,false,false,false,false,false,false,false,false,false,false,false,false,false,false,false,false,false,false,false,false,false,false,false,false,false,false,false,false,false,false,false,false,true,true,true,true,false,false,false,false,false,false,false,false,false,false,false,false,false,false,false,false,false,false,false,false,false,false,false,false,false,false,false,false,false,false,false,false,false,false,false,false,false,false,false,false]},{\"title\":\"Migratie en indicatoren voor Moldova\"}],\"label\":\"Moldova\",\"method\":\"update\"},{\"args\":[{\"visible\":[false,false,false,false,false,false,false,false,false,false,false,false,false,false,false,false,false,false,false,false,false,false,false,false,false,false,false,false,false,false,false,false,false,false,false,false,false,false,false,false,true,true,true,true,false,false,false,false,false,false,false,false,false,false,false,false,false,false,false,false,false,false,false,false,false,false,false,false,false,false,false,false,false,false,false,false,false,false,false,false]},{\"title\":\"Migratie en indicatoren voor Kazakhstan\"}],\"label\":\"Kazakhstan\",\"method\":\"update\"},{\"args\":[{\"visible\":[false,false,false,false,false,false,false,false,false,false,false,false,false,false,false,false,false,false,false,false,false,false,false,false,false,false,false,false,false,false,false,false,false,false,false,false,false,false,false,false,false,false,false,false,true,true,true,true,false,false,false,false,false,false,false,false,false,false,false,false,false,false,false,false,false,false,false,false,false,false,false,false,false,false,false,false,false,false,false,false]},{\"title\":\"Migratie en indicatoren voor Jordan\"}],\"label\":\"Jordan\",\"method\":\"update\"},{\"args\":[{\"visible\":[false,false,false,false,false,false,false,false,false,false,false,false,false,false,false,false,false,false,false,false,false,false,false,false,false,false,false,false,false,false,false,false,false,false,false,false,false,false,false,false,false,false,false,false,false,false,false,false,true,true,true,true,false,false,false,false,false,false,false,false,false,false,false,false,false,false,false,false,false,false,false,false,false,false,false,false,false,false,false,false]},{\"title\":\"Migratie en indicatoren voor Azerbaijan\"}],\"label\":\"Azerbaijan\",\"method\":\"update\"},{\"args\":[{\"visible\":[false,false,false,false,false,false,false,false,false,false,false,false,false,false,false,false,false,false,false,false,false,false,false,false,false,false,false,false,false,false,false,false,false,false,false,false,false,false,false,false,false,false,false,false,false,false,false,false,false,false,false,false,true,true,true,true,false,false,false,false,false,false,false,false,false,false,false,false,false,false,false,false,false,false,false,false,false,false,false,false]},{\"title\":\"Migratie en indicatoren voor Kuwait\"}],\"label\":\"Kuwait\",\"method\":\"update\"},{\"args\":[{\"visible\":[false,false,false,false,false,false,false,false,false,false,false,false,false,false,false,false,false,false,false,false,false,false,false,false,false,false,false,false,false,false,false,false,false,false,false,false,false,false,false,false,false,false,false,false,false,false,false,false,false,false,false,false,false,false,false,false,true,true,true,true,false,false,false,false,false,false,false,false,false,false,false,false,false,false,false,false,false,false,false,false]},{\"title\":\"Migratie en indicatoren voor Belarus\"}],\"label\":\"Belarus\",\"method\":\"update\"},{\"args\":[{\"visible\":[false,false,false,false,false,false,false,false,false,false,false,false,false,false,false,false,false,false,false,false,false,false,false,false,false,false,false,false,false,false,false,false,false,false,false,false,false,false,false,false,false,false,false,false,false,false,false,false,false,false,false,false,false,false,false,false,false,false,false,false,true,true,true,true,false,false,false,false,false,false,false,false,false,false,false,false,false,false,false,false]},{\"title\":\"Migratie en indicatoren voor Estonia\"}],\"label\":\"Estonia\",\"method\":\"update\"},{\"args\":[{\"visible\":[false,false,false,false,false,false,false,false,false,false,false,false,false,false,false,false,false,false,false,false,false,false,false,false,false,false,false,false,false,false,false,false,false,false,false,false,false,false,false,false,false,false,false,false,false,false,false,false,false,false,false,false,false,false,false,false,false,false,false,false,false,false,false,false,true,true,true,true,false,false,false,false,false,false,false,false,false,false,false,false]},{\"title\":\"Migratie en indicatoren voor Eritrea\"}],\"label\":\"Eritrea\",\"method\":\"update\"},{\"args\":[{\"visible\":[false,false,false,false,false,false,false,false,false,false,false,false,false,false,false,false,false,false,false,false,false,false,false,false,false,false,false,false,false,false,false,false,false,false,false,false,false,false,false,false,false,false,false,false,false,false,false,false,false,false,false,false,false,false,false,false,false,false,false,false,false,false,false,false,false,false,false,false,true,true,true,true,false,false,false,false,false,false,false,false]},{\"title\":\"Migratie en indicatoren voor El Salvador\"}],\"label\":\"El Salvador\",\"method\":\"update\"},{\"args\":[{\"visible\":[false,false,false,false,false,false,false,false,false,false,false,false,false,false,false,false,false,false,false,false,false,false,false,false,false,false,false,false,false,false,false,false,false,false,false,false,false,false,false,false,false,false,false,false,false,false,false,false,false,false,false,false,false,false,false,false,false,false,false,false,false,false,false,false,false,false,false,false,false,false,false,false,true,true,true,true,false,false,false,false]},{\"title\":\"Migratie en indicatoren voor Lebanon\"}],\"label\":\"Lebanon\",\"method\":\"update\"},{\"args\":[{\"visible\":[false,false,false,false,false,false,false,false,false,false,false,false,false,false,false,false,false,false,false,false,false,false,false,false,false,false,false,false,false,false,false,false,false,false,false,false,false,false,false,false,false,false,false,false,false,false,false,false,false,false,false,false,false,false,false,false,false,false,false,false,false,false,false,false,false,false,false,false,false,false,false,false,false,false,false,false,true,true,true,true]},{\"title\":\"Migratie en indicatoren voor Lithuania\"}],\"label\":\"Lithuania\",\"method\":\"update\"}],\"direction\":\"down\",\"pad\":{\"r\":10,\"t\":10},\"showactive\":true,\"x\":0.5,\"xanchor\":\"center\",\"y\":1,\"yanchor\":\"top\"}],\"height\":400,\"width\":1100},                        {\"responsive\": true}                    ).then(function(){\n",
       "                            \n",
       "var gd = document.getElementById('6aef68f7-4b89-4b7a-be86-5fd8b4ad57ef');\n",
       "var x = new MutationObserver(function (mutations, observer) {{\n",
       "        var display = window.getComputedStyle(gd).display;\n",
       "        if (!display || display === 'none') {{\n",
       "            console.log([gd, 'removed!']);\n",
       "            Plotly.purge(gd);\n",
       "            observer.disconnect();\n",
       "        }}\n",
       "}});\n",
       "\n",
       "// Listen for the removal of the full notebook cells\n",
       "var notebookContainer = gd.closest('#notebook-container');\n",
       "if (notebookContainer) {{\n",
       "    x.observe(notebookContainer, {childList: true});\n",
       "}}\n",
       "\n",
       "// Listen for the clearing of the current output cell\n",
       "var outputEl = gd.closest('.output');\n",
       "if (outputEl) {{\n",
       "    x.observe(outputEl, {childList: true});\n",
       "}}\n",
       "\n",
       "                        })                };                });            </script>        </div>"
      ]
     },
     "metadata": {},
     "output_type": "display_data"
    }
   ],
   "source": [
    "import pandas as pd\n",
    "from plotly.subplots import make_subplots\n",
    "import plotly.graph_objects as go\n",
    "\n",
    "migratie = pd.read_excel(\"P_Data_Extract_From_Global_Bilateral_Migration.xlsx\")\n",
    "wb_data = pd.read_excel(\"P_Data_Extract_From_World_Development_Indicators.xlsx\")\n",
    "\n",
    "landen = [\"Puerto Rico\", \"Jamaica\", \"Albania\", \"West Bank and Gaza\", \"Bosnia and Herzegovina\", \"Ireland\", \"Georgia\", \"Armenia\", \"Trinidad and Tobago\", \"Moldova\", \"Kazakhstan\", \"Jordan\", \"Azerbaijan\", \"Kuwait\", \"Belarus\", \"Estonia\", \"Eritrea\", \"El Salvador\", \"Lebanon\", \"Lithuania\"]\n",
    "indicatoren = [\n",
    "    \"Survival to age 65, male (% of cohort)\",\n",
    "    \"Mortality rate, adult, female (per 1,000 female adults)\",\n",
    "    \"Life expectancy at birth, total (years)\"\n",
    "]\n",
    "\n",
    "jaar_kolommen = [col for col in migratie.columns if col.startswith('19') or col.startswith('20')]\n",
    "jaar_kolommen = sorted(jaar_kolommen, key=lambda x: int(x.split()[0]))\n",
    "\n",
    "fig = make_subplots(specs=[[{\"secondary_y\": True}]])\n",
    "\n",
    "traces = []\n",
    "valid_countries = []\n",
    "\n",
    "for land in landen:\n",
    "    migratie_uit_land = migratie[migratie[\"Country Origin Name\"] == land].copy()\n",
    "    if migratie_uit_land.empty:\n",
    "        continue\n",
    "    for col in jaar_kolommen:\n",
    "        migratie_uit_land[col] = pd.to_numeric(migratie_uit_land[col], errors='coerce')\n",
    "    totaal_migratie = migratie_uit_land[jaar_kolommen].sum()\n",
    "    df_migratie = totaal_migratie.reset_index()\n",
    "    df_migratie.columns = ['Jaar', 'Migranten']\n",
    "    df_migratie['Jaar'] = df_migratie['Jaar'].str.extract(r'(\\d{4})')[0]\n",
    "    indicator_dfs = []\n",
    "    for indicator in indicatoren:\n",
    "        wb_row = wb_data[(wb_data[\"Country Name\"] == land) &\n",
    "                         (wb_data[\"Series Name\"] == indicator)].copy()\n",
    "        if wb_row.empty:\n",
    "            df_empty = pd.DataFrame({'Jaar': df_migratie['Jaar'], indicator: [None]*len(df_migratie)})\n",
    "            indicator_dfs.append(df_empty)\n",
    "            continue\n",
    "\n",
    "        wb_jaar_kolommen = [col for col in wb_row.columns if col.startswith('19') or col.startswith('20')]\n",
    "        for col in wb_jaar_kolommen:\n",
    "            wb_row[col] = pd.to_numeric(wb_row[col], errors='coerce')\n",
    "\n",
    "        df_indicator = wb_row[wb_jaar_kolommen].T.reset_index()\n",
    "        df_indicator.columns = ['Jaar', indicator]\n",
    "        df_indicator['Jaar'] = df_indicator['Jaar'].str.extract(r'(\\d{4})')[0]\n",
    "        indicator_dfs.append(df_indicator)\n",
    "\n",
    "\n",
    "    from functools import reduce\n",
    "    df_indicator_all = reduce(lambda left,right: pd.merge(left,right,on='Jaar', how='outer'), indicator_dfs)\n",
    "\n",
    "    merged = pd.merge(df_migratie, df_indicator_all, on='Jaar', how='inner')\n",
    "\n",
    "    if merged.empty:\n",
    "        continue\n",
    "\n",
    "    valid_countries.append(land)\n",
    "\n",
    "    fig.add_trace(\n",
    "        go.Scatter(\n",
    "            x=merged['Jaar'],\n",
    "            y=merged['Migranten'],\n",
    "            name=f\"Migratie - {land}\",\n",
    "            visible=False,\n",
    "            hovertemplate=\"Jaar: %{x}<br>Migranten: %{y:,}\",\n",
    "            line=dict(width=2)\n",
    "        ),\n",
    "        secondary_y=False\n",
    "    )\n",
    "    traces.append(f\"Migratie - {land}\")\n",
    "\n",
    "    for indicator in indicatoren:\n",
    "        fig.add_trace(\n",
    "            go.Scatter(\n",
    "                x=merged['Jaar'],\n",
    "                y=merged[indicator],\n",
    "                name=f\"{indicator} - {land}\",\n",
    "                visible=False,\n",
    "                line=dict(dash=\"dot\"),\n",
    "                hovertemplate=f\"Jaar: %{{x}}<br>{indicator}: %{{y:,.2f}}\"\n",
    "            ),\n",
    "            secondary_y=True\n",
    "        )\n",
    "        traces.append(f\"{indicator} - {land}\")\n",
    "\n",
    "dropdown_buttons = []\n",
    "\n",
    "for land in valid_countries:\n",
    "\n",
    "    visibility = []\n",
    "    for trace_name in traces:\n",
    "        if land in trace_name:\n",
    "            visibility.append(True)\n",
    "        else:\n",
    "            visibility.append(False)\n",
    "    dropdown_buttons.append(\n",
    "        dict(\n",
    "            label=land,\n",
    "            method=\"update\",\n",
    "            args=[{\"visible\": visibility},\n",
    "                  {\"title\": f\"Migratie en indicatoren voor {land}\"}]\n",
    "        )\n",
    "    )\n",
    "\n",
    "\n",
    "fig.update_layout(\n",
    "    title=\"Migratie en indicatoren per land\",\n",
    "    xaxis_title=\"Jaar\",\n",
    "    hovermode=\"x unified\",\n",
    "    legend=dict(\n",
    "        orientation=\"v\",\n",
    "        yanchor=\"top\",\n",
    "        y=1,\n",
    "        xanchor=\"left\",\n",
    "        x=1.05,\n",
    "        bordercolor=\"Black\",\n",
    "        borderwidth=1\n",
    "    ),\n",
    "    updatemenus=[\n",
    "        dict(\n",
    "            buttons=dropdown_buttons,\n",
    "            direction=\"down\",\n",
    "            pad={\"r\": 10, \"t\": 10},\n",
    "            showactive=True,\n",
    "            x=0.5,         \n",
    "            xanchor=\"center\",  \n",
    "            y=1,            \n",
    "            yanchor=\"top\" \n",
    "        )\n",
    "    ],\n",
    "    height=400,\n",
    "    width=1100  \n",
    ")\n",
    "\n",
    "fig.update_yaxes(title_text=\"Migranten (aantal)\", secondary_y=False)\n",
    "fig.update_yaxes(title_text=\"Indicatorwaarde\", secondary_y=True)\n",
    "for i, trace in enumerate(fig.data):\n",
    "    fig.data[i].visible = \"Puerto Rico\" in traces[i]\n",
    "\n",
    "\n",
    "\n",
    "fig.show()\n"
   ]
  },
  {
   "cell_type": "markdown",
   "id": "955307a5-2f7d-4113-89cc-91adf8133acf",
   "metadata": {},
   "source": [
    "> Figuur 4: Een visualisatie van de top 20 landen met de meeste emigratie tov de bevolking samen met drie indicatoren die de leefomstandigheden samenvatten van een land (Zie legenda voor kleur aanduidingen). Het doel van de visualisatie is om de lezer interactief te tonen dat ieder land niet per se een directe connectie heeft tussen migratie en slechte leefomstandigheden en dus deels het tegendeel wordt bewezen van ons perspectief."
   ]
  },
  {
   "cell_type": "markdown",
   "id": "cd9ccbc3-4960-42c0-9866-321dcf03d2cd",
   "metadata": {},
   "source": [
    "Uit de visualisatie hierboven aangegeven kunnen we een paar conclusies trekken. Allereerst zien we dat slechte levensomstandigheden niet altijd een garantie voor verhoging in migratiecijfers zijn, bij Puerto Rico zien we bijvoorbeeld dat het aantal migranten over de jaren heen wisselt samen met de cijfers van de gekozen indicatoren. Dit geeft wel aan dat er een verband is tussen migratie en de veranderingen in de leefomstandigheden en gezondheid van mensen, maar dat heeft niet altijd een stijging van migratie als gevolg.\n",
    "\n",
    "Uit sommige specifieke gevallen zoals Mexico eerder gegeven is deze conclusie wel te trekken. Een ander specifiek geval waar deze conclusie is te trekken is Ierland, dit land heeft een massale toename in migratie tussen de jaren 1960-1970. Deze massale toename in migratie is net zoals bij Mexico een historische gebeurtenis verbonden, tijdens deze periode heeft zich “The Troubles” afgespeeld in Noord-Ierland waar conflict en onrust het thema was in deze periode(Gilmartin, 2022). Deze historische evenementen die een slechte leefomstandigheid vormen voor de burger van zowel Mexico als Ierland laat zien dat slechte levensomstandigheden wel degelijk uitmaken voor een toename in migratie wereldwijd maar de visualisatie geeft ook het tegendeel van ons perspectief aan namelijk dat slechte leefomstandigheden niet de centrale reden is voor massale migratie wereldwijd.\n"
   ]
  },
  {
   "cell_type": "code",
   "execution_count": null,
   "id": "ee097ee9-652d-4359-b37d-8925679af08f",
   "metadata": {},
   "outputs": [],
   "source": []
  }
 ],
 "metadata": {
  "kernelspec": {
   "display_name": "Python 3 (ipykernel)",
   "language": "python",
   "name": "python3"
  },
  "language_info": {
   "codemirror_mode": {
    "name": "ipython",
    "version": 3
   },
   "file_extension": ".py",
   "mimetype": "text/x-python",
   "name": "python",
   "nbconvert_exporter": "python",
   "pygments_lexer": "ipython3",
   "version": "3.12.7"
  }
 },
 "nbformat": 4,
 "nbformat_minor": 5
}
