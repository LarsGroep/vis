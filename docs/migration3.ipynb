
{
 "cells": [
  {
   "cell_type": "markdown",
   "id": "43182ed2-fad8-4957-b89d-d9217fe2de47",
   "metadata": {},
   "source": [
    "# Data Story: Het verband tussen de levenstandaarden in een land en migratie\n",
    "\n",
    "1. Lars van der Groep 14346168\n",
    "2. Guido Elzer 15817628 \n",
    "3. Simon van Rooij 15692221 \n",
    "\n",
    "## Inleiding\n",
    "Migratie is al erg lang een erg belangrijk onderwerp waar de meningen verdeeld over zijn. Er zijn namelijk verschillende redenen>
    "\n",
    "#### Eerste perspectief: \n",
    "Migranten emigreren vooral uit hun eigen land omdat de levensomstandigheden in hun eigen land te slecht/gevaarlijk zijn om een n>
    "\n",
    "##### Argument 1: Landen met een historische gebeurtenis wat de leefomstandigheden onleefbaar maakt hebben een sterke stijging v>
    "##### Argument 2: Er is sprake van een zichtbaar verband tussen migratiecijfers een slechte leefomstandigheden maar een slechte >
    "\n",
    "\n",
    "#### Tweede perspectief: \n",
    "Migratie heeft niet per se te maken met hoe slecht het met een land gaat maar eerder met hoe goed het met de buurlanden gaat.\n",
    "\n",
    "##### Eerste argument: Mortality Rate en Migratie \n",
    "##### Tweede argument: gemiddeld BBP per persoon en emigratiepercentage trendline\n",
    "##### Derde argument: buurlandverschillen\n"
   ]
  },
  {
   "cell_type": "code",
   "execution_count": 1,
   "id": "dff52d55-1a35-4c72-a8be-27bf22a350f0",
   "metadata": {},
   "outputs": [
    {
     "data": {
      "text/html": [
       "        <script type=\"text/javascript\">\n",
       "        window.PlotlyConfig = {MathJaxConfig: 'local'};\n",
       "        if (window.MathJax && window.MathJax.Hub && window.MathJax.Hub.Config) {window.MathJax.Hub.Config({SVG: {font: \"STIX>
       "        if (typeof require !== 'undefined') {\n",
       "        require.undef(\"plotly\");\n",
       "        requirejs.config({\n",
       "            paths: {\n",
       "                'plotly': ['https://cdn.plot.ly/plotly-2.35.2.min']\n",
       "            }\n",
       "        });\n",
       "        require(['plotly'], function(Plotly) {\n",
       "            window._Plotly = Plotly;\n",
       "        });\n",
       "        }\n",
       "        </script>\n",
       "        "
      ]
     },
     "metadata": {},
     "output_type": "display_data"
    }
   ],
   "source": [
    "import pandas as pd\n",
    "import plotly.express as px\n",
    "import plotly.graph_objs as go\n",
    "from plotly.offline import init_notebook_mode\n",
    "from plotly.subplots import make_subplots\n",
    "init_notebook_mode(connected=True)\n",
    "from IPython.display import display, HTML\n",
                                                        

